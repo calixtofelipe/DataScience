{
 "cells": [
  {
   "cell_type": "code",
   "execution_count": 7,
   "metadata": {},
   "outputs": [],
   "source": [
    "import pandas as pd\n",
    "import numpy as np\n",
    "\n",
    "import torch\n",
    "import torch.nn as nn\n",
    "import torch.nn.functional as F\n",
    "import torch.optim as optim\n",
    "from torch.utils.data import Dataset, DataLoader, WeightedRandomSampler\n",
    "from sklearn.model_selection import train_test_split\n",
    "from tqdm.notebook import tqdm\n",
    "import os\n",
    "from sklearn.metrics import f1_score\n",
    "import seaborn as sns\n",
    "from sklearn.preprocessing import MinMaxScaler    \n",
    "from sklearn.metrics import confusion_matrix, classification_report\n",
    "import matplotlib.pyplot as plt\n",
    "import pycuda.driver as cuda\n",
    "from unidecode import unidecode\n",
    "from sklearn.preprocessing import LabelEncoder\n",
    "import re"
   ]
  },
  {
   "cell_type": "code",
   "execution_count": 20,
   "metadata": {},
   "outputs": [],
   "source": [
    "from tensorflow.keras.preprocessing.text import Tokenizer\n",
    "from tensorflow.keras.preprocessing.sequence import pad_sequences"
   ]
  },
  {
   "cell_type": "code",
   "execution_count": 2,
   "metadata": {},
   "outputs": [],
   "source": [
    "train = pd.read_csv('../dados/Hackathon_Base_Treino_comdep.csv',sep=',')\n",
    "test = pd.read_csv('../dados/Hackathon_Base_Teste.csv',sep=',',index_col=0)\n",
    "dbExterno = pd.read_csv('../dados/baseExterno/dbExternoV009.csv',sep=',',index_col=0)\n",
    "dbExterno.columns = ['DESCRIÇÃO PARCEIRO','CATEGORIA']"
   ]
  },
  {
   "cell_type": "code",
   "execution_count": 4,
   "metadata": {},
   "outputs": [],
   "source": [
    "grupos = pd.read_csv('../envios/grupos.csv', index_col='Unnamed: 0')\n",
    "from sklearn.preprocessing import LabelEncoder\n",
    "cats_encoder = LabelEncoder()\n",
    "grupos['categoria_encoded'] = cats_encoder.fit_transform(grupos['CATEGORIA'])"
   ]
  },
  {
   "cell_type": "code",
   "execution_count": 5,
   "metadata": {},
   "outputs": [],
   "source": [
    "dadosFull = pd.concat([train[['DESCRIÇÃO PARCEIRO','CATEGORIA']],dbExterno[['DESCRIÇÃO PARCEIRO','CATEGORIA']],\n",
    "                       test[['DESCRIÇÃO PARCEIRO']]], ignore_index=True, sort=False) "
   ]
  },
  {
   "cell_type": "code",
   "execution_count": 8,
   "metadata": {},
   "outputs": [],
   "source": [
    "REPLACE_BY_SPACE_RE = re.compile('\\[/(){}\\[\\]\\|@,;')\n",
    "BAD_SYMBOLS_RE = re.compile('[^0-9a-z #+_]')"
   ]
  },
  {
   "cell_type": "code",
   "execution_count": 9,
   "metadata": {},
   "outputs": [],
   "source": [
    "def putCharBtw(x,letra,sep):\n",
    "    rex = re.compile('[0-9]'+letra)\n",
    "    if rex.search(x)==None:\n",
    "        return x\n",
    "    else:\n",
    "        inicio = (rex.search(x).start())+1\n",
    "        newString = x[:inicio]+sep+x[inicio:]\n",
    "        return newString\n",
    "\n",
    "def buscaEreplace(text,term1, term2, wordreplaceTerm2):\n",
    "    if term1 in text:\n",
    "        if term2 in text:\n",
    "            #print(text,' '+term2+' ',' '+wordreplaceTerm2+' ')\n",
    "            text = text.replace(term2,wordreplaceTerm2)\n",
    "            \n",
    "    return text\n",
    "\n",
    "\n",
    "def changeWordBeforePosition(text,term1, term2, position):\n",
    "    pos = 0\n",
    "    for t in text.split():\n",
    "        pos=pos+1\n",
    "        if (t==term1) & (pos <= position):\n",
    "            text = text.replace(term1,term2)\n",
    "            #print(\"entrou\",text)\n",
    "            break\n",
    "    return text\n",
    "\n",
    "def changeWordAfterPosition(text,term1, term2, position):\n",
    "    pos = 0\n",
    "    for t in text.split():\n",
    "        pos=pos+1\n",
    "        if (t==term1) & (pos <= position):\n",
    "            text = text.replace(term1,term2)\n",
    "            #print(\"entrou\",text)\n",
    "            break\n",
    "    return text\n",
    "\n",
    "\n",
    "def replaceWord(text, antiga, nova):\n",
    "    text = [nova if t == antiga else t for t in text.split()]\n",
    "    return ' '.join(text)\n",
    "    #['corte' if t in 'cortess' else t for t in text.split()]"
   ]
  },
  {
   "cell_type": "code",
   "execution_count": 10,
   "metadata": {},
   "outputs": [],
   "source": [
    "def clean_text(text):\n",
    "    \"\"\"\n",
    "        text: a string\n",
    "        \n",
    "        return: modified initial string\n",
    "    \"\"\"\n",
    "    text = text.lower() # lowercase text\n",
    "    text = unidecode(text)\n",
    "    text = replaceWord(text,'+', ' + ')\n",
    "    text = replaceWord(text,'.', ' . ')\n",
    "    text = replaceWord(text,'.', ' ')\n",
    "    text = replaceWord(text,'-', ' ')\n",
    "    text = replaceWord(text,'+', ' ')\n",
    "    text = replaceWord(text,'d', ' ')\n",
    "    text = replaceWord(text, 'n', '')\n",
    "    text = replaceWord(text,'c', '')\n",
    "    text = replaceWord(text, 'pcte', 'pct')\n",
    "    text = replaceWord(text,'pt', 'pct')\n",
    "    text = text.replace(r'c/',' com ')\n",
    "    text = text.replace(r\"\\.c/\",' com ')\n",
    "    text = text.replace(r'-c/',' com ')\n",
    "    text = text.replace(' s/',' sem ')\n",
    "    text = text.replace(r'\\.s/',' sem ')\n",
    "    text = text.replace(r'-s/',' sem ')\n",
    "    text = text.replace(' p/',' para ')\n",
    "    text = text.replace(r'\\.p/',' para ')\n",
    "    text = text.replace(r'-p/',' para ')\n",
    "    text = putCharBtw(text,'ml',' ')\n",
    "    text = putCharBtw(text,'kg',' ')\n",
    "    text = putCharBtw(text,'g',' ')\n",
    "    text = putCharBtw(text,'gr',' ')\n",
    "    text = putCharBtw(text,'cm',' ')\n",
    "    text = putCharBtw(text,'l',' ')\n",
    "    text = putCharBtw(text,'mm',' ')\n",
    "    text = putCharBtw(text,'mt',' ')\n",
    "    text = putCharBtw(text,'un',' ')\n",
    "    text = text.replace('/',' / ')\n",
    "    text = text.replace('/','')\n",
    "    text = REPLACE_BY_SPACE_RE.sub(' ', text) # replace REPLACE_BY_SPACE_RE symbols by space in text. substitute the matched string in REPLACE_BY_SPACE_RE with space.\n",
    "    #text = BAD_SYMBOLS_RE.sub('', text) # remove symbols which are in BAD_SYMBOLS_RE from text. substitute the matched string in BAD_SYMBOLS_RE with nothing. \n",
    "    #text = ' '.join(word for word in text.split() if word not in STOPWORDS) # remove stopwors from text\n",
    "    text = text.replace('  ',' ')\n",
    "    text = text.replace('  ',' ')\n",
    "    text = replaceWord(text,'c', '')\n",
    "    text = replaceWord(text,'com', '')\n",
    "    text = replaceWord(text,'de', '')\n",
    "    text = replaceWord(text,'sem', '')\n",
    "    text = replaceWord(text,'para', '')\n",
    "    text = replaceWord(text,'cortes', 'corte')\n",
    "    text = replaceWord(text,'pvc', 'past')\n",
    "    text = replaceWord(text,'rapadu', 'rapadura')\n",
    "    text = replaceWord(text,'melanina', 'melan')\n",
    "    text = replaceWord(text,'unid', 'un')\n",
    "    text = text.replace('mix berrys ', 'mix grao ')\n",
    "    text = text.replace(' louro cl', ' louro claro')\n",
    "    text = 'bola natal' if 'bola natal' in text else text\n",
    "    text = text.replace('beefbone ', 'alim cao ')\n",
    "    text = text.replace('cera capilar', 'gel fix')\n",
    "    text = text.replace('cera p cab', 'gel fix')\n",
    "    text = buscaEreplace(text,' 2 l', 'refriger ', 'refrigerante ')\n",
    "    text = replaceWord(text,'refriger', 'refrigerador')\n",
    "    text = replaceWord(text,'dental', ' dent')\n",
    "    text = text.replace('humus de minhoca', 'adubo')\n",
    "    text = replaceWord(text,'frutas', 'fruta')\n",
    "    text = replaceWord(text,'carambola', 'carambola fruta')\n",
    "    text = text.replace('cre mao ', 'creme mao ')\n",
    "    text = replaceWord(text,' maos ', ' mao ')\n",
    "    text = replaceWord(text,' organico', ' org')\n",
    "    text = replaceWord(text,'chedda', 'cheddar')\n",
    "    text = replaceWord(text,' caes', ' cao')\n",
    "    text = replaceWord(text,'integral', 'integ')\n",
    "    text = replaceWord(text,'congelada', 'cong')\n",
    "    text = replaceWord(text,'resfriado', 'resf')\n",
    "    text = replaceWord(text,'resfriada', 'resf')\n",
    "    text = replaceWord(text,'fresca', 'fresc')\n",
    "    text = replaceWord(text,'fresco', 'fresco')\n",
    "    text = replaceWord(text,'marinex', 'vidro')\n",
    "    text = replaceWord(text,'esfirra', 'esfiha')\n",
    "    text = text.replace('caf esfiha ', 'esfiha ')\n",
    "    text = text.replace('mousse charming', 'fixador')\n",
    "    text = replaceWord(text,'hamburguinho', 'hamb')\n",
    "    text = replaceWord(text,'kids', 'inf')\n",
    "    text = replaceWord(text,'garrafas', 'garrafa')\n",
    "    text = replaceWord(text,'cuticula', 'cutic')\n",
    "    text = text.replace('papel alum ', 'papel aluminio ')\n",
    "    text = replaceWord(text,'champignon', 'cogumelo champignon')\n",
    "    text = text.replace('cogumelo cogumelo champignon', 'cogumelo champignon')    \n",
    "    text = replaceWord(text,'automotiva', 'automotivo')\n",
    "    text = replaceWord(text,'polietileno', 'plast')\n",
    "    text = replaceWord(text,'suin', 'suino')\n",
    "    text = replaceWord(text,'suina', 'suino')\n",
    "    text = replaceWord(text,'plastico', 'plast')\n",
    "    text = text.replace('vinho espumante', 'espumante vinho')\n",
    "    text = replaceWord(text,'festa', 'fest')\n",
    "    text = replaceWord(text,'infantil', 'inf')\n",
    "    text = replaceWord(text,'tabl', 'tablete')\n",
    "    text = replaceWord(text,'tablet', 'tablete')\n",
    "    text = replaceWord(text,'dental', 'dent')\n",
    "    text = replaceWord(text,'desodorante ', 'desod')\n",
    "    text = replaceWord(text,'feminino', 'fem')\n",
    "    text = replaceWord(text,'multuso', 'multiuso')\n",
    "    text = replaceWord(text,'m-uso', 'multiuso')\n",
    "    text = replaceWord(text,'ativador ', 'ativ')\n",
    "    text = replaceWord(text,'bovino ', 'bov')\n",
    "    text = replaceWord(text,'baby', ' baby')\n",
    "    text = replaceWord(text,'brinquedo', 'brinq')\n",
    "    text = replaceWord(text,'madeira', 'mad')\n",
    "    text = replaceWord(text,'hidratante', 'hidrat ')\n",
    "    text = replaceWord(text,'limpeza', 'limp')\n",
    "    text = replaceWord(text,'iakon', 'yakon')\n",
    "    text = replaceWord(text,'pepininhos', 'pepino')\n",
    "    text = replaceWord(text,'pepininho', 'pepino')\n",
    "    text = replaceWord(text,'repelente', 'repel')\n",
    "    text = replaceWord(text,'verde', 'vde')\n",
    "    text = replaceWord(text,'bacalhau','bacal')\n",
    "    text = replaceWord(text,'liquido','liq')\n",
    "    text = buscaEreplace(text,'massa ', ' fr ', 'fresc ')\n",
    "    text = buscaEreplace(text,'pentear', 'creme ', 'cr ')\n",
    "    text = buscaEreplace(text,' dental', 'esc ', 'escova ')\n",
    "    text = buscaEreplace(text,' dent', 'esc ', 'escova ')\n",
    "    text = buscaEreplace(text,'escova ', 'dent', 'dental ')\n",
    "    text = text.replace('ed inf', ' escova dental inf ')\n",
    "    text = buscaEreplace(text,'saboneteira', 'inox ', '')\n",
    "    text = buscaEreplace(text,'lixeira', 'inox ', '')\n",
    "    text = buscaEreplace(text,' unha', 'inox ', '')\n",
    "    text = buscaEreplace(text,'pet 2 l', 'ref ', 'refrigerante ')\n",
    "    text = buscaEreplace(text,'peixe ', ' con', ' cong')\n",
    "    text = replaceWord(text,'cabelos', 'cab')\n",
    "    text = replaceWord(text,'cabelo', 'cab')\n",
    "    text = replaceWord(text,'esfirra', 'esfiha')\n",
    "    text = replaceWord(text,'esfirras', 'esfiha')\n",
    "    text = replaceWord(text,'crinca', 'infantil')\n",
    "    text = text.replace('sabonete ', 'sab ')\n",
    "    text = replaceWord(text,'cereal', 'cereal mat')\n",
    "    text = text.replace('cereal mat mat', 'cereal mat')\n",
    "    text = text.replace('aroma das indias', 'temp')\n",
    "    text = text.replace('bisc povilho', 'salg povilho')\n",
    "    text = text.replace('biscoito de povilho', 'salg povilho')\n",
    "    text = replaceWord(text,'facial', 'fac')\n",
    "    text = text.replace('barras energ', 'barra cereal')\n",
    "    text = replaceWord(text,'plasvale', 'plast')\n",
    "    text = replaceWord(text,'sabon', 'sab')\n",
    "    text = text.replace('kit cobre leito', 'cobre leito')\n",
    "    text = replaceWord(text,'xicaras', 'xicara')\n",
    "    text = text.replace('goma mascar', 'chiclete')\n",
    "    text = replaceWord(text,'pimenta ', 'pim ')\n",
    "    text = replaceWord(text,'pimen ', 'pim ')\n",
    "    text = replaceWord(text,'pvc ', 'plast ')\n",
    "    text = replaceWord(text,'espatulas', 'espatula')\n",
    "    text = replaceWord(text,'churrasco', 'churras')\n",
    "    text = text.replace('limp banheiro', 'limp banh')\n",
    "    text = replaceWord(text,'termica', 'term')\n",
    "    text = text.replace('pote vd', 'pote vidro')\n",
    "    text = text.replace('caneca vd', 'caneca vidro')\n",
    "    text = text.replace('prato fundo vd', 'prato fundo vidro')\n",
    "    text = text.replace('hot chilli', 'pimenta')\n",
    "    text = text.replace('sabon liq int', 'sab intimo')\n",
    "    text = text.replace('sab int', 'sab intimo')\n",
    "    text = text.replace('sabonete liquido intimo', 'sab intimo')\n",
    "    text = text.replace('pre action', 'sup alim')\n",
    "    text = text.replace('grapettinho', 'refrigerante')\n",
    "    text = text.replace('ref tri cola', 'refrigerante cola')\n",
    "    text = text.replace('mist prep liq cha', 'cha')\n",
    "    text = replaceWord(text,'peix', 'peixe ')\n",
    "    text = text.replace('limpador limpeza pesada', 'limp pezada')\n",
    "    text = replaceWord(text,'provolone', 'queijo provolone')\n",
    "    text = text.replace('queijo queijo provolone', 'queijo provolone')\n",
    "    #text = replaceWord(text,'macarrao', 'mac')\n",
    "    text = replaceWord(text,'baby', 'inf')\n",
    "    text = text.replace('alimento passaro', 'alim passaro')\n",
    "    text = replaceWord(text,'panet', 'panetone')\n",
    "    text = replaceWord(text,'pa higienica', 'pa hig')\n",
    "    text = text.replace('file fgo', 'file frango')\n",
    "    text = replaceWord(text,'masculino', 'masc')\n",
    "    text = replaceWord(text,'feminino', 'fem')\n",
    "    text = replaceWord(text,'corporal', 'corpo')\n",
    "    text = text.replace('cr leite', 'creme de leite')\n",
    "    text = replaceWord(text,'keldog', 'cao')\n",
    "    text = replaceWord(text,'barbea', 'cao')\n",
    "    text = replaceWord(text,'barber', 'cao')\n",
    "    text = replaceWord(text,'barbear', 'cao')\n",
    "    text = text.replace('cr barb', 'espuma barb')\n",
    "    text = text.replace('refrigerante', 'refrig')\n",
    "    text = buscaEreplace(text,'antartica', 'guarana', 'refrig guarana')\n",
    "    text = text.replace('refrig refrig guarana', 'refrig guarana')\n",
    "    text = replaceWord(text,'popcorn', 'pipoca')\n",
    "    text = text.replace('salg coxinha', 'coxinha')\n",
    "    text = text.replace('salg coxinhas', 'coxinha')\n",
    "    text = replaceWord(text,'macas', 'maca')\n",
    "    text = text.replace('limp lysoform', 'desinf lysoform')\n",
    "    text = buscaEreplace(text,'caneca ', ' cer ', ' ceram ')\n",
    "    text = text.replace('baguete com queijo', 'baguete')\n",
    "    text = text.replace('baguete queijo', 'baguete')\n",
    "    text = text.replace('livros', 'livro')\n",
    "    text = text.replace('temp sazon', 'caldo sazon')\n",
    "    text = text.replace('begonia', 'flor nat begonia')\n",
    "    text = text.replace('flor nat flor nat begonia', 'flor nat begonia')\n",
    "    text = replaceWord(text,'crocantissimo', 'bisc int')\n",
    "    text = replaceWord(text,'carrinho', 'carro')\n",
    "    text = replaceWord(text,'inseticida', 'inset')\n",
    "    text = replaceWord(text,'inseti', 'inset')\n",
    "    text = replaceWord(text,'sorrentinos', 'massa fr')\n",
    "    text = text.replace('folha file suculento maggi', 'temp maggi')\n",
    "    text = text.replace('amendoa laminada', 'amendoa casca')\n",
    "    text = text.replace('barra cer ', 'barra cereal ')\n",
    "    text = text.replace('supino banana', 'barra cereal supino banana')\n",
    "    text = text.replace('barra cereal barra cereal supino banana', 'barra cereal supino banana')\n",
    "    text = text.replace('pura nata cheddar', 'queijo cheddar pura nata')\n",
    "    text = text.replace('kids kids', 'inf')\n",
    "    text = text.replace('choc inf', 'choc')\n",
    "    text = text.replace('goiabinha', 'goiabada')\n",
    "    text = text.replace('CarXparts', 'automotivo')\n",
    "    text = text.replace('eberg', 'energetico')\n",
    "    text = text.replace('geladinho', 'sorvete')\n",
    "    text = text.replace('quibe', 'kibe')\n",
    "    text = replaceWord(text,'para', '')\n",
    "    text = replaceWord(text,'legumes', 'legume')\n",
    "    text = replaceWord(text,'cachorro', 'cao')\n",
    "    text = replaceWord(text,'caes', 'cao')\n",
    "    text = text.replace('mix leg', 'mix legume')\n",
    "    text = text.replace('alim p cao', 'alim cao')\n",
    "    text = text.replace('biscoito cao', 'alim cao')\n",
    "    text = text.replace('coxinha da asa fgo', 'coxinha asa frango')\n",
    "    text = text.replace('coxinha asa fg', 'coxinha asa frango')\n",
    "    text = text.replace('coxinha asa', 'coxinha asa frango')\n",
    "    text = text.replace('coxinha frango cong', 'coxinha asa frango cong')\n",
    "    text = text.replace('coxinha da asa', 'coxinha asa frango')\n",
    "    text = text.replace('coxinha da asa fgo', 'coxinha asa frango')\n",
    "    text = text.replace('palito fibras', 'barra cereal')\n",
    "    text = text.replace('cozinha carnaroli', 'arroz carnaroli')\n",
    "    text = buscaEreplace(text,'abas', 'intimus ', 'abs intimus ')\n",
    "    text = text.replace('abs abs intimus', 'abs intimus')\n",
    "    text = text.replace('graos', 'grao')\n",
    "    text = text.replace('bombocado ', 'mist bolo bombocado ')\n",
    "    text = text.replace('mist bolo mist bolo bombocado', 'mist bolo bombocado')\n",
    "    text = buscaEreplace(text,'palito', ' chur ', ' churras ')\n",
    "    text = text.replace('esteira sudare', 'sushi esteira sudare')\n",
    "    text = text.replace('escova profissional thermal', 'escova cab thermal')\n",
    "    text = replaceWord(text,'rosbife', 'rosbife bovino')\n",
    "    text = text.replace('rosbife rosbife bovino', 'rosbife bovino')\n",
    "    text = text.replace('termog ', 'suplem termogenico ')\n",
    "    text = text.replace('suplemento ', 'suplem ')\n",
    "    text = text.replace('suplem suplem termogenico ', 'suplem termogenico ')\n",
    "    text = replaceWord(text,'fosforos', 'fosforo')\n",
    "    text = replaceWord(text,'carxparts', 'automotivo')\n",
    "    text = text.replace('sab fac ', 'sab facial ')\n",
    "    text = text.replace('lenc fac ', 'lenco facial ')\n",
    "    text = text.replace('lenco fac ', 'lenco facial ')\n",
    "    text = buscaEreplace(text,'solar', ' fac ', ' facial ')\n",
    "    text = text.replace('mac ital ', 'mac ita ')\n",
    "    text = text.replace('massa ital ', 'mac ita ')\n",
    "    text = replaceWord(text,'organico', 'org')\n",
    "    text = replaceWord(text,'organic', 'org')\n",
    "    text = replaceWord(text,'organ', 'org')\n",
    "    text = text.replace('ext virg', 'extra virgem')\n",
    "    text = text.replace('beb energ', 'beb energetico')\n",
    "    text = replaceWord(text,'energet', 'energetico')\n",
    "    text = text.replace('suco nat', 'suco natural')\n",
    "    text = replaceWord(text,'caderneta', 'caderno tilibra')\n",
    "    text = buscaEreplace(text,'beijinho', 'doce ', 'doce fest beijinho ')\n",
    "    text = text.replace('presilha cab', 'prendedor cab')\n",
    "    text = text.replace('tilpapia', 'tilapia')\n",
    "    \n",
    "    \n",
    "    #    text = re.sub(r'\\W+', '', text)\n",
    "    return text"
   ]
  },
  {
   "cell_type": "code",
   "execution_count": 11,
   "metadata": {},
   "outputs": [],
   "source": [
    "dadosFull['descricao'] = dadosFull['DESCRIÇÃO PARCEIRO'].apply(clean_text)"
   ]
  },
  {
   "cell_type": "code",
   "execution_count": 12,
   "metadata": {},
   "outputs": [
    {
     "data": {
      "text/html": [
       "<div>\n",
       "<style scoped>\n",
       "    .dataframe tbody tr th:only-of-type {\n",
       "        vertical-align: middle;\n",
       "    }\n",
       "\n",
       "    .dataframe tbody tr th {\n",
       "        vertical-align: top;\n",
       "    }\n",
       "\n",
       "    .dataframe thead th {\n",
       "        text-align: right;\n",
       "    }\n",
       "</style>\n",
       "<table border=\"1\" class=\"dataframe\">\n",
       "  <thead>\n",
       "    <tr style=\"text-align: right;\">\n",
       "      <th></th>\n",
       "      <th>DESCRIÇÃO PARCEIRO</th>\n",
       "      <th>CATEGORIA</th>\n",
       "      <th>descricao</th>\n",
       "    </tr>\n",
       "  </thead>\n",
       "  <tbody>\n",
       "    <tr>\n",
       "      <th>0</th>\n",
       "      <td>PASTA INT VITAPOWER 1,005KG AMEND/SHOT</td>\n",
       "      <td>CREME DE AMENDOIM</td>\n",
       "      <td>pasta int vitapower 1,005 kg amend shot</td>\n",
       "    </tr>\n",
       "    <tr>\n",
       "      <th>1</th>\n",
       "      <td>ESPONJA BETTANIN BRILHUS C/1</td>\n",
       "      <td>ESPONJA SINTÉTICA</td>\n",
       "      <td>esponja bettanin brilhus 1</td>\n",
       "    </tr>\n",
       "    <tr>\n",
       "      <th>2</th>\n",
       "      <td>AGUA MIN SCHIN S/GAS 500ML</td>\n",
       "      <td>ÁGUA MINERAL</td>\n",
       "      <td>agua min schin gas 500 ml</td>\n",
       "    </tr>\n",
       "    <tr>\n",
       "      <th>3</th>\n",
       "      <td>FITA DUPLA FACE C/SUPORTE SCOTCH</td>\n",
       "      <td>PAPELARIA</td>\n",
       "      <td>fita dupla face suporte scotch</td>\n",
       "    </tr>\n",
       "    <tr>\n",
       "      <th>4</th>\n",
       "      <td>MASSA PIZZA ROMANHA OREGANO PCT 160G</td>\n",
       "      <td>MASSA FRESCA</td>\n",
       "      <td>massa pizza romanha oregano pct 160 g</td>\n",
       "    </tr>\n",
       "    <tr>\n",
       "      <th>...</th>\n",
       "      <td>...</td>\n",
       "      <td>...</td>\n",
       "      <td>...</td>\n",
       "    </tr>\n",
       "    <tr>\n",
       "      <th>31790</th>\n",
       "      <td>BISC IMP ITAL GRISBI DOCE CAPPUCCINO CX 150G</td>\n",
       "      <td>NaN</td>\n",
       "      <td>bisc imp ital grisbi doce cappuccino cx 150 g</td>\n",
       "    </tr>\n",
       "    <tr>\n",
       "      <th>31791</th>\n",
       "      <td>VINHO ARGENTINO SANTA ANA BCO SECO 700ML</td>\n",
       "      <td>NaN</td>\n",
       "      <td>vinho argentino santa ana bco seco 700 ml</td>\n",
       "    </tr>\n",
       "    <tr>\n",
       "      <th>31792</th>\n",
       "      <td>ALGODAO BOLA ISABABY 50G .</td>\n",
       "      <td>NaN</td>\n",
       "      <td>algodao bola isababy 50 g</td>\n",
       "    </tr>\n",
       "    <tr>\n",
       "      <th>31793</th>\n",
       "      <td>ORG PIA OU DISC OP590TQ</td>\n",
       "      <td>NaN</td>\n",
       "      <td>org pia ou disc op590tq</td>\n",
       "    </tr>\n",
       "    <tr>\n",
       "      <th>31794</th>\n",
       "      <td>FACA COZINHA CARNE INOX 6 UNIV TRAM BCO</td>\n",
       "      <td>NaN</td>\n",
       "      <td>faca cozinha carne inox 6 univ tram bco</td>\n",
       "    </tr>\n",
       "  </tbody>\n",
       "</table>\n",
       "<p>31795 rows × 3 columns</p>\n",
       "</div>"
      ],
      "text/plain": [
       "                                 DESCRIÇÃO PARCEIRO          CATEGORIA  \\\n",
       "0            PASTA INT VITAPOWER 1,005KG AMEND/SHOT  CREME DE AMENDOIM   \n",
       "1                      ESPONJA BETTANIN BRILHUS C/1  ESPONJA SINTÉTICA   \n",
       "2                        AGUA MIN SCHIN S/GAS 500ML       ÁGUA MINERAL   \n",
       "3                  FITA DUPLA FACE C/SUPORTE SCOTCH          PAPELARIA   \n",
       "4              MASSA PIZZA ROMANHA OREGANO PCT 160G       MASSA FRESCA   \n",
       "...                                             ...                ...   \n",
       "31790  BISC IMP ITAL GRISBI DOCE CAPPUCCINO CX 150G                NaN   \n",
       "31791      VINHO ARGENTINO SANTA ANA BCO SECO 700ML                NaN   \n",
       "31792                    ALGODAO BOLA ISABABY 50G .                NaN   \n",
       "31793                       ORG PIA OU DISC OP590TQ                NaN   \n",
       "31794       FACA COZINHA CARNE INOX 6 UNIV TRAM BCO                NaN   \n",
       "\n",
       "                                           descricao  \n",
       "0            pasta int vitapower 1,005 kg amend shot  \n",
       "1                         esponja bettanin brilhus 1  \n",
       "2                          agua min schin gas 500 ml  \n",
       "3                     fita dupla face suporte scotch  \n",
       "4              massa pizza romanha oregano pct 160 g  \n",
       "...                                              ...  \n",
       "31790  bisc imp ital grisbi doce cappuccino cx 150 g  \n",
       "31791      vinho argentino santa ana bco seco 700 ml  \n",
       "31792                      algodao bola isababy 50 g  \n",
       "31793                        org pia ou disc op590tq  \n",
       "31794        faca cozinha carne inox 6 univ tram bco  \n",
       "\n",
       "[31795 rows x 3 columns]"
      ]
     },
     "execution_count": 12,
     "metadata": {},
     "output_type": "execute_result"
    }
   ],
   "source": [
    "dadosFull.drop([21144,3877,20506,1586,10653,11278,14837,13504,17669,\n",
    "                21484,15679,8086,17669,21441,19480,693,9397,7166,5366,\n",
    "                18948,10286,6109,18018,11435,18623,12209,8809,13279,2484,\n",
    "                6578,13564,90,5391,12674,18513,8744,13282,9653,3476,8815,\n",
    "                20583,21920,17272,541,2678,18666,14508,15173,5822,17175,4086,\n",
    "               13383,10271,19019,13383,20943,2290,20233,1804,11322,14309,\n",
    "                11322,8181], axis=0, inplace=True)\n",
    "\n",
    "dadosFull.reset_index(drop=True)"
   ]
  },
  {
   "cell_type": "code",
   "execution_count": null,
   "metadata": {},
   "outputs": [],
   "source": []
  },
  {
   "cell_type": "code",
   "execution_count": 14,
   "metadata": {},
   "outputs": [
    {
     "name": "stdout",
     "output_type": "stream",
     "text": [
      "Found 19702 unique tokens.\n"
     ]
    }
   ],
   "source": [
    "tokenizerDotz = Tokenizer(filters='!\"#$%&()*+,-./:;<=>?@[\\]^_`{|}~', lower=True,split=' ') \n",
    "tokenizerDotz.fit_on_texts(dadosFull['descricao'].values)\n",
    "word_index = tokenizerDotz.word_index \n",
    "print('Found %s unique tokens.' % len(word_index))\n",
    "# The maximum number of words to be used. (most frequent)\n",
    "MAX_NB_WORDS = len(word_index)+1"
   ]
  },
  {
   "cell_type": "code",
   "execution_count": 57,
   "metadata": {},
   "outputs": [],
   "source": [
    "dadosTrain = dadosFull[~dadosFull['CATEGORIA'].isnull()].copy()"
   ]
  },
  {
   "cell_type": "code",
   "execution_count": 58,
   "metadata": {},
   "outputs": [],
   "source": [
    "dadosTrain['encoded_CATEGORIA'] = cats_encoder.fit_transform(dadosTrain['CATEGORIA'])"
   ]
  },
  {
   "cell_type": "code",
   "execution_count": 60,
   "metadata": {},
   "outputs": [],
   "source": [
    "trainY = dadosTrain['encoded_CATEGORIA']\n",
    "trainX = dadosTrain.copy()"
   ]
  },
  {
   "cell_type": "code",
   "execution_count": 62,
   "metadata": {},
   "outputs": [
    {
     "name": "stdout",
     "output_type": "stream",
     "text": [
      "(19454, 4) (19454,)\n",
      "(2908, 4) (2908,)\n"
     ]
    }
   ],
   "source": [
    "X_train1, X_test1, Y_train1, Y_test1 = train_test_split(trainX,trainY,stratify=trainY, test_size = 0.13, \n",
    "                                                        random_state = 254)##54,154,stratify=trainY\n",
    "print(X_train1.shape,Y_train1.shape) \n",
    "print(X_test1.shape,Y_test1.shape)"
   ]
  },
  {
   "cell_type": "code",
   "execution_count": 64,
   "metadata": {},
   "outputs": [],
   "source": [
    "X_train = X_train1['descricao']\n",
    "X_test = X_test1['descricao']\n"
   ]
  },
  {
   "cell_type": "code",
   "execution_count": 65,
   "metadata": {},
   "outputs": [
    {
     "name": "stdout",
     "output_type": "stream",
     "text": [
      "Shape of data tensor: (19454, 18) MAX_SEQUENCE_LENGTH 18\n",
      "Shape of data tensor: (2908, 18)\n",
      "Y_train1 - Shape of label tensor: (19454,)\n",
      "Y_test1 -Shape of label tensor: (2908,)\n"
     ]
    }
   ],
   "source": [
    "X_train = tokenizerDotz.texts_to_sequences(X_train.values)\n",
    "MAX_SEQUENCE_LENGTH = max([len(x) for x in trainX])\n",
    "X_train = pad_sequences(X_train, maxlen=MAX_SEQUENCE_LENGTH, padding='post', truncating='post')\n",
    "print('Shape of data tensor:', X_train.shape, 'MAX_SEQUENCE_LENGTH', MAX_SEQUENCE_LENGTH)\n",
    "\n",
    "X_test = tokenizerDotz.texts_to_sequences(X_test.values)\n",
    "X_test = pad_sequences(X_test, maxlen=MAX_SEQUENCE_LENGTH, padding='post', truncating='post')\n",
    "print('Shape of data tensor:', X_test.shape)\n",
    "\n",
    "Y_train =Y_train1 #pd.get_dummies(Y_train1).values\n",
    "Y_test =Y_test1 #pd.get_dummies(Y_test1).values\n",
    "print('Y_train1 - Shape of label tensor:', Y_train1.shape)\n",
    "print('Y_test1 -Shape of label tensor:', Y_test1.shape)"
   ]
  },
  {
   "cell_type": "code",
   "execution_count": 71,
   "metadata": {},
   "outputs": [],
   "source": [
    "#y = train['encoded_CATEGORIA'].copy()\n",
    "#X = train\n",
    "#X_train=X.drop([\"DESCRIÇÃO PARCEIRO\",'SUB-CATEGORIA', 'CATEGORIA', 'DEPARTAMENTO', 'DESCRIÇÃO PARCEIROajuste','encoded_CATEGORIA', 'encoded_DEPARTAMENTO'], axis=1).copy()\n",
    "#y_train=y.copy()\n",
    "\n",
    "X_train, y_train = np.array(X_train), np.array(Y_train)\n",
    "X_train, y_test = np.array(X_test), np.array(Y_test)"
   ]
  },
  {
   "cell_type": "code",
   "execution_count": 152,
   "metadata": {},
   "outputs": [],
   "source": [
    "class ClassifierDataset(Dataset):\n",
    "    \n",
    "    def __init__(self, X_data, y_data):\n",
    "        self.X_data = X_data\n",
    "        self.y_data = y_data\n",
    "        \n",
    "    def __getitem__(self, index):\n",
    "        return self.X_data[index], self.y_data[index]\n",
    "        \n",
    "    def __len__ (self):\n",
    "        return len(self.X_data)\n",
    "\n",
    "#torch.set_printoptions(precision=10)\n",
    "train_dataset = ClassifierDataset(torch.from_numpy(X_train).long(), torch.from_numpy(y_train).long())\n",
    "val_dataset = ClassifierDataset(torch.from_numpy(X_train).long(), torch.from_numpy(y_test).long())\n"
   ]
  },
  {
   "cell_type": "code",
   "execution_count": 153,
   "metadata": {},
   "outputs": [],
   "source": [
    "class_count = np.unique(y_train, return_counts=True)[1:2]\n",
    "class_weights = 1./torch.tensor(class_count[0].tolist(), dtype=torch.float) "
   ]
  },
  {
   "cell_type": "code",
   "execution_count": 154,
   "metadata": {},
   "outputs": [
    {
     "data": {
      "text/plain": [
       "'\\nclass_count = np.unique(y_train, return_counts=True)[1:2]\\nclass_weights = 1./torch.tensor(class_count[0].tolist(), dtype=torch.float) \\ntarget_list = []\\nfor _, t in train_dataset:\\n    target_list.append(t)\\n    \\ntarget_list = torch.tensor(target_list)\\ntarget_list = target_list[torch.randperm(len(target_list))]\\nclass_weights_all = class_weights[target_list]\\n\\npara fazer o balanceamento a técnica usada foi:\\nComo são 332 categorias mais o número de exemplos para cada categoria é diferente. Verificou-se quantos exemplos se tem para \\ncada categoria e para cada item da lista de exemplos atribuiu o seu percentual em relação a sua quantidade de amostras.\\nExemplo:\\nSuponha que o primeiro exemplo seja a categoria: CAFE. E temos no total 8 registros com a categoria CAFE. Então o valor para essa linha\\nserá 1/8. \\nPassando essa lista de pesos para a classe WeightedRandomSampler ela irá criar o \\n\\nweighted_sampler = WeightedRandomSampler(\\n    weights=class_weights_all,\\n    num_samples=len(class_weights_all),\\n    replacement=True\\n)\\n'"
      ]
     },
     "execution_count": 154,
     "metadata": {},
     "output_type": "execute_result"
    }
   ],
   "source": [
    "\"\"\"\n",
    "class_count = np.unique(y_train, return_counts=True)[1:2]\n",
    "class_weights = 1./torch.tensor(class_count[0].tolist(), dtype=torch.float) \n",
    "target_list = []\n",
    "for _, t in train_dataset:\n",
    "    target_list.append(t)\n",
    "    \n",
    "target_list = torch.tensor(target_list)\n",
    "target_list = target_list[torch.randperm(len(target_list))]\n",
    "class_weights_all = class_weights[target_list]\n",
    "\n",
    "para fazer o balanceamento a técnica usada foi:\n",
    "Como são 332 categorias mais o número de exemplos para cada categoria é diferente. Verificou-se quantos exemplos se tem para \n",
    "cada categoria e para cada item da lista de exemplos atribuiu o seu percentual em relação a sua quantidade de amostras.\n",
    "Exemplo:\n",
    "Suponha que o primeiro exemplo seja a categoria: CAFE. E temos no total 8 registros com a categoria CAFE. Então o valor para essa linha\n",
    "será 1/8. \n",
    "Passando essa lista de pesos para a classe WeightedRandomSampler ela irá criar o \n",
    "\n",
    "weighted_sampler = WeightedRandomSampler(\n",
    "    weights=class_weights_all,\n",
    "    num_samples=len(class_weights_all),\n",
    "    replacement=True\n",
    ")\n",
    "\"\"\""
   ]
  },
  {
   "cell_type": "code",
   "execution_count": 155,
   "metadata": {},
   "outputs": [],
   "source": [
    "BATCH_SIZE = 64\n",
    "EMBEDDING_DIM = 322\n",
    "train_loader = DataLoader(dataset=train_dataset,\n",
    "                          batch_size=BATCH_SIZE,\n",
    "                          #sampler=weighted_sampler\n",
    ")\n",
    "val_loader = DataLoader(dataset=test_dataset,\n",
    "                          batch_size=BATCH_SIZE,\n",
    "                          #sampler=weighted_sampler\n",
    ")\n"
   ]
  },
  {
   "cell_type": "code",
   "execution_count": 156,
   "metadata": {},
   "outputs": [
    {
     "data": {
      "text/plain": [
       "'SIMULACAO DE UMA REDE NEURAL\\ndados = X_train_batch.cpu()\\nmodel1 = nn.Linear(1024, 1024)\\nmodel2 = nn.BatchNorm1d(1024)\\nmodelRelu = nn.ReLU()\\nmodelDropout = nn.Dropout(p=0.1)\\nmodelLSTM = nn.LSTM(input_size=1024, hidden_size=1024, num_layers=2)\\n\\nout1 = model1(dados)\\nout2 = model2(out1)\\nout3 = modelRelu(out2)\\nout4 = modelDropout(out3)\\nout4 = out4.view(-1,32,1024)\\nout5, (ht, ct) = modelLSTM(out4)\\n'"
      ]
     },
     "execution_count": 156,
     "metadata": {},
     "output_type": "execute_result"
    }
   ],
   "source": [
    "\"\"\"SIMULACAO DE UMA REDE NEURAL\n",
    "dados = X_train_batch.cpu()\n",
    "model1 = nn.Linear(1024, 1024)\n",
    "model2 = nn.BatchNorm1d(1024)\n",
    "modelRelu = nn.ReLU()\n",
    "modelDropout = nn.Dropout(p=0.1)\n",
    "modelLSTM = nn.LSTM(input_size=1024, hidden_size=1024, num_layers=2)\n",
    "\n",
    "out1 = model1(dados)\n",
    "out2 = model2(out1)\n",
    "out3 = modelRelu(out2)\n",
    "out4 = modelDropout(out3)\n",
    "out4 = out4.view(-1,32,1024)\n",
    "out5, (ht, ct) = modelLSTM(out4)\n",
    "\"\"\""
   ]
  },
  {
   "cell_type": "code",
   "execution_count": 157,
   "metadata": {},
   "outputs": [],
   "source": [
    "class MulticlassClassification(nn.Module):\n",
    "    def __init__(self, num_feature, num_class):\n",
    "        super(MulticlassClassification, self).__init__()\n",
    "        # definição dos layers, tem estado. Quardam o estado que eles aprendem durante o treinamento.\n",
    "        self.embedding = nn.EmbeddingBag(MAX_NB_WORDS, EMBEDDING_DIM)#, sparse=True\n",
    "        #self.gru = nn.GRU(num_feature, num_feature)\n",
    "        self.layer_1 = nn.Linear(EMBEDDING_DIM, NUM_FEATURES)\n",
    "        #self.layer_2 = nn.Linear(num_feature, num_feature)\n",
    "        #self.layer_3 = nn.Linear(num_feature, num_feature)\n",
    "        #self.layer_3 = nn.LSTM(input_size=num_feature, hidden_size=1024, num_layers=2)#, batch_first=True\n",
    "        self.layer_out = nn.Linear(NUM_FEATURES, num_class) \n",
    "        \n",
    "        #self.relu = nn.ReLU()\n",
    "        #self.PReLU = nn.PReLU()\n",
    "        self.LeakyReLU = nn.LeakyReLU()\n",
    "        #self.sigmoid = nn.Sigmoid()\n",
    "        #self.dropout = nn.AlphaDropout(p=0.05) #zera alguns termos para evitar co-adaptacao\n",
    "        self.batchnorm1 = nn.BatchNorm1d(num_feature, momentum=0.08)  #melhorou TRASTICAMENTE QUANDO COLOQUEI ESSA LAYER\n",
    "        #self.batchnorm2 = nn.BatchNorm1d(num_feature)\n",
    "        #self.batchnorm3 = nn.BatchNorm1d(num_feature)\n",
    "        #self.gru = nn.GRU(num_feature, num_feature)\n",
    "        #self.conv1 = nn.Conv1d(num_feature, num_feature, kernel_size=2)\n",
    "        \n",
    "        self.num_feature = num_feature\n",
    "        \n",
    "    def forward(self, x):\n",
    "        x = self.embedding(x)\n",
    "        x = self.layer_1(x)\n",
    "        x = self.batchnorm1(x)\n",
    "        x = self.LeakyReLU(x)\n",
    "        #x = self.sigmoid(x)\n",
    "        \n",
    "        #x = self.layer_2(x)\n",
    "        #x = self.batchnorm2(x) #quando aumentei esse layer não aumentou a performance\n",
    "        #x = F.relu(x)\n",
    "        #x = self.dropout(x)\n",
    "        \n",
    "        #x = self.layer_3(x)\n",
    "        #print(x.shape[0], self.num_feature)\n",
    "        #x = x.view(-1,x.shape[0],self.num_feature)\n",
    "        #x, (ht, ct) = self.layer_3(x)   # LSTM não mudou o resultado\n",
    "        #print(x.shape, x.shape[0], self.num_feature)\n",
    "        #x = x.view(x.shape[1],self.num_feature)\n",
    "        #x = self.batchnorm3(x)\n",
    "        #x = F.relu(x)\n",
    "        #x = self.dropout(x)\n",
    "        #x, hidden = self.gru(x, self.num_feature)\n",
    "        #x = self.conv1\n",
    "        #x = torch.tanh(x) não alterou o resultado\n",
    "        x = self.layer_out(x)\n",
    "        \n",
    "        return x"
   ]
  },
  {
   "cell_type": "code",
   "execution_count": 158,
   "metadata": {},
   "outputs": [
    {
     "data": {
      "text/plain": [
       "332"
      ]
     },
     "execution_count": 158,
     "metadata": {},
     "output_type": "execute_result"
    }
   ],
   "source": [
    "NUM_CLASSES"
   ]
  },
  {
   "cell_type": "code",
   "execution_count": 165,
   "metadata": {},
   "outputs": [
    {
     "name": "stdout",
     "output_type": "stream",
     "text": [
      "MulticlassClassification(\n",
      "  (embedding): EmbeddingBag(19703, 322, mode=mean)\n",
      "  (layer_1): Linear(in_features=322, out_features=18, bias=True)\n",
      "  (layer_out): Linear(in_features=18, out_features=332, bias=True)\n",
      "  (LeakyReLU): LeakyReLU(negative_slope=0.01)\n",
      "  (batchnorm1): BatchNorm1d(18, eps=1e-05, momentum=0.08, affine=True, track_running_stats=True)\n",
      ")\n"
     ]
    }
   ],
   "source": [
    "EPOCHS = 10\n",
    "LEARNING_RATE = 0.0007\n",
    "NUM_FEATURES = len(X_train[0])\n",
    "NUM_CLASSES = y.value_counts().count()\n",
    "device = torch.device(\"cuda:0\" if torch.cuda.is_available() else \"cpu\")\n",
    "torch.cuda.manual_seed(60) # sempre gerar os mesmos parametros\n",
    "torch.manual_seed(60) # sempre gerar os mesmos parametros\n",
    "model = MulticlassClassification(num_feature = NUM_FEATURES, num_class=NUM_CLASSES)\n",
    "model.to(device)\n",
    "print(model)\n",
    "weightSequencial = torch.from_numpy(np.arange(0, 53, 1)).long() #class_weights\n",
    "criterion = nn.CrossEntropyLoss(weight=class_weights).to(device)\n",
    "optimizer = optim.Adam(model.parameters(), lr=LEARNING_RATE)\n",
    "\n",
    "accuracy_stats = {\n",
    "    'train': []\n",
    "    ,\"val\": []\n",
    "}\n",
    "\n",
    "loss_stats = {\n",
    "    'train': []\n",
    "    ,\"val\": []\n",
    "}\n",
    "\n",
    "def multi_acc(y_pred, y_test):\n",
    "    y_pred_softmax = torch.log_softmax(y_pred, dim = 1)\n",
    "    _, y_pred_tags = torch.max(y_pred_softmax, dim = 1)    \n",
    "    \n",
    "    correct_pred = (y_pred_tags == y_test).float()\n",
    "    acc = correct_pred.sum() / len(correct_pred)\n",
    "    \n",
    "    acc = torch.round(acc) * 100\n",
    "    \n",
    "    return acc\n",
    "\n",
    "#list(model.parameters()) "
   ]
  },
  {
   "cell_type": "code",
   "execution_count": null,
   "metadata": {
    "scrolled": true
   },
   "outputs": [
    {
     "data": {
      "application/vnd.jupyter.widget-view+json": {
       "model_id": "2953b36ad049487b89ec9b28b59f87f2",
       "version_major": 2,
       "version_minor": 0
      },
      "text/plain": [
       "HBox(children=(FloatProgress(value=0.0, max=10.0), HTML(value='')))"
      ]
     },
     "metadata": {},
     "output_type": "display_data"
    },
    {
     "name": "stdout",
     "output_type": "stream",
     "text": [
      "Epoch 001: | Train Loss: 5.81478 | Train Acc: 0.000| \n",
      "Epoch 001: | val Loss: 0.00000 | val Acc: 0.000| \n",
      "Epoch 002: | Train Loss: 5.81471 | Train Acc: 0.000| \n",
      "Epoch 002: | val Loss: 0.00000 | val Acc: 0.000| \n",
      "Epoch 003: | Train Loss: 5.81574 | Train Acc: 0.000| \n",
      "Epoch 003: | val Loss: 0.00000 | val Acc: 0.000| \n",
      "Epoch 004: | Train Loss: 5.81669 | Train Acc: 0.000| \n",
      "Epoch 004: | val Loss: 0.00000 | val Acc: 0.000| \n",
      "Epoch 005: | Train Loss: 5.82174 | Train Acc: 0.000| \n",
      "Epoch 005: | val Loss: 0.00000 | val Acc: 0.000| \n"
     ]
    }
   ],
   "source": [
    "for e in tqdm((range(1, EPOCHS+1))):\n",
    "    \n",
    "    # TRAINING\n",
    "    train_epoch_loss = 0\n",
    "    train_epoch_acc = 0\n",
    "\n",
    "    model.train()\n",
    "    for X_train_batch, y_train_batch in train_loader:\n",
    "        X_train_batch, y_train_batch = X_train_batch.to(device), y_train_batch.to(device)\n",
    "        optimizer.zero_grad()\n",
    "        \n",
    "        y_train_pred = model(X_train_batch)\n",
    "        \n",
    "        train_loss = criterion(y_train_pred, y_train_batch)\n",
    "        train_acc = multi_acc(y_train_pred, y_train_batch)\n",
    "        \n",
    "        train_loss.backward()\n",
    "        optimizer.step()\n",
    "        \n",
    "        train_epoch_loss += train_loss.item()\n",
    "        train_epoch_acc += train_acc.item()\n",
    "        \n",
    "        \"\"\"  \"\"\"\n",
    "            # VALIDATION    \n",
    "        with torch.no_grad():\n",
    "\n",
    "            val_epoch_loss = 0\n",
    "            val_epoch_acc = 0\n",
    "\n",
    "            model.eval()\n",
    "            for X_val_batch, y_val_batch in val_loader:\n",
    "                X_val_batch, y_val_batch = X_val_batch.to(device), y_val_batch.to(device)\n",
    "\n",
    "                y_val_pred = model(X_val_batch.long())\n",
    "\n",
    "                val_loss = criterion(y_val_pred, y_val_batch)\n",
    "                val_acc = multi_acc(y_val_pred, y_val_batch)\n",
    "\n",
    "                val_epoch_loss += val_loss.item()\n",
    "                val_epoch_acc += val_acc.item()\n",
    "        loss_stats['val'].append(val_epoch_loss/len(val_loader))\n",
    "        accuracy_stats['val'].append(val_epoch_acc/len(val_loader))\n",
    "      \n",
    "    \n",
    "    loss_stats['train'].append(train_epoch_loss/len(train_loader))\n",
    "    accuracy_stats['train'].append(train_epoch_acc/len(train_loader))\n",
    "    print(f'Epoch {e+0:03}: | Train Loss: {val_epoch_loss/len(train_loader):.5f} | Train Acc: {train_epoch_acc/len(train_loader):.3f}| ')\n",
    "    print(f'Epoch {e+0:03}: | val Loss: {val_epoch_acc/len(val_loader):.5f} | val Acc: {val_epoch_acc/len(val_loader):.3f}| ')\n",
    "    "
   ]
  },
  {
   "cell_type": "code",
   "execution_count": 116,
   "metadata": {
    "scrolled": true
   },
   "outputs": [
    {
     "data": {
      "text/plain": [
       "Text(0.5, 1.0, 'Train-Val Loss/Epoch')"
      ]
     },
     "execution_count": 116,
     "metadata": {},
     "output_type": "execute_result"
    },
    {
     "data": {
      "image/png": "[encoded data removed]",
      "text/plain": [
       "<Figure size 2160x720 with 2 Axes>"
      ]
     },
     "metadata": {
      "needs_background": "light"
     },
     "output_type": "display_data"
    }
   ],
   "source": [
    "train_val_acc_df = pd.DataFrame.from_dict(accuracy_stats).reset_index().melt(id_vars=['index']).rename(columns={\"index\":\"epochs\"})\n",
    "train_val_loss_df = pd.DataFrame.from_dict(loss_stats).reset_index().melt(id_vars=['index']).rename(columns={\"index\":\"epochs\"})\n",
    "\n",
    "fig, axes = plt.subplots(nrows=1, ncols=2, figsize=(30,10))\n",
    "sns.lineplot(data=train_val_acc_df, x = \"epochs\", y=\"value\", hue=\"variable\",  ax=axes[0]).set_title('Train-Val Accuracy/Epoch')\n",
    "sns.lineplot(data=train_val_loss_df, x = \"epochs\", y=\"value\", hue=\"variable\", ax=axes[1]).set_title('Train-Val Loss/Epoch')"
   ]
  },
  {
   "cell_type": "code",
   "execution_count": null,
   "metadata": {
    "scrolled": true
   },
   "outputs": [],
   "source": [
    "y_pred_list = []\n",
    "#esse no_grad é para o modelo saber que não está sendo treinado.\n",
    "with torch.no_grad():\n",
    "    model.eval()\n",
    "    for X_batch, _ in tqdm(test_loader):\n",
    "        X_batch = X_batch.to(device)\n",
    "        y_test_pred = model(X_batch)\n",
    "        y_pred_softmax = torch.log_softmax(y_test_pred, dim = 1)\n",
    "        _, y_pred_tags = torch.max(y_pred_softmax, dim = 1)\n",
    "        y_pred_list.append(y_pred_tags.cpu().numpy())\n",
    "        #if len(y_pred_list) == 3:\n",
    "            #break\n",
    "\n",
    "y_pred_list = [a.squeeze().tolist() for a in y_pred_list]"
   ]
  },
  {
   "cell_type": "code",
   "execution_count": null,
   "metadata": {},
   "outputs": [],
   "source": [
    "f1_score(y_test, y_pred_list, average='micro')"
   ]
  },
  {
   "cell_type": "code",
   "execution_count": null,
   "metadata": {},
   "outputs": [],
   "source": [
    "from scipy.stats import rankdata\n",
    "xrank = y_pred_softmax.cpu().numpy()\n",
    "rank = rankdata(xrank)\n",
    "np.where(rank == 51)"
   ]
  },
  {
   "cell_type": "markdown",
   "metadata": {},
   "source": [
    "# ANALISES RESULTADO"
   ]
  },
  {
   "cell_type": "code",
   "execution_count": null,
   "metadata": {},
   "outputs": [],
   "source": [
    "print(classification_report(y_test, y_pred_list))"
   ]
  },
  {
   "cell_type": "code",
   "execution_count": null,
   "metadata": {},
   "outputs": [],
   "source": [
    "testpred = X_test1.copy()\n",
    "testpred['y_test'] = y_test\n",
    "testpred['y_pred_list'] = y_pred_list\n",
    "testpred['DEPARTAMENTO_pred'] = testpred['y_pred_list'].map(testpred.groupby(['encoded_DEPARTAMENTO'])['DEPARTAMENTO'].max())\n",
    "pd.set_option('display.min_rows', 30)\n",
    "testpred[(testpred['y_test']==18) & (testpred['y_test']==testpred['y_pred_list'])][['DESCRIÇÃO PARCEIROajuste','DEPARTAMENTO', 'DEPARTAMENTO_pred','y_test', 'y_pred_list']]"
   ]
  },
  {
   "cell_type": "code",
   "execution_count": null,
   "metadata": {},
   "outputs": [],
   "source": [
    "testpred = X_test1.copy()\n",
    "testpred['y_test'] = y_test\n",
    "testpred['y_pred_list'] = y_pred_list\n",
    "testpred['CATEGORIA_pred'] = testpred['y_pred_list'].map(testpred.groupby(['encoded_CATEGORIA'])['CATEGORIA'].max())\n",
    "pd.set_option('display.min_rows', 30)\n",
    "testpred[(testpred['y_test']==23) & (testpred['y_test']!=testpred['y_pred_list'])][['DESCRIÇÃO PARCEIROajuste','CATEGORIA', 'CATEGORIA_pred','y_test', 'y_pred_list']]"
   ]
  },
  {
   "cell_type": "code",
   "execution_count": null,
   "metadata": {},
   "outputs": [],
   "source": [
    "classificacao = classification_report(y_test, y_pred_list, target_names=X_test1.groupby(['encoded_CATEGORIA'])['CATEGORIA'].max().values,\n",
    "                      output_dict=True)\n",
    "#classif1 = pd.DataFrame(classificacao).transpose()\n",
    "#classif = classif1.copy()\n",
    "#classif['sequencia'] = np.arange(len(classif))\n",
    "#classif['categoria'] = classif.index\n",
    "#pd.set_option('display.min_rows', 100)\n",
    "#classif.index = classif['sequencia'].copy()\n",
    "#classif = classif[:332]\n",
    "#classif['quantidade'] = classif['sequencia'].map(train.groupby(['encoded_CATEGORIA'])['CATEGORIA'].count())\n",
    "#classif.sort_values(by=['f1-score','quantidade'], ascending=[True, False]).head(50)"
   ]
  },
  {
   "cell_type": "code",
   "execution_count": null,
   "metadata": {},
   "outputs": [],
   "source": [
    "#X_train1.groupby(['encoded_CATEGORIA'])['CATEGORIA'].max()\n",
    "y_test"
   ]
  },
  {
   "cell_type": "code",
   "execution_count": null,
   "metadata": {},
   "outputs": [],
   "source": [
    "classificacao = classification_report(y_test, y_pred_list, target_names=train.groupby(['encoded_CATEGORIA'])['CATEGORIA'].max().values,\n",
    "                      output_dict=True)\n",
    "classif1 = pd.DataFrame(classificacao).transpose()\n",
    "classif = classif1.copy()\n",
    "classif['sequencia'] = np.arange(len(classif))\n",
    "classif['categoria'] = classif.index\n",
    "pd.set_option('display.min_rows', 100)\n",
    "classif.index = classif['sequencia'].copy()\n",
    "classif = classif[:332]\n",
    "classif['quantidade'] = classif['sequencia'].map(train.groupby(['encoded_CATEGORIA'])['CATEGORIA'].count())\n",
    "classif.sort_values(by=['f1-score','quantidade'], ascending=[True, False]).head(50)"
   ]
  },
  {
   "cell_type": "code",
   "execution_count": null,
   "metadata": {},
   "outputs": [],
   "source": [
    "classif[classif['categoria'].isin(['SUCO CONCENTRADO','SUCO CONCENTRADO'])]"
   ]
  },
  {
   "cell_type": "code",
   "execution_count": null,
   "metadata": {},
   "outputs": [],
   "source": [
    "testpred[testpred['CATEGORIA'].isin(['SUCO CONCENTRADO','SUCO CONCENTRADO'])] \\\n",
    "[['CATEGORIA','DESCRIÇÃO PARCEIRO','DESCRIÇÃO PARCEIROajuste','CATEGORIA_pred']]#.groupby('CATEGORIA_pred').count()"
   ]
  },
  {
   "cell_type": "code",
   "execution_count": null,
   "metadata": {},
   "outputs": [],
   "source": [
    "testpred[['DESCRIÇÃO PARCEIRO','DESCRIÇÃO PARCEIROajuste', 'CATEGORIA', 'SUB-CATEGORIA', 'DEPARTAMENTO', 'encoded_CATEGORIA'\n",
    "         ,'encoded_DEPARTAMENTO','y_test', 'y_pred_list', 'CATEGORIA_pred']].to_csv('pred_categoria.csv')"
   ]
  },
  {
   "cell_type": "markdown",
   "metadata": {},
   "source": [
    "# GERACAO DE DADOS TESTE"
   ]
  },
  {
   "cell_type": "code",
   "execution_count": 15,
   "metadata": {},
   "outputs": [],
   "source": [
    "test = pd.read_csv('../dados/test_token_acentuado_V008.csv', sep=';', index_col='Unnamed: 0')"
   ]
  },
  {
   "cell_type": "code",
   "execution_count": 24,
   "metadata": {},
   "outputs": [],
   "source": [
    "grupos = pd.read_csv('../envios/grupos.csv', index_col='Unnamed: 0')"
   ]
  },
  {
   "cell_type": "code",
   "execution_count": 16,
   "metadata": {},
   "outputs": [],
   "source": [
    "X = test.drop([\"DESCRIÇÃO PARCEIRO\", \"DESCRIÇÃO PARCEIROajuste\"], axis=1).copy()"
   ]
  },
  {
   "cell_type": "code",
   "execution_count": 17,
   "metadata": {},
   "outputs": [],
   "source": [
    "X = np.array(X)"
   ]
  },
  {
   "cell_type": "code",
   "execution_count": 18,
   "metadata": {},
   "outputs": [],
   "source": [
    "X_torch = torch.from_numpy(X).float().to(device)"
   ]
  },
  {
   "cell_type": "code",
   "execution_count": 19,
   "metadata": {},
   "outputs": [],
   "source": [
    "X_torchteste = X_torch[0].view(-1,1024)"
   ]
  },
  {
   "cell_type": "code",
   "execution_count": 27,
   "metadata": {},
   "outputs": [
    {
     "data": {
      "text/plain": [
       "array([ 85, 124, 327, ..., 134, 107, 282])"
      ]
     },
     "execution_count": 27,
     "metadata": {},
     "output_type": "execute_result"
    }
   ],
   "source": [
    "from sklearn.preprocessing import LabelEncoder\n",
    "cats_encoder = LabelEncoder()\n",
    "cats_encoder.fit_transform(train['CATEGORIA'])"
   ]
  },
  {
   "cell_type": "code",
   "execution_count": 28,
   "metadata": {},
   "outputs": [],
   "source": [
    "def getCategoria(nro_categoria):\n",
    "    \n",
    "    listaCategorias = cats_encoder.classes_.tolist()\n",
    "    return listaCategorias[nro_categoria]\n",
    "    "
   ]
  },
  {
   "cell_type": "code",
   "execution_count": 29,
   "metadata": {},
   "outputs": [
    {
     "data": {
      "text/plain": [
       "'ACESSÓRIOS DE BANHO'"
      ]
     },
     "execution_count": 29,
     "metadata": {},
     "output_type": "execute_result"
    }
   ],
   "source": [
    "getCategoria(1)"
   ]
  },
  {
   "cell_type": "code",
   "execution_count": null,
   "metadata": {},
   "outputs": [],
   "source": [
    "\"\"\"\n",
    "test_predict_list = []\n",
    "with torch.no_grad():\n",
    "    model.eval()\n",
    "    test_predict = model(X_torch)\n",
    "    test_predict_softmax = torch.log_softmax(test_predict, dim = 1)\n",
    "    _test, test_predict_tags = torch.max(test_predict_softmax, dim = 1)\n",
    "    test_predict_list.append(test_predict_tags.cpu().numpy())\n",
    "    \"\"\""
   ]
  },
  {
   "cell_type": "code",
   "execution_count": null,
   "metadata": {},
   "outputs": [],
   "source": [
    "testEnvio = test[['DESCRIÇÃO PARCEIRO']].copy()"
   ]
  },
  {
   "cell_type": "code",
   "execution_count": null,
   "metadata": {},
   "outputs": [],
   "source": [
    "testEnvio['encoded_Categoria'] = test_predict_list[0].tolist()"
   ]
  },
  {
   "cell_type": "code",
   "execution_count": null,
   "metadata": {},
   "outputs": [],
   "source": [
    "testEnvio['categoria'] = testEnvio['encoded_Categoria'].map(train.groupby(['encoded_CATEGORIA'])['CATEGORIA'].max())"
   ]
  },
  {
   "cell_type": "code",
   "execution_count": null,
   "metadata": {},
   "outputs": [],
   "source": [
    "testEnviov002 = testEnvio[['DESCRIÇÃO PARCEIRO','categoria']]\n",
    "testEnviov002.columns = ['Descrição Parceiro','categoria']"
   ]
  },
  {
   "cell_type": "code",
   "execution_count": null,
   "metadata": {},
   "outputs": [],
   "source": [
    "testEnviov002.to_csv('../envios/predCategoriaRNv001.csv')"
   ]
  }
 ],
 "metadata": {
  "kernelspec": {
   "display_name": "Python 3.8.0 64-bit",
   "language": "python",
   "name": "python38064bit89dc14be3fab4c2eaace80ffa1d6b33e"
  },
  "language_info": {
   "codemirror_mode": {
    "name": "ipython",
    "version": 3
   },
   "file_extension": ".py",
   "mimetype": "text/x-python",
   "name": "python",
   "nbconvert_exporter": "python",
   "pygments_lexer": "ipython3",
   "version": "3.8.0"
  }
 },
 "nbformat": 4,
 "nbformat_minor": 4
}
