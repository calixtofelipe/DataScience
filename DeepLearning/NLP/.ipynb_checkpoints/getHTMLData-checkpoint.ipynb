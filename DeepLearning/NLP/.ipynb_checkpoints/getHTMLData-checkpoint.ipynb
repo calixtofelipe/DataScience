{
 "cells": [
  {
   "cell_type": "code",
   "execution_count": 1,
   "metadata": {},
   "outputs": [],
   "source": [
    "from bs4 import BeautifulSoup, Tag\n",
    "from html.parser import HTMLParser\n",
    "import numpy as np \n",
    "import pandas as pd"
   ]
  },
  {
   "cell_type": "markdown",
   "metadata": {},
   "source": [
    "# GET DATABASE GENERICO"
   ]
  },
  {
   "cell_type": "code",
   "execution_count": 2,
   "metadata": {},
   "outputs": [],
   "source": [
    "class CreateDataBase:\n",
    "    def __init__(self,dataframe):\n",
    "        self.dataframe = dataframe\n",
    "        self.totallinas = 0\n",
    "        \n",
    "    def setDataFrameCarrefour(self, link, categoria, tag, classe, attributeName):\n",
    "        html = open(link, encoding=\"utf8\").read()\n",
    "        soup = BeautifulSoup(html, 'html.parser')\n",
    "        nmproductname = soup.find_all(tag, class_=classe)\n",
    "        seq = 0\n",
    "        product_list = []\n",
    "        df = pd.DataFrame()\n",
    "        for tag in nmproductname:\n",
    "            seq+=1\n",
    "            product = tag.a.get_attribute_list(attributeName)\n",
    "            product_list.append(product)\n",
    "        df = pd.DataFrame(product_list)\n",
    "       # print(df)\n",
    "        df['CATEGORIA'] = categoria\n",
    "        df.columns = ['descricao', 'CATEGORIA']\n",
    "        self.dataframe = pd.concat([self.dataframe,df],ignore_index=True).copy()\n",
    "\n",
    "    def setDataFrameMagazine(self, link, categoria, tag, classe, attributeName):\n",
    "        html = open(link, encoding=\"utf8\").read()\n",
    "        soup = BeautifulSoup(html, 'html.parser')\n",
    "        nmproductname = soup.find_all(tag, class_=classe)\n",
    "        seq = 0\n",
    "        product_list = []\n",
    "        df = pd.DataFrame()\n",
    "        for tag in nmproductname:\n",
    "            seq+=1\n",
    "            product = tag.string.replace('\\n','').strip()\n",
    "            product_list.append(product)\n",
    "        df = pd.DataFrame(product_list)\n",
    "       # print(df)\n",
    "        df['CATEGORIA'] = categoria\n",
    "        df.columns = ['descricao', 'CATEGORIA']\n",
    "        self.dataframe = pd.concat([self.dataframe,df],ignore_index=True).copy()\n",
    "    \n"
   ]
  },
  {
   "cell_type": "code",
   "execution_count": 3,
   "metadata": {},
   "outputs": [],
   "source": [
    "dbExterno = pd.DataFrame()\n",
    "cdf = CreateDataBase(dbExterno)\n"
   ]
  },
  {
   "cell_type": "code",
   "execution_count": 5,
   "metadata": {},
   "outputs": [
    {
     "name": "stdout",
     "output_type": "stream",
     "text": [
      " linhas df: 7\n"
     ]
    }
   ],
   "source": [
    "cdf.setDataFrameCarrefour('../dados/baseExterno/xpto.html', \n",
    "                 'MOLHO INGLÊS','h2','nm-product-name', 'title' )\n",
    "print(f' linhas df: {cdf.dataframe.shape[0]}')"
   ]
  },
  {
   "cell_type": "code",
   "execution_count": 80,
   "metadata": {},
   "outputs": [
    {
     "data": {
      "text/html": [
       "<div>\n",
       "<style scoped>\n",
       "    .dataframe tbody tr th:only-of-type {\n",
       "        vertical-align: middle;\n",
       "    }\n",
       "\n",
       "    .dataframe tbody tr th {\n",
       "        vertical-align: top;\n",
       "    }\n",
       "\n",
       "    .dataframe thead th {\n",
       "        text-align: right;\n",
       "    }\n",
       "</style>\n",
       "<table border=\"1\" class=\"dataframe\">\n",
       "  <thead>\n",
       "    <tr style=\"text-align: right;\">\n",
       "      <th></th>\n",
       "      <th>descricao</th>\n",
       "      <th>CATEGORIA</th>\n",
       "    </tr>\n",
       "  </thead>\n",
       "  <tbody>\n",
       "    <tr>\n",
       "      <th>0</th>\n",
       "      <td>Molho Inglês Kenko 150ml</td>\n",
       "      <td>MOLHO INGLÊS</td>\n",
       "    </tr>\n",
       "    <tr>\n",
       "      <th>1</th>\n",
       "      <td>Molho Inglês Kitano 150ml</td>\n",
       "      <td>MOLHO INGLÊS</td>\n",
       "    </tr>\n",
       "    <tr>\n",
       "      <th>2</th>\n",
       "      <td>Molho Inglês Lea Perrins 150ml</td>\n",
       "      <td>MOLHO INGLÊS</td>\n",
       "    </tr>\n",
       "    <tr>\n",
       "      <th>3</th>\n",
       "      <td>Molho Inglês Hemmer 150ml</td>\n",
       "      <td>MOLHO INGLÊS</td>\n",
       "    </tr>\n",
       "    <tr>\n",
       "      <th>4</th>\n",
       "      <td>Molho Inglês Kodilar 150ml</td>\n",
       "      <td>MOLHO INGLÊS</td>\n",
       "    </tr>\n",
       "    <tr>\n",
       "      <th>...</th>\n",
       "      <td>...</td>\n",
       "      <td>...</td>\n",
       "    </tr>\n",
       "    <tr>\n",
       "      <th>419</th>\n",
       "      <td>Touca cab Mechas, Reflexo, Tintura De Cabelos</td>\n",
       "      <td>ACESSÓRIOS DE BANHO</td>\n",
       "    </tr>\n",
       "    <tr>\n",
       "      <th>420</th>\n",
       "      <td>Touca Prática Pós Banho Microfibra - Jolitex</td>\n",
       "      <td>ACESSÓRIOS PARA CABELO</td>\n",
       "    </tr>\n",
       "    <tr>\n",
       "      <th>421</th>\n",
       "      <td>Touca Fantasy Para Banho - Impermeável - Marco...</td>\n",
       "      <td>ACESSÓRIOS PARA CABELO</td>\n",
       "    </tr>\n",
       "    <tr>\n",
       "      <th>422</th>\n",
       "      <td>Touca de banho pac-man</td>\n",
       "      <td>ACESSÓRIOS PARA CABELO</td>\n",
       "    </tr>\n",
       "    <tr>\n",
       "      <th>423</th>\n",
       "      <td>Touca de Banho Plástica Descartável Vilty Care...</td>\n",
       "      <td>ACESSÓRIOS PARA CABELO</td>\n",
       "    </tr>\n",
       "  </tbody>\n",
       "</table>\n",
       "<p>424 rows × 2 columns</p>\n",
       "</div>"
      ],
      "text/plain": [
       "                                             descricao               CATEGORIA\n",
       "0                             Molho Inglês Kenko 150ml            MOLHO INGLÊS\n",
       "1                            Molho Inglês Kitano 150ml            MOLHO INGLÊS\n",
       "2                       Molho Inglês Lea Perrins 150ml            MOLHO INGLÊS\n",
       "3                            Molho Inglês Hemmer 150ml            MOLHO INGLÊS\n",
       "4                           Molho Inglês Kodilar 150ml            MOLHO INGLÊS\n",
       "..                                                 ...                     ...\n",
       "419      Touca cab Mechas, Reflexo, Tintura De Cabelos     ACESSÓRIOS DE BANHO\n",
       "420       Touca Prática Pós Banho Microfibra - Jolitex  ACESSÓRIOS PARA CABELO\n",
       "421  Touca Fantasy Para Banho - Impermeável - Marco...  ACESSÓRIOS PARA CABELO\n",
       "422                             Touca de banho pac-man  ACESSÓRIOS PARA CABELO\n",
       "423  Touca de Banho Plástica Descartável Vilty Care...  ACESSÓRIOS PARA CABELO\n",
       "\n",
       "[424 rows x 2 columns]"
      ]
     },
     "execution_count": 80,
     "metadata": {},
     "output_type": "execute_result"
    }
   ],
   "source": [
    "cdf.dataframe"
   ]
  },
  {
   "cell_type": "code",
   "execution_count": 126,
   "metadata": {},
   "outputs": [
    {
     "data": {
      "text/html": [
       "<div>\n",
       "<style scoped>\n",
       "    .dataframe tbody tr th:only-of-type {\n",
       "        vertical-align: middle;\n",
       "    }\n",
       "\n",
       "    .dataframe tbody tr th {\n",
       "        vertical-align: top;\n",
       "    }\n",
       "\n",
       "    .dataframe thead th {\n",
       "        text-align: right;\n",
       "    }\n",
       "</style>\n",
       "<table border=\"1\" class=\"dataframe\">\n",
       "  <thead>\n",
       "    <tr style=\"text-align: right;\">\n",
       "      <th></th>\n",
       "      <th>descricao</th>\n",
       "      <th>CATEGORIA</th>\n",
       "    </tr>\n",
       "  </thead>\n",
       "  <tbody>\n",
       "    <tr>\n",
       "      <th>300</th>\n",
       "      <td>Banana Desidratada 150g - Frutage</td>\n",
       "      <td>FRUTA DESIDRATADA</td>\n",
       "    </tr>\n",
       "    <tr>\n",
       "      <th>301</th>\n",
       "      <td>Goji Berry  Desidratada - 1kg</td>\n",
       "      <td>FRUTA DESIDRATADA</td>\n",
       "    </tr>\n",
       "    <tr>\n",
       "      <th>302</th>\n",
       "      <td>Banana Desidratada 1kg</td>\n",
       "      <td>FRUTA DESIDRATADA</td>\n",
       "    </tr>\n",
       "    <tr>\n",
       "      <th>303</th>\n",
       "      <td>Mix Desidratada (Granel 100g)</td>\n",
       "      <td>FRUTA DESIDRATADA</td>\n",
       "    </tr>\n",
       "    <tr>\n",
       "      <th>304</th>\n",
       "      <td>Banana Desidratada (30g)</td>\n",
       "      <td>FRUTA DESIDRATADA</td>\n",
       "    </tr>\n",
       "    <tr>\n",
       "      <th>305</th>\n",
       "      <td>Cranberry Desidratada 500g</td>\n",
       "      <td>FRUTA DESIDRATADA</td>\n",
       "    </tr>\n",
       "    <tr>\n",
       "      <th>306</th>\n",
       "      <td>Goiaba Desidratada</td>\n",
       "      <td>FRUTA DESIDRATADA</td>\n",
       "    </tr>\n",
       "  </tbody>\n",
       "</table>\n",
       "</div>"
      ],
      "text/plain": [
       "                             descricao          CATEGORIA\n",
       "300  Banana Desidratada 150g - Frutage  FRUTA DESIDRATADA\n",
       "301      Goji Berry  Desidratada - 1kg  FRUTA DESIDRATADA\n",
       "302             Banana Desidratada 1kg  FRUTA DESIDRATADA\n",
       "303      Mix Desidratada (Granel 100g)  FRUTA DESIDRATADA\n",
       "304           Banana Desidratada (30g)  FRUTA DESIDRATADA\n",
       "305         Cranberry Desidratada 500g  FRUTA DESIDRATADA\n",
       "306                 Goiaba Desidratada  FRUTA DESIDRATADA"
      ]
     },
     "execution_count": 126,
     "metadata": {},
     "output_type": "execute_result"
    }
   ],
   "source": [
    "df = cdf.dataframe\n",
    "df[df['CATEGORIA']=='FRUTA DESIDRATADA']"
   ]
  },
  {
   "cell_type": "code",
   "execution_count": 81,
   "metadata": {},
   "outputs": [],
   "source": [
    "dfanalise = cdf.dataframe.copy()"
   ]
  },
  {
   "cell_type": "code",
   "execution_count": 82,
   "metadata": {},
   "outputs": [],
   "source": [
    "dfanalise.to_csv(\"../dados/baseExterno/dbExternoV010.csv\")"
   ]
  },
  {
   "cell_type": "code",
   "execution_count": 153,
   "metadata": {},
   "outputs": [
    {
     "data": {
      "text/html": [
       "<div>\n",
       "<style scoped>\n",
       "    .dataframe tbody tr th:only-of-type {\n",
       "        vertical-align: middle;\n",
       "    }\n",
       "\n",
       "    .dataframe tbody tr th {\n",
       "        vertical-align: top;\n",
       "    }\n",
       "\n",
       "    .dataframe thead th {\n",
       "        text-align: right;\n",
       "    }\n",
       "</style>\n",
       "<table border=\"1\" class=\"dataframe\">\n",
       "  <thead>\n",
       "    <tr style=\"text-align: right;\">\n",
       "      <th></th>\n",
       "      <th>descricao</th>\n",
       "      <th>CATEGORIA</th>\n",
       "    </tr>\n",
       "  </thead>\n",
       "  <tbody>\n",
       "    <tr>\n",
       "      <th>0</th>\n",
       "      <td>Molho Inglês Kenko 150ml</td>\n",
       "      <td>MOLHO INGLÊS</td>\n",
       "    </tr>\n",
       "    <tr>\n",
       "      <th>1</th>\n",
       "      <td>Molho Inglês Kitano 150ml</td>\n",
       "      <td>MOLHO INGLÊS</td>\n",
       "    </tr>\n",
       "    <tr>\n",
       "      <th>2</th>\n",
       "      <td>Molho Inglês Lea Perrins 150ml</td>\n",
       "      <td>MOLHO INGLÊS</td>\n",
       "    </tr>\n",
       "    <tr>\n",
       "      <th>3</th>\n",
       "      <td>Molho Inglês Hemmer 150ml</td>\n",
       "      <td>MOLHO INGLÊS</td>\n",
       "    </tr>\n",
       "    <tr>\n",
       "      <th>4</th>\n",
       "      <td>Molho Inglês Kodilar 150ml</td>\n",
       "      <td>MOLHO INGLÊS</td>\n",
       "    </tr>\n",
       "    <tr>\n",
       "      <th>...</th>\n",
       "      <td>...</td>\n",
       "      <td>...</td>\n",
       "    </tr>\n",
       "    <tr>\n",
       "      <th>408</th>\n",
       "      <td>Óleo de Coco sem Sabor Copra 500ml</td>\n",
       "      <td>SAUDÁVEL</td>\n",
       "    </tr>\n",
       "    <tr>\n",
       "      <th>409</th>\n",
       "      <td>Óleo de Coco sem Sabor Copra 200ml</td>\n",
       "      <td>SAUDÁVEL</td>\n",
       "    </tr>\n",
       "    <tr>\n",
       "      <th>410</th>\n",
       "      <td>Óleo de Coco Sem Sabor 500 ml Copra</td>\n",
       "      <td>SAUDÁVEL</td>\n",
       "    </tr>\n",
       "    <tr>\n",
       "      <th>411</th>\n",
       "      <td>Óleo de Coco virgem 200ml - Qualicoco</td>\n",
       "      <td>SAUDÁVEL</td>\n",
       "    </tr>\n",
       "    <tr>\n",
       "      <th>412</th>\n",
       "      <td>Óleo de Coco Extra-Virgem Copra 200ml</td>\n",
       "      <td>SAUDÁVEL</td>\n",
       "    </tr>\n",
       "  </tbody>\n",
       "</table>\n",
       "<p>413 rows × 2 columns</p>\n",
       "</div>"
      ],
      "text/plain": [
       "                                 descricao     CATEGORIA\n",
       "0                 Molho Inglês Kenko 150ml  MOLHO INGLÊS\n",
       "1                Molho Inglês Kitano 150ml  MOLHO INGLÊS\n",
       "2           Molho Inglês Lea Perrins 150ml  MOLHO INGLÊS\n",
       "3                Molho Inglês Hemmer 150ml  MOLHO INGLÊS\n",
       "4               Molho Inglês Kodilar 150ml  MOLHO INGLÊS\n",
       "..                                     ...           ...\n",
       "408     Óleo de Coco sem Sabor Copra 500ml      SAUDÁVEL\n",
       "409     Óleo de Coco sem Sabor Copra 200ml      SAUDÁVEL\n",
       "410    Óleo de Coco Sem Sabor 500 ml Copra      SAUDÁVEL\n",
       "411  Óleo de Coco virgem 200ml - Qualicoco      SAUDÁVEL\n",
       "412  Óleo de Coco Extra-Virgem Copra 200ml      SAUDÁVEL\n",
       "\n",
       "[413 rows x 2 columns]"
      ]
     },
     "execution_count": 153,
     "metadata": {},
     "output_type": "execute_result"
    }
   ],
   "source": [
    "dfanalise"
   ]
  },
  {
   "cell_type": "code",
   "execution_count": null,
   "metadata": {},
   "outputs": [],
   "source": []
  },
  {
   "cell_type": "markdown",
   "metadata": {},
   "source": [
    "# PARA TESTES"
   ]
  },
  {
   "cell_type": "code",
   "execution_count": 126,
   "metadata": {},
   "outputs": [],
   "source": [
    "html = open(\"../dados/baseExterno/ferramentaCarrefour.html\", encoding=\"utf8\").read()\n",
    "soup = BeautifulSoup(html, 'html.parser')"
   ]
  },
  {
   "cell_type": "code",
   "execution_count": 127,
   "metadata": {},
   "outputs": [],
   "source": [
    "nmproductname = soup.find_all('h2', class_=\"nm-product-name\")\n"
   ]
  },
  {
   "cell_type": "code",
   "execution_count": 131,
   "metadata": {},
   "outputs": [
    {
     "data": {
      "text/plain": [
       "'Kit Jogo De Ferramentas Sparta 175 Pcs C/ Soquetes E Chaves - Sparta'"
      ]
     },
     "execution_count": 131,
     "metadata": {},
     "output_type": "execute_result"
    }
   ],
   "source": [
    "nmproductname[0].string.replace('\\n','').strip()"
   ]
  },
  {
   "cell_type": "code",
   "execution_count": null,
   "metadata": {},
   "outputs": [],
   "source": [
    "product_list = []\n",
    "seq = 0\n",
    "for tag in nmproductname:\n",
    "    seq+=1\n",
    "    product = tag.a.get_attribute_list('title')\n",
    "    product_list.append(product)\n",
    "df2 = pd.DataFrame(product_list)"
   ]
  },
  {
   "cell_type": "code",
   "execution_count": null,
   "metadata": {},
   "outputs": [],
   "source": [
    "df2['CATEGORIA'] = 'BISCOITO'\n",
    "df2.columns = ['Descrição Parceiro', 'CATEGORIA']"
   ]
  },
  {
   "cell_type": "code",
   "execution_count": null,
   "metadata": {},
   "outputs": [],
   "source": [
    "pd.concat([df,df2],ignore_index=True)"
   ]
  }
 ],
 "metadata": {
  "kernelspec": {
   "display_name": "Python 3.8.0 64-bit",
   "language": "python",
   "name": "python38064bit89dc14be3fab4c2eaace80ffa1d6b33e"
  },
  "language_info": {
   "codemirror_mode": {
    "name": "ipython",
    "version": 3
   },
   "file_extension": ".py",
   "mimetype": "text/x-python",
   "name": "python",
   "nbconvert_exporter": "python",
   "pygments_lexer": "ipython3",
   "version": "3.8.0"
  }
 },
 "nbformat": 4,
 "nbformat_minor": 4
}
