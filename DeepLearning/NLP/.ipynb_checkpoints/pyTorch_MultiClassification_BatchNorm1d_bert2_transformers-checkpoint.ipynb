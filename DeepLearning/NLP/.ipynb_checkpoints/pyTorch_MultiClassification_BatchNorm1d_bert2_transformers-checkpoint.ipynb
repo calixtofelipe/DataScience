{
 "cells": [
  {
   "cell_type": "code",
   "execution_count": 1,
   "metadata": {},
   "outputs": [],
   "source": [
    "import pandas as pd\n",
    "import numpy as np\n",
    "\n",
    "import torch\n",
    "import torch.nn as nn\n",
    "import torch.nn.functional as F\n",
    "import torch.optim as optim\n",
    "from torch.utils.data import Dataset, DataLoader, WeightedRandomSampler\n",
    "from sklearn.model_selection import train_test_split\n",
    "from tqdm.notebook import tqdm\n",
    "import os\n",
    "from sklearn.metrics import f1_score\n",
    "import seaborn as sns\n",
    "from sklearn.preprocessing import MinMaxScaler    \n",
    "from sklearn.metrics import confusion_matrix, classification_report\n",
    "import matplotlib.pyplot as plt\n",
    "import pycuda.driver as cuda\n",
    "from unidecode import unidecode\n",
    "from sklearn.preprocessing import LabelEncoder"
   ]
  },
  {
   "cell_type": "code",
   "execution_count": 1108,
   "metadata": {},
   "outputs": [],
   "source": [
    "train = pd.read_csv('../dados/train_token_acentuado_V009.csv',index_col=0, sep=';')\n"
   ]
  },
  {
   "cell_type": "code",
   "execution_count": 1110,
   "metadata": {},
   "outputs": [],
   "source": [
    "grupos_split = pd.read_csv('../dados/catwithSplit.csv',index_col=0)"
   ]
  },
  {
   "cell_type": "code",
   "execution_count": 1112,
   "metadata": {},
   "outputs": [],
   "source": [
    "from sklearn.preprocessing import LabelEncoder\n",
    "cats_encoder = LabelEncoder()\n",
    "train['CATEGORIA_encoded'] = cats_encoder.fit_transform(train['CATEGORIA'])"
   ]
  },
  {
   "cell_type": "code",
   "execution_count": 201,
   "metadata": {},
   "outputs": [],
   "source": [
    "def processingLabel(dadosBase, labelname):\n",
    "    linha=0\n",
    "    dados = dadosBase.copy()\n",
    "    dados['CATEGORIA_EDIT'] = dados[labelname].str.replace('/',' ')\n",
    "    dados['CATEGORIA_EDIT'] = dados['CATEGORIA_EDIT'].str.replace(' E ',' ')\n",
    "    dados['CATEGORIA_EDIT'] = dados['CATEGORIA_EDIT'].str.replace(' PARA ',' ')\n",
    "    dados['CATEGORIA_EDIT'] = dados['CATEGORIA_EDIT'].str.replace(' DE ',' ')\n",
    "    dados['CATEGORIA_EDIT'] = dados['CATEGORIA_EDIT'].str.replace(' EM ',' ')\n",
    "    dados['CATEGORIA_EDIT'] = dados['CATEGORIA_EDIT'].str.replace('  ',' ')\n",
    "    dados['CATEGORIA_EDIT'] = dados['CATEGORIA_EDIT'].str.replace(' A ',' ')\n",
    "    dados['CATEGORIA_EDIT'] = dados['CATEGORIA_EDIT'].str.replace(' O ',' ')\n",
    "    dados['CATEGORIA_EDIT'] = dados['CATEGORIA_EDIT'].str.replace(' DO ',' ')\n",
    "    dados['CATEGORIA_EDIT'] = dados['CATEGORIA_EDIT'].str.replace('CREME GEL DENTAL ','GEL ')\n",
    "\n",
    "    for categoria_ok in dados['CATEGORIA_EDIT']:\n",
    "        linha+=1\n",
    "        \n",
    "        words = categoria_ok.split()\n",
    "        tamanho = len(words)\n",
    "        #wordseq = []\n",
    "        for seqword in range(tamanho):\n",
    "            \n",
    "            #wordseq.append(words[seqword])\n",
    "            nameColumn = 'CATEGORIA_EDIT'+'w'+str(seqword)\n",
    "            #print(coluna, categoria_ok, nameColumn, words[seqword])\n",
    "            #dados[(dados[coluna]==categoria_ok),nameColumn] = words[seqword]\n",
    "            #dados = dados.copy()\n",
    "            dados.loc[(dados['CATEGORIA_EDIT']==categoria_ok),nameColumn] = words[seqword]\n",
    "\n",
    "        #print(dados.columns)\n",
    "        #if linha > 10:\n",
    "            #return dados\n",
    "    return dados\n",
    "\n"
   ]
  },
  {
   "cell_type": "code",
   "execution_count": 15,
   "metadata": {},
   "outputs": [],
   "source": [
    "def splitWordsCol(dados, coluna):\n",
    "    #linha = 0\n",
    "    for categoria_ok in dados[coluna]:\n",
    "        #linha+=1\n",
    "        \n",
    "        words = categoria_ok.split()\n",
    "        tamanho = len(words)\n",
    "        #wordseq = []\n",
    "        for seqword in range(tamanho):\n",
    "            words[seqword]\n",
    "            #wordseq.append(words[seqword])\n",
    "            nameColumn = coluna+'w'+str(seqword)\n",
    "            #print(coluna, categoria_ok, nameColumn, words[seqword])\n",
    "            #dados[(dados[coluna]==categoria_ok),nameColumn] = words[seqword]\n",
    "            dados.loc[(dados[coluna]==categoria_ok),nameColumn] = words[seqword]\n",
    "        \n",
    "        #if linha >10:\n",
    "            #return"
   ]
  },
  {
   "cell_type": "code",
   "execution_count": 17,
   "metadata": {},
   "outputs": [],
   "source": [
    "#train['CATEGORIA_OUT_ACCENT'] = train[\"CATEGORIA\"].apply(lambda x: unidecode(x))"
   ]
  },
  {
   "cell_type": "code",
   "execution_count": 21,
   "metadata": {},
   "outputs": [],
   "source": [
    "#train['CATEGORIA_OUT_ACCENT'] = train['CATEGORIA_OUT_ACCENT'].str.lower()"
   ]
  },
  {
   "cell_type": "code",
   "execution_count": 203,
   "metadata": {},
   "outputs": [],
   "source": [
    "train_split = processingLabel(train, 'CATEGORIA')"
   ]
  },
  {
   "cell_type": "code",
   "execution_count": 197,
   "metadata": {},
   "outputs": [],
   "source": [
    "splitWordsCol(train, 'CATEGORIA')"
   ]
  },
  {
   "cell_type": "code",
   "execution_count": 12,
   "metadata": {},
   "outputs": [],
   "source": [
    "from sklearn.preprocessing import LabelEncoder\n",
    "cats_encoder = LabelEncoder()\n",
    "train['CATEGORIA_EDITw0_encode'] = cats_encoder.fit_transform(train['CATEGORIA_EDITw0'])"
   ]
  },
  {
   "cell_type": "code",
   "execution_count": 1117,
   "metadata": {},
   "outputs": [
    {
     "name": "stdout",
     "output_type": "stream",
     "text": [
      "X_train (19808, 1024) y_train (19808,) X_val (2201, 1024) y_val (2201,)\n"
     ]
    }
   ],
   "source": [
    "y = train['CATEGORIA_encoded'].copy()\n",
    "X = train\n",
    "X_train0, X_val0, y_train1, y_val1 = train_test_split(X, y , train_size=0.9,stratify=y, random_state=0)#suffle\n",
    "\n",
    "X_train1=X_train0.drop([\"DESCRIÇÃO PARCEIRO\",'DESCRIÇÃO PARCEIROajuste','SUB-CATEGORIA', \n",
    "                   'CATEGORIA', 'DEPARTAMENTO', 'CATEGORIA_encoded'\n",
    "                ], axis=1).copy()\n",
    "X_val=X_val0.drop([\"DESCRIÇÃO PARCEIRO\",'DESCRIÇÃO PARCEIROajuste','SUB-CATEGORIA', \n",
    "                   'CATEGORIA', 'DEPARTAMENTO', 'CATEGORIA_encoded'\n",
    "                ], axis=1).copy()\n",
    "\n",
    "y_train=y_train1.copy()\n",
    "y_val=y_val1.copy()\n",
    "\n",
    "X_train, y_train = np.array(X_train1), np.array(y_train)\n",
    "X_val, y_val = np.array(X_val), np.array(y_val)\n",
    "print(f'X_train {X_train.shape} y_train {y_train.shape} X_val {X_val.shape} y_val {y_val.shape}' )"
   ]
  },
  {
   "cell_type": "code",
   "execution_count": 1120,
   "metadata": {},
   "outputs": [],
   "source": [
    "class ClassifierDataset(Dataset):\n",
    "    \n",
    "    def __init__(self, X_data, y_data):\n",
    "        self.X_data = X_data\n",
    "        self.y_data = y_data\n",
    "        \n",
    "    def __getitem__(self, index):\n",
    "        return self.X_data[index], self.y_data[index]\n",
    "        \n",
    "    def __len__ (self):\n",
    "        return len(self.X_data)\n",
    "\n",
    "#torch.set_printoptions(precision=10)\n",
    "train_dataset = ClassifierDataset(torch.from_numpy(X_train).float(), torch.from_numpy(y_train).long())\n",
    "val_dataset = ClassifierDataset(torch.from_numpy(X_val).float(), torch.from_numpy(y_val).long())"
   ]
  },
  {
   "cell_type": "code",
   "execution_count": 1125,
   "metadata": {},
   "outputs": [],
   "source": [
    "class_count = np.unique(y_train, return_counts=True)[1:2]\n",
    "class_weights = 1./torch.tensor(class_count[0].tolist(), dtype=torch.float) "
   ]
  },
  {
   "cell_type": "code",
   "execution_count": 1126,
   "metadata": {},
   "outputs": [
    {
     "data": {
      "text/plain": [
       "'\\nclass_count = np.unique(y_train, return_counts=True)[1:2]\\nclass_weights = 1./torch.tensor(class_count[0].tolist(), dtype=torch.float) \\ntarget_list = []\\nfor _, t in train_dataset:\\n    target_list.append(t)\\n    \\ntarget_list = torch.tensor(target_list)\\ntarget_list = target_list[torch.randperm(len(target_list))]\\nclass_weights_all = class_weights[target_list]\\n\\npara fazer o balanceamento a técnica usada foi:\\nComo são 332 categorias mais o número de exemplos para cada categoria é diferente. Verificou-se quantos exemplos se tem para \\ncada categoria e para cada item da lista de exemplos atribuiu o seu percentual em relação a sua quantidade de amostras.\\nExemplo:\\nSuponha que o primeiro exemplo seja a categoria: CAFE. E temos no total 8 registros com a categoria CAFE. Então o valor para essa linha\\nserá 1/8. \\nPassando essa lista de pesos para a classe WeightedRandomSampler ela irá criar o \\n\\nweighted_sampler = WeightedRandomSampler(\\n    weights=class_weights_all,\\n    num_samples=len(class_weights_all),\\n    replacement=True\\n)\\n'"
      ]
     },
     "execution_count": 1126,
     "metadata": {},
     "output_type": "execute_result"
    }
   ],
   "source": [
    "\"\"\"\n",
    "class_count = np.unique(y_train, return_counts=True)[1:2]\n",
    "class_weights = 1./torch.tensor(class_count[0].tolist(), dtype=torch.float) \n",
    "target_list = []\n",
    "for _, t in train_dataset:\n",
    "    target_list.append(t)\n",
    "    \n",
    "target_list = torch.tensor(target_list)\n",
    "target_list = target_list[torch.randperm(len(target_list))]\n",
    "class_weights_all = class_weights[target_list]\n",
    "\n",
    "para fazer o balanceamento a técnica usada foi:\n",
    "Como são 332 categorias mais o número de exemplos para cada categoria é diferente. Verificou-se quantos exemplos se tem para \n",
    "cada categoria e para cada item da lista de exemplos atribuiu o seu percentual em relação a sua quantidade de amostras.\n",
    "Exemplo:\n",
    "Suponha que o primeiro exemplo seja a categoria: CAFE. E temos no total 8 registros com a categoria CAFE. Então o valor para essa linha\n",
    "será 1/8. \n",
    "Passando essa lista de pesos para a classe WeightedRandomSampler ela irá criar o \n",
    "\n",
    "weighted_sampler = WeightedRandomSampler(\n",
    "    weights=class_weights_all,\n",
    "    num_samples=len(class_weights_all),\n",
    "    replacement=True\n",
    ")\n",
    "\"\"\""
   ]
  },
  {
   "cell_type": "code",
   "execution_count": 1231,
   "metadata": {},
   "outputs": [],
   "source": [
    "BATCH_SIZE = 64\n",
    "train_loader = DataLoader(dataset=train_dataset,\n",
    "                          batch_size=BATCH_SIZE,\n",
    "                          #sampler=weighted_sampler\n",
    ")\n",
    "val_loader = DataLoader(dataset=val_dataset,\n",
    "                          batch_size=BATCH_SIZE,\n",
    "                          #sampler=weighted_sampler\n",
    ")"
   ]
  },
  {
   "cell_type": "code",
   "execution_count": 1232,
   "metadata": {},
   "outputs": [
    {
     "data": {
      "text/plain": [
       "torch.Size([19808, 1024])"
      ]
     },
     "execution_count": 1232,
     "metadata": {},
     "output_type": "execute_result"
    }
   ],
   "source": [
    "#train_dataset.X_data.shape\n",
    "train_loader.dataset.X_data.shape"
   ]
  },
  {
   "cell_type": "code",
   "execution_count": 1233,
   "metadata": {},
   "outputs": [
    {
     "data": {
      "text/plain": [
       "'SIMULACAO DE UMA REDE NEURAL\\ndados = X_train_batch.cpu()\\nmodel1 = nn.Linear(1024, 1024)\\nmodel2 = nn.BatchNorm1d(1024)\\nmodelRelu = nn.ReLU()\\nmodelDropout = nn.Dropout(p=0.1)\\nmodelLSTM = nn.LSTM(input_size=1024, hidden_size=1024, num_layers=2)\\n\\nout1 = model1(dados)\\nout2 = model2(out1)\\nout3 = modelRelu(out2)\\nout4 = modelDropout(out3)\\nout4 = out4.view(-1,32,1024)\\nout5, (ht, ct) = modelLSTM(out4)\\n'"
      ]
     },
     "execution_count": 1233,
     "metadata": {},
     "output_type": "execute_result"
    }
   ],
   "source": [
    "\"\"\"SIMULACAO DE UMA REDE NEURAL\n",
    "dados = X_train_batch.cpu()\n",
    "model1 = nn.Linear(1024, 1024)\n",
    "model2 = nn.BatchNorm1d(1024)\n",
    "modelRelu = nn.ReLU()\n",
    "modelDropout = nn.Dropout(p=0.1)\n",
    "modelLSTM = nn.LSTM(input_size=1024, hidden_size=1024, num_layers=2)\n",
    "\n",
    "out1 = model1(dados)\n",
    "out2 = model2(out1)\n",
    "out3 = modelRelu(out2)\n",
    "out4 = modelDropout(out3)\n",
    "out4 = out4.view(-1,32,1024)\n",
    "out5, (ht, ct) = modelLSTM(out4)\n",
    "\"\"\""
   ]
  },
  {
   "cell_type": "code",
   "execution_count": 1234,
   "metadata": {},
   "outputs": [],
   "source": [
    "class MulticlassClassification(nn.Module):\n",
    "    def __init__(self, num_feature, num_class):\n",
    "        super(MulticlassClassification, self).__init__()\n",
    "        # definição dos layers, tem estado. Quardam o estado que eles aprendem durante o treinamento.\n",
    "        self.layer_1 = nn.Linear(num_feature, num_feature)\n",
    "        self.layer_2 = nn.Linear(num_feature, num_feature)\n",
    "        self.layer_3 = nn.Linear(num_feature, num_feature)\n",
    "        #self.layer_3 = nn.LSTM(input_size=num_feature, hidden_size=1024, num_layers=2)#, batch_first=True\n",
    "        self.layer_out = nn.Linear(num_feature, num_class) \n",
    "        \n",
    "        #self.relu = nn.ReLU()\n",
    "        #self.PReLU = nn.PReLU()\n",
    "        self.LeakyReLU = nn.LeakyReLU()\n",
    "        #self.sigmoid = nn.Sigmoid()\n",
    "        #self.dropout = nn.AlphaDropout(p=0.05) #zera alguns termos para evitar co-adaptacao\n",
    "        self.batchnorm1 = nn.BatchNorm1d(num_feature, momentum=0.08)  #melhorou TRASTICAMENTE QUANDO COLOQUEI ESSA LAYER\n",
    "        self.batchnorm2 = nn.BatchNorm1d(num_feature, momentum=0.08)\n",
    "        self.batchnorm3 = nn.BatchNorm1d(num_feature, momentum=0.08)\n",
    "        #self.gru = nn.GRU(num_feature, num_feature)\n",
    "        #self.conv1 = nn.Conv1d(num_feature, num_feature, kernel_size=2)\n",
    "        \n",
    "        self.num_feature = num_feature\n",
    "        \n",
    "    def forward(self, x):\n",
    "        x = self.layer_1(x)\n",
    "        x = self.batchnorm1(x)\n",
    "        x = self.LeakyReLU(x)\n",
    "        #x = self.sigmoid(x)\n",
    "        \n",
    "        x = self.layer_2(x)\n",
    "        x = self.batchnorm2(x) #quando aumentei esse layer não aumentou a performance\n",
    "        #x = self.LeakyReLU(x)\n",
    "        #x = F.relu(x)\n",
    "        #x = self.dropout(x)\n",
    "        \n",
    "        x = self.layer_3(x)\n",
    "        x = self.batchnorm3(x) #quando aumentei esse layer não aumentou a performance\n",
    "        #x = self.LeakyReLU(x)\n",
    "        \n",
    "        #x = self.layer_3(x)\n",
    "        #print(x.shape[0], self.num_feature)\n",
    "        #x = x.view(-1,x.shape[0],self.num_feature)\n",
    "        #x, (ht, ct) = self.layer_3(x)   # LSTM não mudou o resultado\n",
    "        #print(x.shape, x.shape[0], self.num_feature)\n",
    "        #x = x.view(x.shape[1],self.num_feature)\n",
    "        #x = self.batchnorm3(x)\n",
    "        #x = F.relu(x)\n",
    "        #x = self.dropout(x)\n",
    "        #x, hidden = self.gru(x, self.num_feature)\n",
    "        #x = self.conv1\n",
    "        #x = torch.tanh(x) não alterou o resultado\n",
    "        x = self.layer_out(x)\n",
    "        \n",
    "        return x"
   ]
  },
  {
   "cell_type": "code",
   "execution_count": 1235,
   "metadata": {},
   "outputs": [
    {
     "name": "stdout",
     "output_type": "stream",
     "text": [
      "MulticlassClassification(\n",
      "  (layer_1): Linear(in_features=1024, out_features=1024, bias=True)\n",
      "  (layer_2): Linear(in_features=1024, out_features=1024, bias=True)\n",
      "  (layer_3): Linear(in_features=1024, out_features=1024, bias=True)\n",
      "  (layer_out): Linear(in_features=1024, out_features=332, bias=True)\n",
      "  (LeakyReLU): LeakyReLU(negative_slope=0.01)\n",
      "  (batchnorm1): BatchNorm1d(1024, eps=1e-05, momentum=0.08, affine=True, track_running_stats=True)\n",
      "  (batchnorm2): BatchNorm1d(1024, eps=1e-05, momentum=0.08, affine=True, track_running_stats=True)\n",
      "  (batchnorm3): BatchNorm1d(1024, eps=1e-05, momentum=0.08, affine=True, track_running_stats=True)\n",
      ")\n"
     ]
    }
   ],
   "source": [
    "EPOCHS = 25\n",
    "LEARNING_RATE = 0.0007\n",
    "NUM_FEATURES = len(X_train[0])\n",
    "NUM_CLASSES = y.value_counts().count()\n",
    "device = torch.device(\"cuda:0\" if torch.cuda.is_available() else \"cpu\")\n",
    "torch.cuda.manual_seed(60) # sempre gerar os mesmos parametros\n",
    "torch.manual_seed(60) # sempre gerar os mesmos parametros\n",
    "model = MulticlassClassification(num_feature = NUM_FEATURES, num_class=NUM_CLASSES)\n",
    "model.to(device)\n",
    "print(model)\n",
    "weightSequencial = torch.from_numpy(np.arange(0, 53, 1)).long() #class_weights\n",
    "criterion = nn.CrossEntropyLoss(weight=class_weights).to(device)\n",
    "optimizer = optim.Adam(model.parameters(), lr=LEARNING_RATE)\n",
    "\n",
    "accuracy_stats = {\n",
    "    'train': []\n",
    "    ,\"val\": []\n",
    "}\n",
    "\n",
    "loss_stats = {\n",
    "    'train': []\n",
    "    ,\"val\": []\n",
    "}\n",
    "\n",
    "def multi_acc(y_pred, y_test):\n",
    "    y_pred_softmax = torch.log_softmax(y_pred, dim = 1)\n",
    "    _, y_pred_tags = torch.max(y_pred_softmax, dim = 1)    \n",
    "    \n",
    "    correct_pred = (y_pred_tags == y_test).float()\n",
    "    acc = correct_pred.sum() / len(correct_pred)\n",
    "    \n",
    "    acc = torch.round(acc) * 100\n",
    "    \n",
    "    return acc\n",
    "\n",
    "#list(model.parameters()) "
   ]
  },
  {
   "cell_type": "code",
   "execution_count": 1236,
   "metadata": {
    "scrolled": true
   },
   "outputs": [
    {
     "data": {
      "application/vnd.jupyter.widget-view+json": {
       "model_id": "e390c184fe02411db25ebec769f52024",
       "version_major": 2,
       "version_minor": 0
      },
      "text/plain": [
       "HBox(children=(FloatProgress(value=0.0, max=25.0), HTML(value='')))"
      ]
     },
     "metadata": {},
     "output_type": "display_data"
    },
    {
     "name": "stdout",
     "output_type": "stream",
     "text": [
      "Epoch 001:|Train Loss:4.050    |Train Acc:0.000|    |Val Loss:3.086|    |val Acc:0.000|f1: 0.36\n",
      "Epoch 002:|Train Loss:2.338    |Train Acc:10.000|    |Val Loss:2.321|    |val Acc:22.857|f1: 0.40\n",
      "Epoch 003:|Train Loss:1.647    |Train Acc:50.000|    |Val Loss:2.141|    |val Acc:22.857|f1: 0.52\n",
      "Epoch 004:|Train Loss:1.237    |Train Acc:84.516|    |Val Loss:1.960|    |val Acc:48.571|f1: 0.44\n",
      "Epoch 005:|Train Loss:0.979    |Train Acc:96.129|    |Val Loss:2.002|    |val Acc:68.571|f1: 0.56\n",
      "Epoch 006:|Train Loss:0.826    |Train Acc:99.677|    |Val Loss:1.864|    |val Acc:85.714|f1: 0.64\n",
      "Epoch 007:|Train Loss:0.733    |Train Acc:100.000|    |Val Loss:1.941|    |val Acc:74.286|f1: 0.48\n",
      "Epoch 008:|Train Loss:0.714    |Train Acc:99.677|    |Val Loss:1.955|    |val Acc:80.000|f1: 0.72\n",
      "Epoch 009:|Train Loss:0.610    |Train Acc:100.000|    |Val Loss:1.914|    |val Acc:88.571|f1: 0.56\n",
      "Epoch 010:|Train Loss:0.541    |Train Acc:100.000|    |Val Loss:1.886|    |val Acc:94.286|f1: 0.72\n",
      "Epoch 011:|Train Loss:0.497    |Train Acc:100.000|    |Val Loss:1.872|    |val Acc:88.571|f1: 0.48\n",
      "Epoch 012:|Train Loss:0.383    |Train Acc:100.000|    |Val Loss:2.057|    |val Acc:94.286|f1: 0.72\n",
      "Epoch 013:|Train Loss:0.320    |Train Acc:100.000|    |Val Loss:1.955|    |val Acc:100.000|f1: 0.68\n",
      "Epoch 014:|Train Loss:0.408    |Train Acc:100.000|    |Val Loss:2.002|    |val Acc:100.000|f1: 0.52\n",
      "Epoch 015:|Train Loss:0.475    |Train Acc:100.000|    |Val Loss:2.441|    |val Acc:97.143|f1: 0.64\n",
      "Epoch 016:|Train Loss:0.403    |Train Acc:100.000|    |Val Loss:1.998|    |val Acc:100.000|f1: 0.80\n",
      "Epoch 017:|Train Loss:0.359    |Train Acc:100.000|    |Val Loss:2.136|    |val Acc:100.000|f1: 0.72\n",
      "Epoch 018:|Train Loss:0.423    |Train Acc:100.000|    |Val Loss:2.113|    |val Acc:100.000|f1: 0.68\n",
      "Epoch 019:|Train Loss:0.248    |Train Acc:100.000|    |Val Loss:1.966|    |val Acc:100.000|f1: 0.64\n",
      "Epoch 020:|Train Loss:0.221    |Train Acc:100.000|    |Val Loss:2.004|    |val Acc:100.000|f1: 0.72\n",
      "Epoch 021:|Train Loss:0.259    |Train Acc:100.000|    |Val Loss:2.209|    |val Acc:100.000|f1: 0.80\n",
      "Epoch 022:|Train Loss:0.430    |Train Acc:100.000|    |Val Loss:2.524|    |val Acc:94.286|f1: 0.76\n",
      "Epoch 023:|Train Loss:0.336    |Train Acc:100.000|    |Val Loss:1.914|    |val Acc:100.000|f1: 0.72\n",
      "Epoch 024:|Train Loss:0.148    |Train Acc:100.000|    |Val Loss:1.958|    |val Acc:100.000|f1: 0.76\n",
      "Epoch 025:|Train Loss:0.091    |Train Acc:100.000|    |Val Loss:2.064|    |val Acc:100.000|f1: 0.76\n",
      "\n"
     ]
    }
   ],
   "source": [
    "listPredicao = []\n",
    "listReal = []\n",
    "for e in tqdm((range(1, EPOCHS+1))):\n",
    "    \n",
    "    # TRAINING\n",
    "    train_epoch_loss = 0\n",
    "    train_epoch_acc = 0\n",
    "\n",
    "    model.train()\n",
    "    for X_train_batch, y_train_batch in train_loader:\n",
    "        X_train_batch, y_train_batch = X_train_batch.to(device), y_train_batch.to(device)\n",
    "        optimizer.zero_grad()\n",
    "        \n",
    "        y_train_pred = model(X_train_batch)\n",
    "        \n",
    "        train_loss = criterion(y_train_pred, y_train_batch)\n",
    "        train_acc = multi_acc(y_train_pred, y_train_batch)\n",
    "        \n",
    "        train_loss.backward()\n",
    "        optimizer.step()\n",
    "        \n",
    "        train_epoch_loss += train_loss.item()\n",
    "        train_epoch_acc += train_acc.item()\n",
    "        \n",
    "        \n",
    "        # VALIDATION    \n",
    "    with torch.no_grad():\n",
    "\n",
    "        val_epoch_loss = 0\n",
    "        val_epoch_acc = 0\n",
    "\n",
    "        model.eval()\n",
    "        for X_val_batch, y_val_batch in val_loader:\n",
    "            X_val_batch, y_val_batch = X_val_batch.to(device), y_val_batch.to(device)\n",
    "\n",
    "            y_val_pred = model(X_val_batch)\n",
    "\n",
    "            val_loss = criterion(y_val_pred, y_val_batch)\n",
    "            val_acc = multi_acc(y_val_pred, y_val_batch)\n",
    "\n",
    "            val_epoch_loss += val_loss.item()\n",
    "            val_epoch_acc += val_acc.item()\n",
    "            \n",
    "            y_pred_softmax = torch.log_softmax(y_val_pred, dim = 1)\n",
    "            _, y_pred_tags = torch.max(y_pred_softmax, dim = 1)\n",
    "            listPredicao.append(y_pred_tags.cpu().numpy())\n",
    "            listReal.append(X_val_batch.cpu().numpy())\n",
    "            target = y_pred_tags.cpu().numpy()\n",
    "            f1_batch = f1_score(y_val_batch.cpu().numpy(),target,average='micro')\n",
    "            \n",
    "    loss_stats['val'].append(val_epoch_loss/len(val_loader))\n",
    "    accuracy_stats['val'].append(val_epoch_acc/len(val_loader))\n",
    "        \n",
    "    \n",
    "    loss_stats['train'].append(train_epoch_loss/len(train_loader))\n",
    "    accuracy_stats['train'].append(train_epoch_acc/len(train_loader))\n",
    "    print(f'Epoch {e+0:03}:|Train Loss:{train_epoch_loss/len(train_loader):.3f}\\\n",
    "    |Train Acc:{train_epoch_acc/len(train_loader):.3f}|\\\n",
    "    |Val Loss:{val_epoch_loss/len(val_loader):.3f}|\\\n",
    "    |val Acc:{val_epoch_acc/len(val_loader):.3f}|f1: {f1_batch:.2f}')\n",
    "    \n",
    "    "
   ]
  },
  {
   "cell_type": "code",
   "execution_count": 1237,
   "metadata": {
    "scrolled": true
   },
   "outputs": [
    {
     "data": {
      "text/plain": [
       "Text(0.5, 1.0, 'Train-Val Loss/Epoch')"
      ]
     },
     "execution_count": 1237,
     "metadata": {},
     "output_type": "execute_result"
    },
    {
     "data": {
      "image/png": "[encoded data removed]",
      "text/plain": [
       "<Figure size 1080x432 with 2 Axes>"
      ]
     },
     "metadata": {
      "needs_background": "light"
     },
     "output_type": "display_data"
    }
   ],
   "source": [
    "train_val_acc_df = pd.DataFrame.from_dict(accuracy_stats).reset_index().melt(id_vars=['index']).rename(columns={\"index\":\"epochs\"})\n",
    "train_val_loss_df = pd.DataFrame.from_dict(loss_stats).reset_index().melt(id_vars=['index']).rename(columns={\"index\":\"epochs\"})\n",
    "\n",
    "fig, axes = plt.subplots(nrows=1, ncols=2, figsize=(30,10))\n",
    "fig.set_figheight(6)\n",
    "fig.set_figwidth(15)\n",
    "sns.lineplot(data=train_val_acc_df, x = \"epochs\", y=\"value\", hue=\"variable\",  ax=axes[0]).set_title('Train-Val Accuracy/Epoch')\n",
    "sns.lineplot(data=train_val_loss_df, x = \"epochs\", y=\"value\", hue=\"variable\", ax=axes[1]).set_title('Train-Val Loss/Epoch')"
   ]
  },
  {
   "cell_type": "code",
   "execution_count": 1189,
   "metadata": {
    "scrolled": true
   },
   "outputs": [
    {
     "data": {
      "application/vnd.jupyter.widget-view+json": {
       "model_id": "2071fbabe1ea4eb285679a0c8e0a8401",
       "version_major": 2,
       "version_minor": 0
      },
      "text/plain": [
       "HBox(children=(FloatProgress(value=0.0, max=276.0), HTML(value='')))"
      ]
     },
     "metadata": {},
     "output_type": "display_data"
    },
    {
     "name": "stdout",
     "output_type": "stream",
     "text": [
      "\n"
     ]
    }
   ],
   "source": [
    "y_pred_list = []\n",
    "#esse no_grad é para o modelo saber que não está sendo treinado.\n",
    "with torch.no_grad():\n",
    "    model.eval()\n",
    "    for X_batch, _ in tqdm(val_loader):\n",
    "        X_batch = X_batch.to(device)\n",
    "        y_test_pred = model(X_batch)\n",
    "        y_pred_softmax = torch.log_softmax(y_test_pred, dim = 1)\n",
    "        _, y_pred_tags = torch.max(y_pred_softmax, dim = 1)\n",
    "        y_pred_list.append(y_pred_tags.cpu().numpy())\n",
    "        #if len(y_pred_list) == 3:\n",
    "            #break\n",
    "\n",
    "y_pred_list2 = [a.squeeze().tolist() for a in y_pred_list]"
   ]
  },
  {
   "cell_type": "code",
   "execution_count": 1239,
   "metadata": {},
   "outputs": [],
   "source": [
    "listPredicao = np.hstack(y_pred_list)\n",
    "listReal = val_loader.dataset.y_data.cpu().numpy()"
   ]
  },
  {
   "cell_type": "code",
   "execution_count": 1240,
   "metadata": {},
   "outputs": [
    {
     "data": {
      "text/plain": [
       "array([ 80,   9, 228, ..., 223, 162, 102], dtype=int64)"
      ]
     },
     "execution_count": 1240,
     "metadata": {},
     "output_type": "execute_result"
    }
   ],
   "source": [
    "# = np.array([[0, 1, 2, 3], [4, 5, 6, 7], [8, 9, 10, 11]])\n",
    "#len(np.hstack(listReal))\n",
    "listPredicao"
   ]
  },
  {
   "cell_type": "code",
   "execution_count": 1241,
   "metadata": {},
   "outputs": [
    {
     "data": {
      "text/plain": [
       "0.6524307133121309"
      ]
     },
     "execution_count": 1241,
     "metadata": {},
     "output_type": "execute_result"
    }
   ],
   "source": [
    "f1_score(listReal, listPredicao, average='micro')"
   ]
  },
  {
   "cell_type": "code",
   "execution_count": 1198,
   "metadata": {},
   "outputs": [
    {
     "name": "stdout",
     "output_type": "stream",
     "text": [
      "tensor([103], device='cuda:0')\n",
      "[102]\n"
     ]
    }
   ],
   "source": [
    "print(y_val_batch)\n",
    "print(y_pred_tags.cpu().numpy())\n",
    "#y_val_batch[0]"
   ]
  },
  {
   "cell_type": "code",
   "execution_count": 1199,
   "metadata": {},
   "outputs": [
    {
     "data": {
      "text/plain": [
       "0.6524307133121309"
      ]
     },
     "execution_count": 1199,
     "metadata": {},
     "output_type": "execute_result"
    }
   ],
   "source": [
    "f1_score(listReal, listPredicao, average='micro')"
   ]
  },
  {
   "cell_type": "code",
   "execution_count": 1200,
   "metadata": {},
   "outputs": [
    {
     "data": {
      "text/plain": [
       "(array([330], dtype=int64),)"
      ]
     },
     "execution_count": 1200,
     "metadata": {},
     "output_type": "execute_result"
    }
   ],
   "source": [
    "from scipy.stats import rankdata\n",
    "xrank = y_pred_softmax.cpu().numpy()\n",
    "rank = rankdata(xrank)\n",
    "np.where(rank == 51)"
   ]
  },
  {
   "cell_type": "markdown",
   "metadata": {},
   "source": [
    "# ANALISES RESULTADO"
   ]
  },
  {
   "cell_type": "code",
   "execution_count": null,
   "metadata": {},
   "outputs": [],
   "source": [
    "print(classification_report(y_test, y_pred_list))"
   ]
  },
  {
   "cell_type": "code",
   "execution_count": null,
   "metadata": {},
   "outputs": [],
   "source": [
    "testpred = X_test1.copy()\n",
    "testpred['y_test'] = y_test\n",
    "testpred['y_pred_list'] = y_pred_list\n",
    "testpred['DEPARTAMENTO_pred'] = testpred['y_pred_list'].map(testpred.groupby(['encoded_DEPARTAMENTO'])['DEPARTAMENTO'].max())\n",
    "pd.set_option('display.min_rows', 30)\n",
    "testpred[(testpred['y_test']==18) & (testpred['y_test']==testpred['y_pred_list'])][['DESCRIÇÃO PARCEIROajuste','DEPARTAMENTO', 'DEPARTAMENTO_pred','y_test', 'y_pred_list']]"
   ]
  },
  {
   "cell_type": "code",
   "execution_count": null,
   "metadata": {},
   "outputs": [],
   "source": [
    "testpred = X_test1.copy()\n",
    "testpred['y_test'] = y_test\n",
    "testpred['y_pred_list'] = y_pred_list\n",
    "testpred['CATEGORIA_pred'] = testpred['y_pred_list'].map(testpred.groupby(['encoded_CATEGORIA'])['CATEGORIA'].max())\n",
    "pd.set_option('display.min_rows', 30)\n",
    "testpred[(testpred['y_test']==23) & (testpred['y_test']!=testpred['y_pred_list'])][['DESCRIÇÃO PARCEIROajuste','CATEGORIA', 'CATEGORIA_pred','y_test', 'y_pred_list']]"
   ]
  },
  {
   "cell_type": "code",
   "execution_count": null,
   "metadata": {},
   "outputs": [],
   "source": [
    "classificacao = classification_report(y_test, y_pred_list, target_names=X_test1.groupby(['encoded_CATEGORIA'])['CATEGORIA'].max().values,\n",
    "                      output_dict=True)\n",
    "#classif1 = pd.DataFrame(classificacao).transpose()\n",
    "#classif = classif1.copy()\n",
    "#classif['sequencia'] = np.arange(len(classif))\n",
    "#classif['categoria'] = classif.index\n",
    "#pd.set_option('display.min_rows', 100)\n",
    "#classif.index = classif['sequencia'].copy()\n",
    "#classif = classif[:332]\n",
    "#classif['quantidade'] = classif['sequencia'].map(train.groupby(['encoded_CATEGORIA'])['CATEGORIA'].count())\n",
    "#classif.sort_values(by=['f1-score','quantidade'], ascending=[True, False]).head(50)"
   ]
  },
  {
   "cell_type": "code",
   "execution_count": null,
   "metadata": {},
   "outputs": [],
   "source": [
    "#X_train1.groupby(['encoded_CATEGORIA'])['CATEGORIA'].max()\n",
    "y_test"
   ]
  },
  {
   "cell_type": "code",
   "execution_count": null,
   "metadata": {},
   "outputs": [],
   "source": [
    "classificacao = classification_report(y_test, y_pred_list, target_names=train.groupby(['encoded_CATEGORIA'])['CATEGORIA'].max().values,\n",
    "                      output_dict=True)\n",
    "classif1 = pd.DataFrame(classificacao).transpose()\n",
    "classif = classif1.copy()\n",
    "classif['sequencia'] = np.arange(len(classif))\n",
    "classif['categoria'] = classif.index\n",
    "pd.set_option('display.min_rows', 100)\n",
    "classif.index = classif['sequencia'].copy()\n",
    "classif = classif[:332]\n",
    "classif['quantidade'] = classif['sequencia'].map(train.groupby(['encoded_CATEGORIA'])['CATEGORIA'].count())\n",
    "classif.sort_values(by=['f1-score','quantidade'], ascending=[True, False]).head(50)"
   ]
  },
  {
   "cell_type": "code",
   "execution_count": null,
   "metadata": {},
   "outputs": [],
   "source": [
    "classif[classif['categoria'].isin(['SUCO CONCENTRADO','SUCO CONCENTRADO'])]"
   ]
  },
  {
   "cell_type": "code",
   "execution_count": null,
   "metadata": {},
   "outputs": [],
   "source": [
    "testpred[testpred['CATEGORIA'].isin(['SUCO CONCENTRADO','SUCO CONCENTRADO'])] \\\n",
    "[['CATEGORIA','DESCRIÇÃO PARCEIRO','DESCRIÇÃO PARCEIROajuste','CATEGORIA_pred']]#.groupby('CATEGORIA_pred').count()"
   ]
  },
  {
   "cell_type": "code",
   "execution_count": null,
   "metadata": {},
   "outputs": [],
   "source": [
    "testpred[['DESCRIÇÃO PARCEIRO','DESCRIÇÃO PARCEIROajuste', 'CATEGORIA', 'SUB-CATEGORIA', 'DEPARTAMENTO', 'encoded_CATEGORIA'\n",
    "         ,'encoded_DEPARTAMENTO','y_test', 'y_pred_list', 'CATEGORIA_pred']].to_csv('pred_categoria.csv')"
   ]
  },
  {
   "cell_type": "markdown",
   "metadata": {},
   "source": [
    "# GERACAO DE DADOS TESTE"
   ]
  },
  {
   "cell_type": "code",
   "execution_count": 1201,
   "metadata": {},
   "outputs": [],
   "source": [
    "test = pd.read_csv('../dados/test_token_acentuado_V008.csv', sep=';', index_col='Unnamed: 0')"
   ]
  },
  {
   "cell_type": "code",
   "execution_count": 1202,
   "metadata": {},
   "outputs": [],
   "source": [
    "X_test = test.drop([\"DESCRIÇÃO PARCEIRO\", \"DESCRIÇÃO PARCEIROajuste\"], axis=1).copy()"
   ]
  },
  {
   "cell_type": "code",
   "execution_count": 1203,
   "metadata": {},
   "outputs": [],
   "source": [
    "X_test = np.array(X_test)"
   ]
  },
  {
   "cell_type": "code",
   "execution_count": 1204,
   "metadata": {},
   "outputs": [],
   "source": [
    "X_torch_test = torch.from_numpy(X_test).float().to(device)"
   ]
  },
  {
   "cell_type": "code",
   "execution_count": 1205,
   "metadata": {},
   "outputs": [
    {
     "data": {
      "text/html": [
       "<div>\n",
       "<style scoped>\n",
       "    .dataframe tbody tr th:only-of-type {\n",
       "        vertical-align: middle;\n",
       "    }\n",
       "\n",
       "    .dataframe tbody tr th {\n",
       "        vertical-align: top;\n",
       "    }\n",
       "\n",
       "    .dataframe thead th {\n",
       "        text-align: right;\n",
       "    }\n",
       "</style>\n",
       "<table border=\"1\" class=\"dataframe\">\n",
       "  <thead>\n",
       "    <tr style=\"text-align: right;\">\n",
       "      <th></th>\n",
       "      <th>DESCRIÇÃO PARCEIRO</th>\n",
       "      <th>DESCRIÇÃO PARCEIROajuste</th>\n",
       "      <th>0</th>\n",
       "      <th>1</th>\n",
       "      <th>2</th>\n",
       "      <th>3</th>\n",
       "      <th>4</th>\n",
       "      <th>5</th>\n",
       "      <th>6</th>\n",
       "      <th>7</th>\n",
       "      <th>...</th>\n",
       "      <th>1014</th>\n",
       "      <th>1015</th>\n",
       "      <th>1016</th>\n",
       "      <th>1017</th>\n",
       "      <th>1018</th>\n",
       "      <th>1019</th>\n",
       "      <th>1020</th>\n",
       "      <th>1021</th>\n",
       "      <th>1022</th>\n",
       "      <th>1023</th>\n",
       "    </tr>\n",
       "  </thead>\n",
       "  <tbody>\n",
       "    <tr>\n",
       "      <th>0</th>\n",
       "      <td>SAL ROSA HIMALAIA C/ ALHO 500G</td>\n",
       "      <td>sal rosa himalaia com alho 500 g</td>\n",
       "      <td>-0.109958</td>\n",
       "      <td>0.998103</td>\n",
       "      <td>0.028219</td>\n",
       "      <td>-0.242036</td>\n",
       "      <td>0.003596</td>\n",
       "      <td>0.999369</td>\n",
       "      <td>0.303896</td>\n",
       "      <td>-0.545720</td>\n",
       "      <td>...</td>\n",
       "      <td>0.998616</td>\n",
       "      <td>-0.266062</td>\n",
       "      <td>-0.156677</td>\n",
       "      <td>0.048528</td>\n",
       "      <td>-0.056863</td>\n",
       "      <td>-0.067484</td>\n",
       "      <td>0.210461</td>\n",
       "      <td>-0.169423</td>\n",
       "      <td>0.848751</td>\n",
       "      <td>0.196053</td>\n",
       "    </tr>\n",
       "    <tr>\n",
       "      <th>1</th>\n",
       "      <td>JG BOLA NATAL ACASA C/17 DR/PR/BC R952</td>\n",
       "      <td>jg bola natal acasa com 17 dr pr bc r952</td>\n",
       "      <td>-0.114307</td>\n",
       "      <td>0.830608</td>\n",
       "      <td>-0.125117</td>\n",
       "      <td>-0.229309</td>\n",
       "      <td>0.007348</td>\n",
       "      <td>0.988526</td>\n",
       "      <td>0.143482</td>\n",
       "      <td>-0.074809</td>\n",
       "      <td>...</td>\n",
       "      <td>0.974836</td>\n",
       "      <td>-0.079083</td>\n",
       "      <td>-0.192524</td>\n",
       "      <td>0.239946</td>\n",
       "      <td>-0.059614</td>\n",
       "      <td>0.153593</td>\n",
       "      <td>0.127956</td>\n",
       "      <td>0.065728</td>\n",
       "      <td>0.995346</td>\n",
       "      <td>0.033947</td>\n",
       "    </tr>\n",
       "    <tr>\n",
       "      <th>2</th>\n",
       "      <td>MIST PREP LIQ CHA VDE LINEA 56ML-CX LIMAO</td>\n",
       "      <td>mist prep liq chá vde linea 56 ml  cx limão</td>\n",
       "      <td>-0.166053</td>\n",
       "      <td>0.577840</td>\n",
       "      <td>-0.009664</td>\n",
       "      <td>-0.337555</td>\n",
       "      <td>-0.114559</td>\n",
       "      <td>0.908952</td>\n",
       "      <td>0.226533</td>\n",
       "      <td>-0.330732</td>\n",
       "      <td>...</td>\n",
       "      <td>0.887049</td>\n",
       "      <td>-0.237417</td>\n",
       "      <td>-0.197426</td>\n",
       "      <td>0.093031</td>\n",
       "      <td>0.008240</td>\n",
       "      <td>0.026127</td>\n",
       "      <td>0.099709</td>\n",
       "      <td>-0.066635</td>\n",
       "      <td>0.973878</td>\n",
       "      <td>-0.042607</td>\n",
       "    </tr>\n",
       "    <tr>\n",
       "      <th>3</th>\n",
       "      <td>ALICATE CUT+ESPAT MUNDIAL SANDY AMARELO</td>\n",
       "      <td>alicate cut+espat mundial sandy amarelo</td>\n",
       "      <td>-0.209057</td>\n",
       "      <td>0.918744</td>\n",
       "      <td>0.124509</td>\n",
       "      <td>-0.109616</td>\n",
       "      <td>-0.090302</td>\n",
       "      <td>0.982641</td>\n",
       "      <td>0.025554</td>\n",
       "      <td>-0.124358</td>\n",
       "      <td>...</td>\n",
       "      <td>0.961321</td>\n",
       "      <td>-0.136388</td>\n",
       "      <td>-0.216274</td>\n",
       "      <td>0.112482</td>\n",
       "      <td>-0.084384</td>\n",
       "      <td>0.012397</td>\n",
       "      <td>0.105544</td>\n",
       "      <td>-0.063482</td>\n",
       "      <td>0.982488</td>\n",
       "      <td>0.146783</td>\n",
       "    </tr>\n",
       "    <tr>\n",
       "      <th>4</th>\n",
       "      <td>MEIA PIZZA PEPPERONI UN</td>\n",
       "      <td>meia pizza pepperoni un</td>\n",
       "      <td>0.043281</td>\n",
       "      <td>0.683602</td>\n",
       "      <td>0.281087</td>\n",
       "      <td>-0.111475</td>\n",
       "      <td>0.020142</td>\n",
       "      <td>0.900551</td>\n",
       "      <td>0.197696</td>\n",
       "      <td>-0.103625</td>\n",
       "      <td>...</td>\n",
       "      <td>0.620174</td>\n",
       "      <td>-0.178057</td>\n",
       "      <td>-0.122943</td>\n",
       "      <td>-0.175522</td>\n",
       "      <td>0.009438</td>\n",
       "      <td>-0.107382</td>\n",
       "      <td>0.086998</td>\n",
       "      <td>-0.067600</td>\n",
       "      <td>0.941877</td>\n",
       "      <td>-0.200256</td>\n",
       "    </tr>\n",
       "    <tr>\n",
       "      <th>...</th>\n",
       "      <td>...</td>\n",
       "      <td>...</td>\n",
       "      <td>...</td>\n",
       "      <td>...</td>\n",
       "      <td>...</td>\n",
       "      <td>...</td>\n",
       "      <td>...</td>\n",
       "      <td>...</td>\n",
       "      <td>...</td>\n",
       "      <td>...</td>\n",
       "      <td>...</td>\n",
       "      <td>...</td>\n",
       "      <td>...</td>\n",
       "      <td>...</td>\n",
       "      <td>...</td>\n",
       "      <td>...</td>\n",
       "      <td>...</td>\n",
       "      <td>...</td>\n",
       "      <td>...</td>\n",
       "      <td>...</td>\n",
       "      <td>...</td>\n",
       "    </tr>\n",
       "    <tr>\n",
       "      <th>9428</th>\n",
       "      <td>BISC IMP ITAL GRISBI DOCE CAPPUCCINO CX 150G</td>\n",
       "      <td>bisc imp ital grisbi doce cappuccino cx 150 g</td>\n",
       "      <td>-0.107991</td>\n",
       "      <td>0.738020</td>\n",
       "      <td>0.189859</td>\n",
       "      <td>-0.244779</td>\n",
       "      <td>-0.011105</td>\n",
       "      <td>0.946660</td>\n",
       "      <td>0.193986</td>\n",
       "      <td>-0.255176</td>\n",
       "      <td>...</td>\n",
       "      <td>0.858993</td>\n",
       "      <td>-0.143784</td>\n",
       "      <td>-0.172469</td>\n",
       "      <td>0.011845</td>\n",
       "      <td>-0.093492</td>\n",
       "      <td>-0.077848</td>\n",
       "      <td>0.108661</td>\n",
       "      <td>0.019618</td>\n",
       "      <td>0.996490</td>\n",
       "      <td>-0.157552</td>\n",
       "    </tr>\n",
       "    <tr>\n",
       "      <th>9429</th>\n",
       "      <td>VINHO ARGENTINO SANTA ANA BCO SECO 700ML</td>\n",
       "      <td>vinho argentino santa anã bco seco 700 ml</td>\n",
       "      <td>-0.130344</td>\n",
       "      <td>0.888286</td>\n",
       "      <td>-0.062037</td>\n",
       "      <td>-0.362933</td>\n",
       "      <td>-0.280779</td>\n",
       "      <td>0.986076</td>\n",
       "      <td>0.119062</td>\n",
       "      <td>-0.317508</td>\n",
       "      <td>...</td>\n",
       "      <td>0.950832</td>\n",
       "      <td>-0.325040</td>\n",
       "      <td>0.034894</td>\n",
       "      <td>0.082375</td>\n",
       "      <td>0.079320</td>\n",
       "      <td>-0.102742</td>\n",
       "      <td>0.314141</td>\n",
       "      <td>-0.207004</td>\n",
       "      <td>0.995361</td>\n",
       "      <td>0.042614</td>\n",
       "    </tr>\n",
       "    <tr>\n",
       "      <th>9430</th>\n",
       "      <td>ALGODAO BOLA ISABABY 50G .</td>\n",
       "      <td>algodão bola isababy 50 g .</td>\n",
       "      <td>-0.167817</td>\n",
       "      <td>0.985210</td>\n",
       "      <td>0.194763</td>\n",
       "      <td>-0.158380</td>\n",
       "      <td>0.044229</td>\n",
       "      <td>0.984611</td>\n",
       "      <td>0.057403</td>\n",
       "      <td>-0.321860</td>\n",
       "      <td>...</td>\n",
       "      <td>0.978513</td>\n",
       "      <td>-0.287708</td>\n",
       "      <td>-0.082691</td>\n",
       "      <td>0.024421</td>\n",
       "      <td>-0.016037</td>\n",
       "      <td>-0.107523</td>\n",
       "      <td>-0.002109</td>\n",
       "      <td>-0.134209</td>\n",
       "      <td>0.965448</td>\n",
       "      <td>-0.057543</td>\n",
       "    </tr>\n",
       "    <tr>\n",
       "      <th>9431</th>\n",
       "      <td>ORG PIA OU DISC OP590TQ</td>\n",
       "      <td>org pia ou disc op590tq</td>\n",
       "      <td>-0.042605</td>\n",
       "      <td>0.823935</td>\n",
       "      <td>-0.238704</td>\n",
       "      <td>-0.139127</td>\n",
       "      <td>-0.148025</td>\n",
       "      <td>0.985489</td>\n",
       "      <td>-0.041849</td>\n",
       "      <td>-0.036834</td>\n",
       "      <td>...</td>\n",
       "      <td>0.956144</td>\n",
       "      <td>-0.169924</td>\n",
       "      <td>-0.076820</td>\n",
       "      <td>0.218980</td>\n",
       "      <td>-0.158949</td>\n",
       "      <td>0.142114</td>\n",
       "      <td>0.143164</td>\n",
       "      <td>-0.031371</td>\n",
       "      <td>0.969659</td>\n",
       "      <td>0.232359</td>\n",
       "    </tr>\n",
       "    <tr>\n",
       "      <th>9432</th>\n",
       "      <td>FACA COZINHA CARNE INOX 6 UNIV TRAM BCO</td>\n",
       "      <td>faca cozinha carne inox 6 univ tram bco</td>\n",
       "      <td>-0.076348</td>\n",
       "      <td>0.974942</td>\n",
       "      <td>-0.034972</td>\n",
       "      <td>-0.215631</td>\n",
       "      <td>-0.133798</td>\n",
       "      <td>0.996807</td>\n",
       "      <td>0.189031</td>\n",
       "      <td>-0.271234</td>\n",
       "      <td>...</td>\n",
       "      <td>0.994576</td>\n",
       "      <td>-0.268766</td>\n",
       "      <td>-0.165948</td>\n",
       "      <td>0.137773</td>\n",
       "      <td>-0.061046</td>\n",
       "      <td>-0.013156</td>\n",
       "      <td>-0.006317</td>\n",
       "      <td>-0.076364</td>\n",
       "      <td>0.987472</td>\n",
       "      <td>0.141296</td>\n",
       "    </tr>\n",
       "  </tbody>\n",
       "</table>\n",
       "<p>9433 rows × 1026 columns</p>\n",
       "</div>"
      ],
      "text/plain": [
       "                                DESCRIÇÃO PARCEIRO  \\\n",
       "0                   SAL ROSA HIMALAIA C/ ALHO 500G   \n",
       "1           JG BOLA NATAL ACASA C/17 DR/PR/BC R952   \n",
       "2        MIST PREP LIQ CHA VDE LINEA 56ML-CX LIMAO   \n",
       "3          ALICATE CUT+ESPAT MUNDIAL SANDY AMARELO   \n",
       "4                          MEIA PIZZA PEPPERONI UN   \n",
       "...                                            ...   \n",
       "9428  BISC IMP ITAL GRISBI DOCE CAPPUCCINO CX 150G   \n",
       "9429      VINHO ARGENTINO SANTA ANA BCO SECO 700ML   \n",
       "9430                    ALGODAO BOLA ISABABY 50G .   \n",
       "9431                       ORG PIA OU DISC OP590TQ   \n",
       "9432       FACA COZINHA CARNE INOX 6 UNIV TRAM BCO   \n",
       "\n",
       "                           DESCRIÇÃO PARCEIROajuste         0         1  \\\n",
       "0                  sal rosa himalaia com alho 500 g -0.109958  0.998103   \n",
       "1          jg bola natal acasa com 17 dr pr bc r952 -0.114307  0.830608   \n",
       "2       mist prep liq chá vde linea 56 ml  cx limão -0.166053  0.577840   \n",
       "3           alicate cut+espat mundial sandy amarelo -0.209057  0.918744   \n",
       "4                           meia pizza pepperoni un  0.043281  0.683602   \n",
       "...                                             ...       ...       ...   \n",
       "9428  bisc imp ital grisbi doce cappuccino cx 150 g -0.107991  0.738020   \n",
       "9429      vinho argentino santa anã bco seco 700 ml -0.130344  0.888286   \n",
       "9430                    algodão bola isababy 50 g . -0.167817  0.985210   \n",
       "9431                        org pia ou disc op590tq -0.042605  0.823935   \n",
       "9432        faca cozinha carne inox 6 univ tram bco -0.076348  0.974942   \n",
       "\n",
       "             2         3         4         5         6         7  ...  \\\n",
       "0     0.028219 -0.242036  0.003596  0.999369  0.303896 -0.545720  ...   \n",
       "1    -0.125117 -0.229309  0.007348  0.988526  0.143482 -0.074809  ...   \n",
       "2    -0.009664 -0.337555 -0.114559  0.908952  0.226533 -0.330732  ...   \n",
       "3     0.124509 -0.109616 -0.090302  0.982641  0.025554 -0.124358  ...   \n",
       "4     0.281087 -0.111475  0.020142  0.900551  0.197696 -0.103625  ...   \n",
       "...        ...       ...       ...       ...       ...       ...  ...   \n",
       "9428  0.189859 -0.244779 -0.011105  0.946660  0.193986 -0.255176  ...   \n",
       "9429 -0.062037 -0.362933 -0.280779  0.986076  0.119062 -0.317508  ...   \n",
       "9430  0.194763 -0.158380  0.044229  0.984611  0.057403 -0.321860  ...   \n",
       "9431 -0.238704 -0.139127 -0.148025  0.985489 -0.041849 -0.036834  ...   \n",
       "9432 -0.034972 -0.215631 -0.133798  0.996807  0.189031 -0.271234  ...   \n",
       "\n",
       "          1014      1015      1016      1017      1018      1019      1020  \\\n",
       "0     0.998616 -0.266062 -0.156677  0.048528 -0.056863 -0.067484  0.210461   \n",
       "1     0.974836 -0.079083 -0.192524  0.239946 -0.059614  0.153593  0.127956   \n",
       "2     0.887049 -0.237417 -0.197426  0.093031  0.008240  0.026127  0.099709   \n",
       "3     0.961321 -0.136388 -0.216274  0.112482 -0.084384  0.012397  0.105544   \n",
       "4     0.620174 -0.178057 -0.122943 -0.175522  0.009438 -0.107382  0.086998   \n",
       "...        ...       ...       ...       ...       ...       ...       ...   \n",
       "9428  0.858993 -0.143784 -0.172469  0.011845 -0.093492 -0.077848  0.108661   \n",
       "9429  0.950832 -0.325040  0.034894  0.082375  0.079320 -0.102742  0.314141   \n",
       "9430  0.978513 -0.287708 -0.082691  0.024421 -0.016037 -0.107523 -0.002109   \n",
       "9431  0.956144 -0.169924 -0.076820  0.218980 -0.158949  0.142114  0.143164   \n",
       "9432  0.994576 -0.268766 -0.165948  0.137773 -0.061046 -0.013156 -0.006317   \n",
       "\n",
       "          1021      1022      1023  \n",
       "0    -0.169423  0.848751  0.196053  \n",
       "1     0.065728  0.995346  0.033947  \n",
       "2    -0.066635  0.973878 -0.042607  \n",
       "3    -0.063482  0.982488  0.146783  \n",
       "4    -0.067600  0.941877 -0.200256  \n",
       "...        ...       ...       ...  \n",
       "9428  0.019618  0.996490 -0.157552  \n",
       "9429 -0.207004  0.995361  0.042614  \n",
       "9430 -0.134209  0.965448 -0.057543  \n",
       "9431 -0.031371  0.969659  0.232359  \n",
       "9432 -0.076364  0.987472  0.141296  \n",
       "\n",
       "[9433 rows x 1026 columns]"
      ]
     },
     "execution_count": 1205,
     "metadata": {},
     "output_type": "execute_result"
    }
   ],
   "source": [
    "test"
   ]
  },
  {
   "cell_type": "code",
   "execution_count": 1206,
   "metadata": {},
   "outputs": [],
   "source": [
    "#from sklearn.preprocessing import LabelEncoder\n",
    "#cats_encoder = LabelEncoder()\n",
    "#grupos_split['CATEGORIA_encode'] = cats_encoder.fit_transform(grupos_split['CATEGORIA'])\n",
    "def getCategoria(nro_categoria):   \n",
    "    listaCategorias = cats_encoder.classes_.tolist()\n",
    "    return listaCategorias[nro_categoria]\n",
    "    "
   ]
  },
  {
   "cell_type": "code",
   "execution_count": 1211,
   "metadata": {},
   "outputs": [
    {
     "data": {
      "text/plain": [
       "'ABSORVENTE'"
      ]
     },
     "execution_count": 1211,
     "metadata": {},
     "output_type": "execute_result"
    }
   ],
   "source": [
    "getCategoria(0)\n",
    "#grupos_split\n",
    "#testEnvio"
   ]
  },
  {
   "cell_type": "code",
   "execution_count": 1208,
   "metadata": {},
   "outputs": [
    {
     "data": {
      "text/plain": [
       "'\\ntest_predict_list = []\\nwith torch.no_grad():\\n    model.eval()\\n    test_predict = model(X_torch)\\n    test_predict_softmax = torch.log_softmax(test_predict, dim = 1)\\n    _test, test_predict_tags = torch.max(test_predict_softmax, dim = 1)\\n    test_predict_list.append(test_predict_tags.cpu().numpy())\\n    '"
      ]
     },
     "execution_count": 1208,
     "metadata": {},
     "output_type": "execute_result"
    }
   ],
   "source": [
    "\"\"\"\n",
    "test_predict_list = []\n",
    "with torch.no_grad():\n",
    "    model.eval()\n",
    "    test_predict = model(X_torch)\n",
    "    test_predict_softmax = torch.log_softmax(test_predict, dim = 1)\n",
    "    _test, test_predict_tags = torch.max(test_predict_softmax, dim = 1)\n",
    "    test_predict_list.append(test_predict_tags.cpu().numpy())\n",
    "    \"\"\""
   ]
  },
  {
   "cell_type": "code",
   "execution_count": 1212,
   "metadata": {},
   "outputs": [],
   "source": [
    "test_predict_list = []\n",
    "for sequencia in range(len(X_torch_test)):\n",
    "    sequencial =sequencia +1\n",
    "    with torch.no_grad():\n",
    "        model.eval()\n",
    "        test_predict = model(X_torch_test[sequencia].view(-1,1024))\n",
    "        test_predict_softmax = torch.log_softmax(test_predict, dim = 1)\n",
    "        _test, test_predict_tags = torch.max(test_predict_softmax, dim = 1)\n",
    "        Categoria_encode = test_predict_tags.cpu().numpy().item(0)\n",
    "        subCatTranlate = getCategoria(Categoria_encode)\n",
    "       # SubCatPossiveis = grupos_split[grupos_split['CATEGORIA_EDITw0_lower']==testCategorias[sequencial-1:sequencial]['categoria'][sequencial-1]]['SUB-CATEGORIA'].tolist()\n",
    "       # if subCatTranlate not in SubCatPossiveis:\n",
    "       #     novapredicao = grupos_split[grupos_split['CATEGORIA']==testCategorias[sequencial-1:sequencial]['categoria'][sequencial-1]].sort_values(by=['qtdRegistros'], ascending=False)['SUB-CATEGORIA'].values[0]\n",
    "       #     test_predict_list.append(novapredicao)\n",
    "       # else:\n",
    "        test_predict_list.append(subCatTranlate)\n",
    "        #test_predict_list.append(test_predict_tags.cpu().numpy())"
   ]
  },
  {
   "cell_type": "code",
   "execution_count": 1213,
   "metadata": {},
   "outputs": [],
   "source": [
    "#grupos_split.groupby(grupos_split['CATEGORIA_encode'])['CATEGORIA'].max()"
   ]
  },
  {
   "cell_type": "code",
   "execution_count": 1214,
   "metadata": {},
   "outputs": [],
   "source": [
    "testEnvio = test.copy()"
   ]
  },
  {
   "cell_type": "code",
   "execution_count": 1215,
   "metadata": {},
   "outputs": [],
   "source": [
    "testEnvio['Categoria'] = test_predict_list"
   ]
  },
  {
   "cell_type": "code",
   "execution_count": 1218,
   "metadata": {},
   "outputs": [],
   "source": [
    "testEnviov002 = testEnvio[['DESCRIÇÃO PARCEIRO','Categoria']]\n",
    "#testEnvio['categoriaw1'] = testEnvio['encoded_Categoria'].map(grupos_split.groupby(grupos_split['CATEGORIA_encode'])['CATEGORIA'].max())"
   ]
  },
  {
   "cell_type": "code",
   "execution_count": 1100,
   "metadata": {},
   "outputs": [
    {
     "data": {
      "text/html": [
       "<div>\n",
       "<style scoped>\n",
       "    .dataframe tbody tr th:only-of-type {\n",
       "        vertical-align: middle;\n",
       "    }\n",
       "\n",
       "    .dataframe tbody tr th {\n",
       "        vertical-align: top;\n",
       "    }\n",
       "\n",
       "    .dataframe thead th {\n",
       "        text-align: right;\n",
       "    }\n",
       "</style>\n",
       "<table border=\"1\" class=\"dataframe\">\n",
       "  <thead>\n",
       "    <tr style=\"text-align: right;\">\n",
       "      <th></th>\n",
       "      <th>Descrição Parceiro</th>\n",
       "      <th>Sub-categoria</th>\n",
       "      <th>categoria</th>\n",
       "    </tr>\n",
       "  </thead>\n",
       "  <tbody>\n",
       "    <tr>\n",
       "      <th>1</th>\n",
       "      <td>SAL ROSA HIMALAIA C/ ALHO 500G</td>\n",
       "      <td>OUTROS</td>\n",
       "      <td>MASSA PRONTA</td>\n",
       "    </tr>\n",
       "    <tr>\n",
       "      <th>2</th>\n",
       "      <td>JG BOLA NATAL ACASA C/17 DR/PR/BC R952</td>\n",
       "      <td>BOLA DE NATAL</td>\n",
       "      <td>PALMITO</td>\n",
       "    </tr>\n",
       "    <tr>\n",
       "      <th>3</th>\n",
       "      <td>MIST PREP LIQ CHA VDE LINEA 56ML-CX LIMAO</td>\n",
       "      <td>MATE</td>\n",
       "      <td>BOLOS</td>\n",
       "    </tr>\n",
       "    <tr>\n",
       "      <th>4</th>\n",
       "      <td>ALICATE CUT+ESPAT MUNDIAL SANDY AMARELO</td>\n",
       "      <td>ALICATE</td>\n",
       "      <td>PALMITO</td>\n",
       "    </tr>\n",
       "    <tr>\n",
       "      <th>5</th>\n",
       "      <td>MEIA PIZZA PEPPERONI UN</td>\n",
       "      <td>MARGUERITA</td>\n",
       "      <td>LAVA ROUPA LÍQUIDO</td>\n",
       "    </tr>\n",
       "    <tr>\n",
       "      <th>...</th>\n",
       "      <td>...</td>\n",
       "      <td>...</td>\n",
       "      <td>...</td>\n",
       "    </tr>\n",
       "    <tr>\n",
       "      <th>9429</th>\n",
       "      <td>BISC IMP ITAL GRISBI DOCE CAPPUCCINO CX 150G</td>\n",
       "      <td>IMPORTADO</td>\n",
       "      <td>AUTOMOTIVO ESTOPA/ ESPONJA / LUVA / PANOS</td>\n",
       "    </tr>\n",
       "    <tr>\n",
       "      <th>9430</th>\n",
       "      <td>VINHO ARGENTINO SANTA ANA BCO SECO 700ML</td>\n",
       "      <td>VINHO ARGENTINO</td>\n",
       "      <td>PAPELARIA</td>\n",
       "    </tr>\n",
       "    <tr>\n",
       "      <th>9431</th>\n",
       "      <td>ALGODAO BOLA ISABABY 50G .</td>\n",
       "      <td>BOLA</td>\n",
       "      <td>ACESSÓRIOS ELETRO</td>\n",
       "    </tr>\n",
       "    <tr>\n",
       "      <th>9432</th>\n",
       "      <td>ORG PIA OU DISC OP590TQ</td>\n",
       "      <td>PILHA PALITO ALCALINA</td>\n",
       "      <td>LAVA LOUÇA</td>\n",
       "    </tr>\n",
       "    <tr>\n",
       "      <th>9433</th>\n",
       "      <td>FACA COZINHA CARNE INOX 6 UNIV TRAM BCO</td>\n",
       "      <td>FACA</td>\n",
       "      <td>PALMITO</td>\n",
       "    </tr>\n",
       "  </tbody>\n",
       "</table>\n",
       "<p>9433 rows × 3 columns</p>\n",
       "</div>"
      ],
      "text/plain": [
       "                                Descrição Parceiro          Sub-categoria  \\\n",
       "1                   SAL ROSA HIMALAIA C/ ALHO 500G                 OUTROS   \n",
       "2           JG BOLA NATAL ACASA C/17 DR/PR/BC R952          BOLA DE NATAL   \n",
       "3        MIST PREP LIQ CHA VDE LINEA 56ML-CX LIMAO                   MATE   \n",
       "4          ALICATE CUT+ESPAT MUNDIAL SANDY AMARELO                ALICATE   \n",
       "5                          MEIA PIZZA PEPPERONI UN             MARGUERITA   \n",
       "...                                            ...                    ...   \n",
       "9429  BISC IMP ITAL GRISBI DOCE CAPPUCCINO CX 150G              IMPORTADO   \n",
       "9430      VINHO ARGENTINO SANTA ANA BCO SECO 700ML        VINHO ARGENTINO   \n",
       "9431                    ALGODAO BOLA ISABABY 50G .                   BOLA   \n",
       "9432                       ORG PIA OU DISC OP590TQ  PILHA PALITO ALCALINA   \n",
       "9433       FACA COZINHA CARNE INOX 6 UNIV TRAM BCO                   FACA   \n",
       "\n",
       "                                      categoria  \n",
       "1                                  MASSA PRONTA  \n",
       "2                                       PALMITO  \n",
       "3                                         BOLOS  \n",
       "4                                       PALMITO  \n",
       "5                            LAVA ROUPA LÍQUIDO  \n",
       "...                                         ...  \n",
       "9429  AUTOMOTIVO ESTOPA/ ESPONJA / LUVA / PANOS  \n",
       "9430                                  PAPELARIA  \n",
       "9431                          ACESSÓRIOS ELETRO  \n",
       "9432                                 LAVA LOUÇA  \n",
       "9433                                    PALMITO  \n",
       "\n",
       "[9433 rows x 3 columns]"
      ]
     },
     "execution_count": 1100,
     "metadata": {},
     "output_type": "execute_result"
    }
   ],
   "source": [
    "testEnviov002\n",
    "#X_train0\n",
    "#X_train0[X_train0['DESCRIÇÃO PARCEIRO'].str.contains('NATAL')][['DESCRIÇÃO PARCEIRO','DESCRIÇÃO PARCEIROajuste','CATEGORIA']]\n",
    "#testEnvio[testEnvio['DESCRIÇÃO PARCEIRO'].str.contains('NATAL')][['DESCRIÇÃO PARCEIRO','DESCRIÇÃO PARCEIROajuste','encoded_Categoria','categoriaw1']]"
   ]
  },
  {
   "cell_type": "code",
   "execution_count": 1219,
   "metadata": {},
   "outputs": [],
   "source": [
    "#testEnviov002 = testEnvio[['DESCRIÇÃO PARCEIRO','DESCRIÇÃO PARCEIROajuste','encoded_Categoria','categoriaw1']]"
   ]
  },
  {
   "cell_type": "code",
   "execution_count": 855,
   "metadata": {},
   "outputs": [],
   "source": [
    "#testEnviov002 = testEnvio[['DESCRIÇÃO PARCEIRO','categoria']]\n",
    "#testEnviov002.columns = ['Descrição Parceiro','categoria']"
   ]
  },
  {
   "cell_type": "code",
   "execution_count": 1220,
   "metadata": {},
   "outputs": [],
   "source": [
    "predSub = pd.read_csv('../envios/predSubCategoriaRNv002.csv',index_col=0, sep=',')"
   ]
  },
  {
   "cell_type": "code",
   "execution_count": 1221,
   "metadata": {},
   "outputs": [],
   "source": [
    "testEnviov002 = testEnviov002.join(predSub, lsuffix='', rsuffix='_sub')"
   ]
  },
  {
   "cell_type": "code",
   "execution_count": 1224,
   "metadata": {},
   "outputs": [],
   "source": [
    "testEnviov002.drop('DESCRIÇÃO PARCEIRO', axis=1, inplace=True)"
   ]
  },
  {
   "cell_type": "code",
   "execution_count": 989,
   "metadata": {},
   "outputs": [],
   "source": [
    "#testEnviov002.drop(['Descrição Parceiro_sub'], axis=1, inplace=True)"
   ]
  },
  {
   "cell_type": "code",
   "execution_count": 1226,
   "metadata": {},
   "outputs": [],
   "source": [
    "testEnviov002 = testEnviov002[['Descrição Parceiro', 'Sub-categoria', 'Categoria']].copy()\n",
    "testEnviov002.columns = ['Descrição Parceiro', 'Sub-categoria', 'categoria']"
   ]
  },
  {
   "cell_type": "code",
   "execution_count": 1227,
   "metadata": {},
   "outputs": [],
   "source": [
    "testEnviov002.index = testEnviov002.index+1"
   ]
  },
  {
   "cell_type": "code",
   "execution_count": 1228,
   "metadata": {},
   "outputs": [
    {
     "data": {
      "text/html": [
       "<div>\n",
       "<style scoped>\n",
       "    .dataframe tbody tr th:only-of-type {\n",
       "        vertical-align: middle;\n",
       "    }\n",
       "\n",
       "    .dataframe tbody tr th {\n",
       "        vertical-align: top;\n",
       "    }\n",
       "\n",
       "    .dataframe thead th {\n",
       "        text-align: right;\n",
       "    }\n",
       "</style>\n",
       "<table border=\"1\" class=\"dataframe\">\n",
       "  <thead>\n",
       "    <tr style=\"text-align: right;\">\n",
       "      <th></th>\n",
       "      <th>Descrição Parceiro</th>\n",
       "      <th>Sub-categoria</th>\n",
       "      <th>categoria</th>\n",
       "    </tr>\n",
       "  </thead>\n",
       "  <tbody>\n",
       "    <tr>\n",
       "      <th>1</th>\n",
       "      <td>SAL ROSA HIMALAIA C/ ALHO 500G</td>\n",
       "      <td>OUTROS</td>\n",
       "      <td>SAL</td>\n",
       "    </tr>\n",
       "    <tr>\n",
       "      <th>2</th>\n",
       "      <td>JG BOLA NATAL ACASA C/17 DR/PR/BC R952</td>\n",
       "      <td>BOLA DE NATAL</td>\n",
       "      <td>BANHO</td>\n",
       "    </tr>\n",
       "    <tr>\n",
       "      <th>3</th>\n",
       "      <td>MIST PREP LIQ CHA VDE LINEA 56ML-CX LIMAO</td>\n",
       "      <td>MATE</td>\n",
       "      <td>SUCO PRONTO/NECTAR</td>\n",
       "    </tr>\n",
       "    <tr>\n",
       "      <th>4</th>\n",
       "      <td>ALICATE CUT+ESPAT MUNDIAL SANDY AMARELO</td>\n",
       "      <td>ALICATE</td>\n",
       "      <td>UTENSÍLIOS DE SILICONE</td>\n",
       "    </tr>\n",
       "    <tr>\n",
       "      <th>5</th>\n",
       "      <td>MEIA PIZZA PEPPERONI UN</td>\n",
       "      <td>MARGUERITA</td>\n",
       "      <td>PIZZA</td>\n",
       "    </tr>\n",
       "    <tr>\n",
       "      <th>...</th>\n",
       "      <td>...</td>\n",
       "      <td>...</td>\n",
       "      <td>...</td>\n",
       "    </tr>\n",
       "    <tr>\n",
       "      <th>9429</th>\n",
       "      <td>BISC IMP ITAL GRISBI DOCE CAPPUCCINO CX 150G</td>\n",
       "      <td>IMPORTADO</td>\n",
       "      <td>BISCOITO</td>\n",
       "    </tr>\n",
       "    <tr>\n",
       "      <th>9430</th>\n",
       "      <td>VINHO ARGENTINO SANTA ANA BCO SECO 700ML</td>\n",
       "      <td>VINHO ARGENTINO</td>\n",
       "      <td>VINHO</td>\n",
       "    </tr>\n",
       "    <tr>\n",
       "      <th>9431</th>\n",
       "      <td>ALGODAO BOLA ISABABY 50G .</td>\n",
       "      <td>BOLA</td>\n",
       "      <td>ALGODÃO</td>\n",
       "    </tr>\n",
       "    <tr>\n",
       "      <th>9432</th>\n",
       "      <td>ORG PIA OU DISC OP590TQ</td>\n",
       "      <td>PILHA PALITO ALCALINA</td>\n",
       "      <td>UTENSÍLIOS DE PLÁSTICO</td>\n",
       "    </tr>\n",
       "    <tr>\n",
       "      <th>9433</th>\n",
       "      <td>FACA COZINHA CARNE INOX 6 UNIV TRAM BCO</td>\n",
       "      <td>FACA</td>\n",
       "      <td>UTENSÍLIOS DE INOX/ALUMÍNIO</td>\n",
       "    </tr>\n",
       "  </tbody>\n",
       "</table>\n",
       "<p>9433 rows × 3 columns</p>\n",
       "</div>"
      ],
      "text/plain": [
       "                                Descrição Parceiro          Sub-categoria  \\\n",
       "1                   SAL ROSA HIMALAIA C/ ALHO 500G                 OUTROS   \n",
       "2           JG BOLA NATAL ACASA C/17 DR/PR/BC R952          BOLA DE NATAL   \n",
       "3        MIST PREP LIQ CHA VDE LINEA 56ML-CX LIMAO                   MATE   \n",
       "4          ALICATE CUT+ESPAT MUNDIAL SANDY AMARELO                ALICATE   \n",
       "5                          MEIA PIZZA PEPPERONI UN             MARGUERITA   \n",
       "...                                            ...                    ...   \n",
       "9429  BISC IMP ITAL GRISBI DOCE CAPPUCCINO CX 150G              IMPORTADO   \n",
       "9430      VINHO ARGENTINO SANTA ANA BCO SECO 700ML        VINHO ARGENTINO   \n",
       "9431                    ALGODAO BOLA ISABABY 50G .                   BOLA   \n",
       "9432                       ORG PIA OU DISC OP590TQ  PILHA PALITO ALCALINA   \n",
       "9433       FACA COZINHA CARNE INOX 6 UNIV TRAM BCO                   FACA   \n",
       "\n",
       "                        categoria  \n",
       "1                             SAL  \n",
       "2                           BANHO  \n",
       "3              SUCO PRONTO/NECTAR  \n",
       "4          UTENSÍLIOS DE SILICONE  \n",
       "5                           PIZZA  \n",
       "...                           ...  \n",
       "9429                     BISCOITO  \n",
       "9430                        VINHO  \n",
       "9431                      ALGODÃO  \n",
       "9432       UTENSÍLIOS DE PLÁSTICO  \n",
       "9433  UTENSÍLIOS DE INOX/ALUMÍNIO  \n",
       "\n",
       "[9433 rows x 3 columns]"
      ]
     },
     "execution_count": 1228,
     "metadata": {},
     "output_type": "execute_result"
    }
   ],
   "source": [
    "testEnviov002"
   ]
  },
  {
   "cell_type": "code",
   "execution_count": 1230,
   "metadata": {},
   "outputs": [],
   "source": [
    "testEnviov002.to_csv('../envios/envioTesteV010.csv', index_label='0')"
   ]
  },
  {
   "cell_type": "code",
   "execution_count": 337,
   "metadata": {},
   "outputs": [
    {
     "data": {
      "text/plain": [
       "0\n",
       "1                     SAL ROSA HIMALAIA C/ ALHO 500G\n",
       "2             JG BOLA NATAL ACASA C/17 DR/PR/BC R952\n",
       "3          MIST PREP LIQ CHA VDE LINEA 56ML-CX LIMAO\n",
       "4            ALICATE CUT+ESPAT MUNDIAL SANDY AMARELO\n",
       "5                            MEIA PIZZA PEPPERONI UN\n",
       "                            ...                     \n",
       "9429    BISC IMP ITAL GRISBI DOCE CAPPUCCINO CX 150G\n",
       "9430        VINHO ARGENTINO SANTA ANA BCO SECO 700ML\n",
       "9431                      ALGODAO BOLA ISABABY 50G .\n",
       "9432                         ORG PIA OU DISC OP590TQ\n",
       "9433         FACA COZINHA CARNE INOX 6 UNIV TRAM BCO\n",
       "Name: Descrição Parceiro, Length: 9433, dtype: object"
      ]
     },
     "execution_count": 337,
     "metadata": {},
     "output_type": "execute_result"
    }
   ],
   "source": [
    "melhorEnvio['Descrição Parceiro']"
   ]
  },
  {
   "cell_type": "code",
   "execution_count": null,
   "metadata": {},
   "outputs": [],
   "source": []
  },
  {
   "cell_type": "code",
   "execution_count": 65,
   "metadata": {},
   "outputs": [],
   "source": [
    "melhorEnvio = pd.read_csv('../envios/envioTesteV003.csv',index_col=0, sep=',')"
   ]
  },
  {
   "cell_type": "code",
   "execution_count": 152,
   "metadata": {},
   "outputs": [
    {
     "data": {
      "text/html": [
       "<div>\n",
       "<style scoped>\n",
       "    .dataframe tbody tr th:only-of-type {\n",
       "        vertical-align: middle;\n",
       "    }\n",
       "\n",
       "    .dataframe tbody tr th {\n",
       "        vertical-align: top;\n",
       "    }\n",
       "\n",
       "    .dataframe thead th {\n",
       "        text-align: right;\n",
       "    }\n",
       "</style>\n",
       "<table border=\"1\" class=\"dataframe\">\n",
       "  <thead>\n",
       "    <tr style=\"text-align: right;\">\n",
       "      <th></th>\n",
       "      <th>Descrição Parceiro</th>\n",
       "      <th>Sub-categoria</th>\n",
       "      <th>categoria</th>\n",
       "    </tr>\n",
       "    <tr>\n",
       "      <th>0</th>\n",
       "      <th></th>\n",
       "      <th></th>\n",
       "      <th></th>\n",
       "    </tr>\n",
       "  </thead>\n",
       "  <tbody>\n",
       "  </tbody>\n",
       "</table>\n",
       "</div>"
      ],
      "text/plain": [
       "Empty DataFrame\n",
       "Columns: [Descrição Parceiro, Sub-categoria, categoria]\n",
       "Index: []"
      ]
     },
     "execution_count": 152,
     "metadata": {},
     "output_type": "execute_result"
    }
   ],
   "source": [
    "melhorEnvio[(melhorEnvio['Descrição Parceiro'].str.startswith('VINHO')) & \n",
    "            ~(melhorEnvio['categoria']=='VINHO') & ~(melhorEnvio['categoria']=='SIDRA/ESPUMANTE')]"
   ]
  },
  {
   "cell_type": "code",
   "execution_count": 151,
   "metadata": {},
   "outputs": [],
   "source": [
    "melhorEnvio.loc[melhorEnvio[(melhorEnvio['Descrição Parceiro'].str.startswith('VINHO')) & \n",
    "            ~(melhorEnvio['categoria']=='VINHO') & ~(melhorEnvio['categoria']=='SIDRA/ESPUMANTE')].index, 'categoria']='VINHO'"
   ]
  },
  {
   "cell_type": "code",
   "execution_count": 154,
   "metadata": {},
   "outputs": [],
   "source": [
    "melhorEnvio.to_csv('../envios/envioTesteV007.csv')"
   ]
  },
  {
   "cell_type": "markdown",
   "metadata": {},
   "source": [
    "# PREDICAO SEM ALGORITMO"
   ]
  },
  {
   "cell_type": "code",
   "execution_count": 449,
   "metadata": {},
   "outputs": [],
   "source": [
    "test = pd.read_csv('../dados/test_token_acentuado_V008.csv', sep=';', index_col='Unnamed: 0')"
   ]
  },
  {
   "cell_type": "code",
   "execution_count": 451,
   "metadata": {},
   "outputs": [],
   "source": [
    "test = test[['DESCRIÇÃO PARCEIRO','DESCRIÇÃO PARCEIROajuste']].copy()\n",
    "grupos_split = pd.read_csv('../dados/catwithSplit.csv',index_col=0)"
   ]
  },
  {
   "cell_type": "code",
   "execution_count": 452,
   "metadata": {},
   "outputs": [],
   "source": [
    "for indexdesc, descricao in test['DESCRIÇÃO PARCEIRO'].iteritems():\n",
    "    firstword  = unidecode(descricao.split()[0])\n",
    "    if firstword=='BISC':\n",
    "        firstword='BISCOITO'\n",
    "    \n",
    "    if len(descricao.split()) > 1:\n",
    "        secondword  = unidecode(descricao.split()[1])\n",
    "        if len(descricao.split()) > 2:\n",
    "            thirdword  = unidecode(descricao.split()[2])\n",
    "            \n",
    "    for index, w1cat in grupos_split[grupos_split['CATEGORIA_EDITw1'].isnull()]['CATEGORIA_EDITw0'].iteritems():\n",
    "        #if(indexdesc==9227):\n",
    "            #print(firstword, unidecode(w1cat))\n",
    "        if firstword == unidecode(w1cat):\n",
    "            test.loc[indexdesc,'categoria'] = w1cat\n",
    "    \n",
    "    for index, w2cat in grupos_split[grupos_split['CATEGORIA_EDITw1'].isnull()]['CATEGORIA_EDITw0'].iteritems():\n",
    "        if secondword is not None:\n",
    "            if secondword == unidecode(w2cat):\n",
    "                #print(secondword,w2cat)\n",
    "                test.loc[indexdesc,'categoria2'] = w2cat    \n",
    "\n",
    "    for index, w3cat in grupos_split[grupos_split['CATEGORIA_EDITw1'].isnull()]['CATEGORIA_EDITw0'].iteritems():\n",
    "        if thirdword is not None:\n",
    "            if thirdword == unidecode(w3cat):\n",
    "                #print(secondword,w2cat)\n",
    "                test.loc[indexdesc,'categoria3'] = w3cat                  \n",
    "    \n",
    "    #if indexdesc > 10:\n",
    "     #   break\n",
    "    \n"
   ]
  },
  {
   "cell_type": "code",
   "execution_count": 443,
   "metadata": {},
   "outputs": [
    {
     "data": {
      "text/html": [
       "<div>\n",
       "<style scoped>\n",
       "    .dataframe tbody tr th:only-of-type {\n",
       "        vertical-align: middle;\n",
       "    }\n",
       "\n",
       "    .dataframe tbody tr th {\n",
       "        vertical-align: top;\n",
       "    }\n",
       "\n",
       "    .dataframe thead th {\n",
       "        text-align: right;\n",
       "    }\n",
       "</style>\n",
       "<table border=\"1\" class=\"dataframe\">\n",
       "  <thead>\n",
       "    <tr style=\"text-align: right;\">\n",
       "      <th></th>\n",
       "      <th>CATEGORIA</th>\n",
       "      <th>qtdRegistros</th>\n",
       "      <th>CATEGORIA_EDIT</th>\n",
       "      <th>CATEGORIA_EDITw0</th>\n",
       "      <th>CATEGORIA_EDITw1</th>\n",
       "      <th>CATEGORIA_EDITw2</th>\n",
       "      <th>CATEGORIA_EDITw3</th>\n",
       "      <th>CATEGORIA_EDITw4</th>\n",
       "      <th>classificacao</th>\n",
       "    </tr>\n",
       "  </thead>\n",
       "  <tbody>\n",
       "    <tr>\n",
       "      <th>68</th>\n",
       "      <td>CHÁ</td>\n",
       "      <td>1</td>\n",
       "      <td>CHÁ NATURAL</td>\n",
       "      <td>CHÁ</td>\n",
       "      <td>NATURAL</td>\n",
       "      <td>NaN</td>\n",
       "      <td>NaN</td>\n",
       "      <td>NaN</td>\n",
       "      <td>2</td>\n",
       "    </tr>\n",
       "    <tr>\n",
       "      <th>69</th>\n",
       "      <td>CHÁ PRONTO</td>\n",
       "      <td>1</td>\n",
       "      <td>CHÁ PRONTO</td>\n",
       "      <td>CHÁ</td>\n",
       "      <td>PRONTO</td>\n",
       "      <td>NaN</td>\n",
       "      <td>NaN</td>\n",
       "      <td>NaN</td>\n",
       "      <td>2</td>\n",
       "    </tr>\n",
       "  </tbody>\n",
       "</table>\n",
       "</div>"
      ],
      "text/plain": [
       "     CATEGORIA  qtdRegistros CATEGORIA_EDIT CATEGORIA_EDITw0 CATEGORIA_EDITw1  \\\n",
       "68         CHÁ             1    CHÁ NATURAL              CHÁ          NATURAL   \n",
       "69  CHÁ PRONTO             1     CHÁ PRONTO              CHÁ           PRONTO   \n",
       "\n",
       "   CATEGORIA_EDITw2 CATEGORIA_EDITw3 CATEGORIA_EDITw4  classificacao  \n",
       "68              NaN              NaN              NaN              2  \n",
       "69              NaN              NaN              NaN              2  "
      ]
     },
     "execution_count": 443,
     "metadata": {},
     "output_type": "execute_result"
    }
   ],
   "source": [
    "grupos_split[grupos_split['CATEGORIA'].str.contains('CHÁ')]"
   ]
  },
  {
   "cell_type": "code",
   "execution_count": 446,
   "metadata": {},
   "outputs": [
    {
     "data": {
      "text/html": [
       "<div>\n",
       "<style scoped>\n",
       "    .dataframe tbody tr th:only-of-type {\n",
       "        vertical-align: middle;\n",
       "    }\n",
       "\n",
       "    .dataframe tbody tr th {\n",
       "        vertical-align: top;\n",
       "    }\n",
       "\n",
       "    .dataframe thead th {\n",
       "        text-align: right;\n",
       "    }\n",
       "</style>\n",
       "<table border=\"1\" class=\"dataframe\">\n",
       "  <thead>\n",
       "    <tr style=\"text-align: right;\">\n",
       "      <th></th>\n",
       "      <th>DESCRIÇÃO PARCEIRO</th>\n",
       "      <th>DESCRIÇÃO PARCEIROajuste</th>\n",
       "      <th>categoria</th>\n",
       "      <th>categoria2</th>\n",
       "      <th>categoria3</th>\n",
       "    </tr>\n",
       "  </thead>\n",
       "  <tbody>\n",
       "    <tr>\n",
       "      <th>9428</th>\n",
       "      <td>BISC IMP ITAL GRISBI DOCE CAPPUCCINO CX 150G</td>\n",
       "      <td>bisc imp ital grisbi doce cappuccino cx 150 g</td>\n",
       "      <td>BISCOITO</td>\n",
       "      <td>NaN</td>\n",
       "      <td>NaN</td>\n",
       "    </tr>\n",
       "  </tbody>\n",
       "</table>\n",
       "</div>"
      ],
      "text/plain": [
       "                                DESCRIÇÃO PARCEIRO  \\\n",
       "9428  BISC IMP ITAL GRISBI DOCE CAPPUCCINO CX 150G   \n",
       "\n",
       "                           DESCRIÇÃO PARCEIROajuste categoria categoria2  \\\n",
       "9428  bisc imp ital grisbi doce cappuccino cx 150 g  BISCOITO        NaN   \n",
       "\n",
       "     categoria3  \n",
       "9428        NaN  "
      ]
     },
     "execution_count": 446,
     "metadata": {},
     "output_type": "execute_result"
    }
   ],
   "source": [
    "test[ (test['DESCRIÇÃO PARCEIRO'].str.contains('BISC'))]\\\n",
    "[['DESCRIÇÃO PARCEIRO','DESCRIÇÃO PARCEIROajuste','categoria','categoria2','categoria3']].tail(1)"
   ]
  },
  {
   "cell_type": "code",
   "execution_count": 508,
   "metadata": {},
   "outputs": [],
   "source": [
    "melhorEnvio = pd.read_csv('../envios/envioTesteV003.csv',index_col=0, sep=',')\n",
    "melhorEnvio.index = melhorEnvio.index-1"
   ]
  },
  {
   "cell_type": "code",
   "execution_count": 509,
   "metadata": {},
   "outputs": [],
   "source": [
    "melhorEnvio.loc[test[~(test['categoria'].isnull())].index,'categoria1word'] = test[~(test['categoria'].isnull())]['categoria']"
   ]
  },
  {
   "cell_type": "code",
   "execution_count": 511,
   "metadata": {},
   "outputs": [],
   "source": [
    "melhorEnvio.loc[test[(test['categoria'].isnull()) \n",
    "                     & ~(test['categoria2'].isnull())].index,'categoria2word'] \\\n",
    "= test[(test['categoria'].isnull()) & ~(test['categoria2'].isnull())]['categoria2']"
   ]
  },
  {
   "cell_type": "code",
   "execution_count": 512,
   "metadata": {},
   "outputs": [
    {
     "data": {
      "text/html": [
       "<div>\n",
       "<style scoped>\n",
       "    .dataframe tbody tr th:only-of-type {\n",
       "        vertical-align: middle;\n",
       "    }\n",
       "\n",
       "    .dataframe tbody tr th {\n",
       "        vertical-align: top;\n",
       "    }\n",
       "\n",
       "    .dataframe thead th {\n",
       "        text-align: right;\n",
       "    }\n",
       "</style>\n",
       "<table border=\"1\" class=\"dataframe\">\n",
       "  <thead>\n",
       "    <tr style=\"text-align: right;\">\n",
       "      <th></th>\n",
       "      <th>Descrição Parceiro</th>\n",
       "      <th>Sub-categoria</th>\n",
       "      <th>categoria</th>\n",
       "      <th>categoria1word</th>\n",
       "      <th>categoria2word</th>\n",
       "    </tr>\n",
       "    <tr>\n",
       "      <th>0</th>\n",
       "      <th></th>\n",
       "      <th></th>\n",
       "      <th></th>\n",
       "      <th></th>\n",
       "      <th></th>\n",
       "    </tr>\n",
       "  </thead>\n",
       "  <tbody>\n",
       "    <tr>\n",
       "      <th>12</th>\n",
       "      <td>POLPA FRUTAS FRUTAE ABACAXI 100G</td>\n",
       "      <td>MARACUJÁ</td>\n",
       "      <td>POLPA DE FRUTA</td>\n",
       "      <td>NaN</td>\n",
       "      <td>FRUTAS</td>\n",
       "    </tr>\n",
       "    <tr>\n",
       "      <th>45</th>\n",
       "      <td>TOALHA MESA CORTTEX LAN 1.48X2.20 H BCO</td>\n",
       "      <td>TOALHA</td>\n",
       "      <td>MESA</td>\n",
       "      <td>NaN</td>\n",
       "      <td>MESA</td>\n",
       "    </tr>\n",
       "    <tr>\n",
       "      <th>124</th>\n",
       "      <td>TACA CERVEJA RUVOLO 380ML-UN</td>\n",
       "      <td>TAÇAS</td>\n",
       "      <td>UTENSÍLIOS DE VIDRO</td>\n",
       "      <td>NaN</td>\n",
       "      <td>CERVEJA</td>\n",
       "    </tr>\n",
       "    <tr>\n",
       "      <th>130</th>\n",
       "      <td>FILTRO OLEO FRAM PH5796</td>\n",
       "      <td>FILTRO DE ÓLEO</td>\n",
       "      <td>AUTOMOTIVO FILTROS</td>\n",
       "      <td>NaN</td>\n",
       "      <td>ÓLEO</td>\n",
       "    </tr>\n",
       "    <tr>\n",
       "      <th>143</th>\n",
       "      <td>BULE CAFE GERMER B VERSA 3.7211075</td>\n",
       "      <td>BULE</td>\n",
       "      <td>UTENSÍLIOS PARA CAFÉ</td>\n",
       "      <td>NaN</td>\n",
       "      <td>CAFÉ</td>\n",
       "    </tr>\n",
       "    <tr>\n",
       "      <th>...</th>\n",
       "      <td>...</td>\n",
       "      <td>...</td>\n",
       "      <td>...</td>\n",
       "      <td>...</td>\n",
       "      <td>...</td>\n",
       "    </tr>\n",
       "    <tr>\n",
       "      <th>9374</th>\n",
       "      <td>JG CAMA ALTENBURG SOLT MALHA 3134</td>\n",
       "      <td>JOGO DE CAMA</td>\n",
       "      <td>CAMA</td>\n",
       "      <td>NaN</td>\n",
       "      <td>CAMA</td>\n",
       "    </tr>\n",
       "    <tr>\n",
       "      <th>9379</th>\n",
       "      <td>JG CAMA CORTTEX CASAL N/K 2,0X2.20 AFRIC</td>\n",
       "      <td>JOGO DE CAMA</td>\n",
       "      <td>CAMA</td>\n",
       "      <td>NaN</td>\n",
       "      <td>CAMA</td>\n",
       "    </tr>\n",
       "    <tr>\n",
       "      <th>9383</th>\n",
       "      <td>COXA FRANGO BIG FRANGO IQF PCT 1KG</td>\n",
       "      <td>COXA</td>\n",
       "      <td>AVE CONGELADA</td>\n",
       "      <td>NaN</td>\n",
       "      <td>FRANGO</td>\n",
       "    </tr>\n",
       "    <tr>\n",
       "      <th>9407</th>\n",
       "      <td>ESCORREDOR ARROZ INOX YANGZI</td>\n",
       "      <td>ESCORREDOR MASSAS</td>\n",
       "      <td>UTENSÍLIOS DE INOX/ALUMÍNIO</td>\n",
       "      <td>NaN</td>\n",
       "      <td>ARROZ</td>\n",
       "    </tr>\n",
       "    <tr>\n",
       "      <th>9414</th>\n",
       "      <td>SALG COXINHA FALEIRO 1KG MINI FGO</td>\n",
       "      <td>FRANGO</td>\n",
       "      <td>AVE RESFRIADA</td>\n",
       "      <td>NaN</td>\n",
       "      <td>COXINHA</td>\n",
       "    </tr>\n",
       "  </tbody>\n",
       "</table>\n",
       "<p>244 rows × 5 columns</p>\n",
       "</div>"
      ],
      "text/plain": [
       "                            Descrição Parceiro      Sub-categoria  \\\n",
       "0                                                                   \n",
       "12            POLPA FRUTAS FRUTAE ABACAXI 100G           MARACUJÁ   \n",
       "45     TOALHA MESA CORTTEX LAN 1.48X2.20 H BCO             TOALHA   \n",
       "124               TACA CERVEJA RUVOLO 380ML-UN              TAÇAS   \n",
       "130                    FILTRO OLEO FRAM PH5796     FILTRO DE ÓLEO   \n",
       "143         BULE CAFE GERMER B VERSA 3.7211075               BULE   \n",
       "...                                        ...                ...   \n",
       "9374         JG CAMA ALTENBURG SOLT MALHA 3134       JOGO DE CAMA   \n",
       "9379  JG CAMA CORTTEX CASAL N/K 2,0X2.20 AFRIC       JOGO DE CAMA   \n",
       "9383        COXA FRANGO BIG FRANGO IQF PCT 1KG               COXA   \n",
       "9407              ESCORREDOR ARROZ INOX YANGZI  ESCORREDOR MASSAS   \n",
       "9414         SALG COXINHA FALEIRO 1KG MINI FGO             FRANGO   \n",
       "\n",
       "                        categoria categoria1word categoria2word  \n",
       "0                                                                \n",
       "12                 POLPA DE FRUTA            NaN         FRUTAS  \n",
       "45                           MESA            NaN           MESA  \n",
       "124           UTENSÍLIOS DE VIDRO            NaN        CERVEJA  \n",
       "130            AUTOMOTIVO FILTROS            NaN           ÓLEO  \n",
       "143          UTENSÍLIOS PARA CAFÉ            NaN           CAFÉ  \n",
       "...                           ...            ...            ...  \n",
       "9374                         CAMA            NaN           CAMA  \n",
       "9379                         CAMA            NaN           CAMA  \n",
       "9383                AVE CONGELADA            NaN         FRANGO  \n",
       "9407  UTENSÍLIOS DE INOX/ALUMÍNIO            NaN          ARROZ  \n",
       "9414                AVE RESFRIADA            NaN        COXINHA  \n",
       "\n",
       "[244 rows x 5 columns]"
      ]
     },
     "execution_count": 512,
     "metadata": {},
     "output_type": "execute_result"
    }
   ],
   "source": [
    "melhorEnvio[~(melhorEnvio['categoria2word'].isnull())]"
   ]
  },
  {
   "cell_type": "code",
   "execution_count": 501,
   "metadata": {},
   "outputs": [],
   "source": [
    "melhorEnvio.loc[~(melhorEnvio['categoria1word'].isnull()) & \n",
    "            (melhorEnvio['categoria1word'] != melhorEnvio['categoria'] ), 'categoria'] = \\\n",
    "melhorEnvio[~(melhorEnvio['categoria1word'].isnull()) & \n",
    "            (melhorEnvio['categoria1word'] != melhorEnvio['categoria'] )]['categoria1word']"
   ]
  },
  {
   "cell_type": "code",
   "execution_count": 483,
   "metadata": {},
   "outputs": [],
   "source": [
    "\n",
    "melhorEnvio.index = melhorEnvio.index "
   ]
  },
  {
   "cell_type": "code",
   "execution_count": 485,
   "metadata": {},
   "outputs": [],
   "source": [
    "melhorEnvio[['Descrição Parceiro','Sub-categoria','categoria']].to_csv('../envios/envioTesteV008.csv')"
   ]
  }
 ],
 "metadata": {
  "kernelspec": {
   "display_name": "Python 3.8.0 64-bit",
   "language": "python",
   "name": "python38064bit89dc14be3fab4c2eaace80ffa1d6b33e"
  },
  "language_info": {
   "codemirror_mode": {
    "name": "ipython",
    "version": 3
   },
   "file_extension": ".py",
   "mimetype": "text/x-python",
   "name": "python",
   "nbconvert_exporter": "python",
   "pygments_lexer": "ipython3",
   "version": "3.8.0"
  }
 },
 "nbformat": 4,
 "nbformat_minor": 4
}
