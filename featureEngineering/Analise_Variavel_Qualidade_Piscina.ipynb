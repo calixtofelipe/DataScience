{
 "cells": [
  {
   "cell_type": "code",
   "execution_count": 55,
   "metadata": {},
   "outputs": [
    {
     "name": "stdout",
     "output_type": "stream",
     "text": [
      "['.ipynb_checkpoints', 'Analise_Variavel_Alley.ipynb', 'Analise_Variavel_MiscFeature.ipynb', 'Analise_Variavel_Qualidade_Piscina.ipynb', 'HousePriceV012-20200414.ipynb', 'input2']\n"
     ]
    }
   ],
   "source": [
    "import numpy as np # linear algebra\n",
    "import pandas as pd # data processing, CSV file I/O (e.g. pd.read_csv)\n",
    "import matplotlib.pyplot as plt \n",
    "import seaborn as sns \n",
    "import xgboost as xgb\n",
    "from scipy import stats\n",
    "from scipy.stats import norm, skew\n",
    "from sklearn.model_selection import train_test_split\n",
    "from sklearn.metrics import mean_absolute_error, mean_squared_error,accuracy_score\n",
    "\n",
    "from sklearn.decomposition import PCA\n",
    "from sklearn.ensemble import GradientBoostingRegressor, RandomForestClassifier\n",
    "from lightgbm import LGBMRegressor\n",
    "from sklearn.pipeline import make_pipeline\n",
    "from mlxtend.regressor import StackingCVRegressor\n",
    "from sklearn.model_selection import KFold, cross_val_score\n",
    "from sklearn.model_selection import GridSearchCV\n",
    "from pandas.api.types import CategoricalDtype\n",
    "from sklearn.linear_model import ElasticNetCV, LassoCV, RidgeCV, Lasso, Ridge\n",
    "import os\n",
    "print(os.listdir('.'))\n",
    "train = pd.read_csv('input2/train.csv')\n",
    "test = pd.read_csv('input2/test.csv')\n",
    "\n",
    "all_data = pd.concat((train, test), axis=0, sort=False).reset_index(drop=True)"
   ]
  },
  {
   "cell_type": "code",
   "execution_count": 56,
   "metadata": {},
   "outputs": [
    {
     "data": {
      "text/html": [
       "<div>\n",
       "<style scoped>\n",
       "    .dataframe tbody tr th:only-of-type {\n",
       "        vertical-align: middle;\n",
       "    }\n",
       "\n",
       "    .dataframe tbody tr th {\n",
       "        vertical-align: top;\n",
       "    }\n",
       "\n",
       "    .dataframe thead th {\n",
       "        text-align: right;\n",
       "    }\n",
       "</style>\n",
       "<table border=\"1\" class=\"dataframe\">\n",
       "  <thead>\n",
       "    <tr style=\"text-align: right;\">\n",
       "      <th></th>\n",
       "      <th>Total</th>\n",
       "      <th>Percent</th>\n",
       "    </tr>\n",
       "  </thead>\n",
       "  <tbody>\n",
       "    <tr>\n",
       "      <th>PoolQC</th>\n",
       "      <td>2909</td>\n",
       "      <td>0.996574</td>\n",
       "    </tr>\n",
       "    <tr>\n",
       "      <th>MiscFeature</th>\n",
       "      <td>2814</td>\n",
       "      <td>0.964029</td>\n",
       "    </tr>\n",
       "    <tr>\n",
       "      <th>Alley</th>\n",
       "      <td>2721</td>\n",
       "      <td>0.932169</td>\n",
       "    </tr>\n",
       "    <tr>\n",
       "      <th>Fence</th>\n",
       "      <td>2348</td>\n",
       "      <td>0.804385</td>\n",
       "    </tr>\n",
       "    <tr>\n",
       "      <th>SalePrice</th>\n",
       "      <td>1459</td>\n",
       "      <td>0.499829</td>\n",
       "    </tr>\n",
       "    <tr>\n",
       "      <th>FireplaceQu</th>\n",
       "      <td>1420</td>\n",
       "      <td>0.486468</td>\n",
       "    </tr>\n",
       "    <tr>\n",
       "      <th>LotFrontage</th>\n",
       "      <td>486</td>\n",
       "      <td>0.166495</td>\n",
       "    </tr>\n",
       "    <tr>\n",
       "      <th>GarageQual</th>\n",
       "      <td>159</td>\n",
       "      <td>0.054471</td>\n",
       "    </tr>\n",
       "    <tr>\n",
       "      <th>GarageYrBlt</th>\n",
       "      <td>159</td>\n",
       "      <td>0.054471</td>\n",
       "    </tr>\n",
       "    <tr>\n",
       "      <th>GarageFinish</th>\n",
       "      <td>159</td>\n",
       "      <td>0.054471</td>\n",
       "    </tr>\n",
       "    <tr>\n",
       "      <th>GarageCond</th>\n",
       "      <td>159</td>\n",
       "      <td>0.054471</td>\n",
       "    </tr>\n",
       "    <tr>\n",
       "      <th>GarageType</th>\n",
       "      <td>157</td>\n",
       "      <td>0.053786</td>\n",
       "    </tr>\n",
       "    <tr>\n",
       "      <th>BsmtExposure</th>\n",
       "      <td>82</td>\n",
       "      <td>0.028092</td>\n",
       "    </tr>\n",
       "    <tr>\n",
       "      <th>BsmtCond</th>\n",
       "      <td>82</td>\n",
       "      <td>0.028092</td>\n",
       "    </tr>\n",
       "    <tr>\n",
       "      <th>BsmtQual</th>\n",
       "      <td>81</td>\n",
       "      <td>0.027749</td>\n",
       "    </tr>\n",
       "    <tr>\n",
       "      <th>BsmtFinType2</th>\n",
       "      <td>80</td>\n",
       "      <td>0.027407</td>\n",
       "    </tr>\n",
       "    <tr>\n",
       "      <th>BsmtFinType1</th>\n",
       "      <td>79</td>\n",
       "      <td>0.027064</td>\n",
       "    </tr>\n",
       "    <tr>\n",
       "      <th>MasVnrType</th>\n",
       "      <td>24</td>\n",
       "      <td>0.008222</td>\n",
       "    </tr>\n",
       "    <tr>\n",
       "      <th>MasVnrArea</th>\n",
       "      <td>23</td>\n",
       "      <td>0.007879</td>\n",
       "    </tr>\n",
       "    <tr>\n",
       "      <th>MSZoning</th>\n",
       "      <td>4</td>\n",
       "      <td>0.001370</td>\n",
       "    </tr>\n",
       "    <tr>\n",
       "      <th>Utilities</th>\n",
       "      <td>2</td>\n",
       "      <td>0.000685</td>\n",
       "    </tr>\n",
       "    <tr>\n",
       "      <th>Functional</th>\n",
       "      <td>2</td>\n",
       "      <td>0.000685</td>\n",
       "    </tr>\n",
       "    <tr>\n",
       "      <th>BsmtFullBath</th>\n",
       "      <td>2</td>\n",
       "      <td>0.000685</td>\n",
       "    </tr>\n",
       "    <tr>\n",
       "      <th>BsmtHalfBath</th>\n",
       "      <td>2</td>\n",
       "      <td>0.000685</td>\n",
       "    </tr>\n",
       "    <tr>\n",
       "      <th>GarageArea</th>\n",
       "      <td>1</td>\n",
       "      <td>0.000343</td>\n",
       "    </tr>\n",
       "  </tbody>\n",
       "</table>\n",
       "</div>"
      ],
      "text/plain": [
       "              Total   Percent\n",
       "PoolQC         2909  0.996574\n",
       "MiscFeature    2814  0.964029\n",
       "Alley          2721  0.932169\n",
       "Fence          2348  0.804385\n",
       "SalePrice      1459  0.499829\n",
       "FireplaceQu    1420  0.486468\n",
       "LotFrontage     486  0.166495\n",
       "GarageQual      159  0.054471\n",
       "GarageYrBlt     159  0.054471\n",
       "GarageFinish    159  0.054471\n",
       "GarageCond      159  0.054471\n",
       "GarageType      157  0.053786\n",
       "BsmtExposure     82  0.028092\n",
       "BsmtCond         82  0.028092\n",
       "BsmtQual         81  0.027749\n",
       "BsmtFinType2     80  0.027407\n",
       "BsmtFinType1     79  0.027064\n",
       "MasVnrType       24  0.008222\n",
       "MasVnrArea       23  0.007879\n",
       "MSZoning          4  0.001370\n",
       "Utilities         2  0.000685\n",
       "Functional        2  0.000685\n",
       "BsmtFullBath      2  0.000685\n",
       "BsmtHalfBath      2  0.000685\n",
       "GarageArea        1  0.000343"
      ]
     },
     "execution_count": 56,
     "metadata": {},
     "output_type": "execute_result"
    }
   ],
   "source": [
    "total = all_data.isnull().sum().sort_values(ascending=False)\n",
    "percent = (all_data.isnull().sum()/all_data.isnull().count()).sort_values(ascending=False)\n",
    "missing_data = pd.concat([total, percent], axis=1, keys=['Total', 'Percent'])\n",
    "missing_data.head(25)"
   ]
  },
  {
   "cell_type": "code",
   "execution_count": 33,
   "metadata": {},
   "outputs": [],
   "source": [
    "\"\"\"SOLUÇÃO MISSING PISCINA\n",
    "1 - PoolQC referesse a qualidade da piscina nitidamente deve ser uma variável ordinal.\n",
    "1.1 Todos os valores que não tem PoolArea e PoolQC praticamente coincidem. Ou seja, todos os valores PoolQC não informados\n",
    "e que também não tem PoolArea são porque não tem piscina. A maioria da base tem essa característica.\n",
    "1.2 Como são poucos registros com PoolQC informados em relação ao total adotar a distância de 1 entre as classificações \n",
    "será um bom critério. Tem somente 8 registros com SalePrice e como a correlação não é forte não parece razoável \n",
    "ponderar esses valores pelo SalePrice.\n",
    "2.1 a analise do histograma para PoolQC mostrou que a mediana e a média apresentaram o mesmo valor 4.\n",
    "2.2 Aqui cabe uma reflexão, esses valores que estavam vazios e tinham area fazem parte do BD teste e não tinham valor para \n",
    "variável target. \n",
    "2.3 Analise correlação entre PoolArea e PoolQC e SalePrice\n",
    "2.3.1 Como se trata de uma variável categórica ordinal a analise de correlação pode ser feita pelo ANOVA. No qual compara-se\n",
    "a média de preço para os grupos e verifica se existe correlação.\n",
    "\n",
    "Interessante no treinamento adotar abordagens:\n",
    "1 - Fazer simulação adotando valores ordinais crescentes conforme a qualidade. E os itens sem classificação que tem PoolArea\n",
    "e não tem classificação adotar o valor zero. Talvez possa representar o fato de ter a area para piscina e não ter a piscina.\n",
    "\n",
    "2 - Fazer simulação adotando valores ordinais crescentes conforme a qualidade. E os itens sem classificação que tem PoolArea\n",
    "e não tem classificação adotar o valor medio. Assim, tratando como um erro de classificação os registros não classificados\n",
    "devem interferir menos na predição.\n",
    "\n",
    "3 - Já que existe uma correlação (mesmo fraca) entre SalePrice e PoolQC\tadotar o Target encoding. Apontar os valores do\n",
    "desvio padrão do target conforme correlação com a variável alvo. *** cuidado com overfitting.\n",
    "\n",
    "4- Utiliza a correlação entre o item 3 mas proporcionaliza também considerando o ranking entre as variáveis.\n",
    "\n",
    "5- O algoritmo xboost aceita variavel null uma opção é deixar para verificar performance do algoritmo\n",
    "\"\"\""
   ]
  },
  {
   "cell_type": "code",
   "execution_count": null,
   "metadata": {},
   "outputs": [],
   "source": [
    "\"\"\" \n",
    "tecnica para o item 1\n",
    "all_data['PoolQC'] = all_data['PoolQC'].apply(lambda x: \n",
    "                                                       4 if x in ['Ex'] else\n",
    "                                                       3 if x in ['Gd'] else\n",
    "                                                       2 if x in ['TA'] else\n",
    "                                                       1 if x in ['Fa'] \n",
    "                                                       else x)\n",
    "\n",
    "all_data.loc[(all_data['PoolArea'] > 0) & (all_data['PoolQC'].isnull()), 'PoolQC'] = 0\n",
    "\n",
    "\n",
    "\n",
    "tecnica para o item 2\n",
    "all_data['PoolQC'] = all_data['PoolQC'].apply(lambda x: \n",
    "                                                       4 if x in ['Ex'] else\n",
    "                                                       3 if x in ['Gd'] else\n",
    "                                                       2 if x in ['TA'] else\n",
    "                                                       1 if x in ['Fa'] \n",
    "                                                       else x)\n",
    "\n",
    "all_data.loc[(all_data['PoolArea'] > 0) & (all_data['PoolQC'].isnull()), 'PoolQC'] = all_data[~all_data['PoolQC'].isnull() ]['PoolQC'].median()\n",
    "\"\"\""
   ]
  },
  {
   "cell_type": "code",
   "execution_count": 158,
   "metadata": {},
   "outputs": [],
   "source": [
    "all_data['PoolQC'] = all_data['PoolQC'].apply(lambda x: \n",
    "                                                       4 if x in ['Ex'] else\n",
    "                                                       3 if x in ['Gd'] else\n",
    "                                                       2 if x in ['TA'] else\n",
    "                                                       1 if x in ['Fa'] \n",
    "                                                       else x)\n",
    "dbfilter = all_data[(all_data['PoolArea'] > 0) & (~all_data['PoolQC'].isnull()) & (~all_data['SalePrice'].isnull())]\n",
    "\n",
    "dbfilter[['PoolArea','PoolQC', 'SalePrice']].sort_values(['PoolArea'], ascending=False)\n",
    "mean_encode = dbfilter.groupby('PoolQC')['SalePrice'].std()\n",
    "all_data['PoolQC'] = dbfilter['PoolQC'].map(mean_encode)\n",
    "all_data.loc[(all_data['PoolArea'] > 0) & (~all_data['PoolQC'].isnull()), 'PoolQC'] = all_data.loc[(all_data['PoolArea'] > 0) & (~all_data['PoolQC'].isnull()), 'PoolQC'] * (dbfilter['PoolQC'] / dbfilter['PoolQC'].sum())\n",
    "# as piscinas sem qualidade mais com area foi atribuido o desvio padrao da variavel target para todos os PoolQC classificados\n",
    "all_data.loc[all_data['PoolQC'].isnull() & (all_data['PoolArea'] > 0), 'PoolQC'] = dbfilter['SalePrice'].std()\n",
    "#aos demais itens sem area e sem qualidade piscina o campo qualidade foi atribuido 0\n",
    "all_data['PoolQC'] = all_data['PoolQC'].fillna(0)"
   ]
  },
  {
   "cell_type": "code",
   "execution_count": 49,
   "metadata": {
    "scrolled": false
   },
   "outputs": [
    {
     "data": {
      "text/html": [
       "<div>\n",
       "<style scoped>\n",
       "    .dataframe tbody tr th:only-of-type {\n",
       "        vertical-align: middle;\n",
       "    }\n",
       "\n",
       "    .dataframe tbody tr th {\n",
       "        vertical-align: top;\n",
       "    }\n",
       "\n",
       "    .dataframe thead th {\n",
       "        text-align: right;\n",
       "    }\n",
       "</style>\n",
       "<table border=\"1\" class=\"dataframe\">\n",
       "  <thead>\n",
       "    <tr style=\"text-align: right;\">\n",
       "      <th></th>\n",
       "      <th>PoolQC</th>\n",
       "      <th>SalePrice</th>\n",
       "    </tr>\n",
       "  </thead>\n",
       "  <tbody>\n",
       "    <tr>\n",
       "      <th>197</th>\n",
       "      <td>Ex</td>\n",
       "      <td>235000.0</td>\n",
       "    </tr>\n",
       "    <tr>\n",
       "      <th>810</th>\n",
       "      <td>Fa</td>\n",
       "      <td>181000.0</td>\n",
       "    </tr>\n",
       "    <tr>\n",
       "      <th>1170</th>\n",
       "      <td>Gd</td>\n",
       "      <td>171000.0</td>\n",
       "    </tr>\n",
       "    <tr>\n",
       "      <th>1182</th>\n",
       "      <td>Ex</td>\n",
       "      <td>745000.0</td>\n",
       "    </tr>\n",
       "    <tr>\n",
       "      <th>1298</th>\n",
       "      <td>Gd</td>\n",
       "      <td>160000.0</td>\n",
       "    </tr>\n",
       "    <tr>\n",
       "      <th>1386</th>\n",
       "      <td>Fa</td>\n",
       "      <td>250000.0</td>\n",
       "    </tr>\n",
       "    <tr>\n",
       "      <th>1423</th>\n",
       "      <td>Gd</td>\n",
       "      <td>274970.0</td>\n",
       "    </tr>\n",
       "  </tbody>\n",
       "</table>\n",
       "</div>"
      ],
      "text/plain": [
       "     PoolQC  SalePrice\n",
       "197      Ex   235000.0\n",
       "810      Fa   181000.0\n",
       "1170     Gd   171000.0\n",
       "1182     Ex   745000.0\n",
       "1298     Gd   160000.0\n",
       "1386     Fa   250000.0\n",
       "1423     Gd   274970.0"
      ]
     },
     "execution_count": 49,
     "metadata": {},
     "output_type": "execute_result"
    }
   ],
   "source": [
    "dbfilter = all_data[~all_data['PoolQC'].isnull() & (~all_data['SalePrice'].isnull())][['PoolQC','SalePrice']]\n",
    "#dbfilter[['PoolArea','PoolQC', 'SalePrice']].sort_values(['PoolArea'], ascending=False)\n",
    "dbfilter"
   ]
  },
  {
   "cell_type": "code",
   "execution_count": 52,
   "metadata": {},
   "outputs": [],
   "source": [
    "grouped_anova = dbfilter.groupby([\"PoolQC\"])\n",
    "anova_results = stats.f_oneway(grouped_anova.get_group(\"Ex\")['SalePrice'],grouped_anova.get_group(\"Fa\")['SalePrice'])"
   ]
  },
  {
   "cell_type": "code",
   "execution_count": 53,
   "metadata": {},
   "outputs": [
    {
     "data": {
      "text/plain": [
       "F_onewayResult(statistic=1.1379591559346223, pvalue=0.39780146588456455)"
      ]
     },
     "execution_count": 53,
     "metadata": {},
     "output_type": "execute_result"
    }
   ],
   "source": [
    "anova_results\n",
    "# o resultado p>0.05 não é estatisticamente significante. e o F é um número pequeno que também torna ruim a predição."
   ]
  },
  {
   "cell_type": "code",
   "execution_count": 24,
   "metadata": {},
   "outputs": [
    {
     "data": {
      "text/plain": [
       "[('Ex',\n",
       "       PoolQC  SalePrice\n",
       "  197      Ex   235000.0\n",
       "  1182     Ex   745000.0),\n",
       " ('Fa',\n",
       "       PoolQC  SalePrice\n",
       "  810      Fa   181000.0\n",
       "  1386     Fa   250000.0),\n",
       " ('Gd',\n",
       "       PoolQC  SalePrice\n",
       "  1170     Gd   171000.0\n",
       "  1298     Gd   160000.0\n",
       "  1423     Gd   274970.0)]"
      ]
     },
     "execution_count": 24,
     "metadata": {},
     "output_type": "execute_result"
    }
   ],
   "source": [
    "list(grouped_anova)"
   ]
  },
  {
   "cell_type": "code",
   "execution_count": 115,
   "metadata": {},
   "outputs": [
    {
     "data": {
      "text/plain": [
       "197     360624.458405\n",
       "810      48790.367902\n",
       "1170     63441.392639\n",
       "1182    360624.458405\n",
       "1298     63441.392639\n",
       "1386     48790.367902\n",
       "1423     63441.392639\n",
       "Name: PoolQC, dtype: float64"
      ]
     },
     "execution_count": 115,
     "metadata": {},
     "output_type": "execute_result"
    }
   ],
   "source": [
    "novodb = (dbfilter.loc[(dbfilter['PoolArea'] > 0) & (~all_data['PoolQC'].isnull()), 'PoolQC']/ dbfilter.loc[(dbfilter['PoolArea'] > 0) & (~all_data['PoolQC'].isnull()), 'PoolQC'].sum()) \n",
    "dbfilter['PoolQC'].map(mean_encode)"
   ]
  },
  {
   "cell_type": "code",
   "execution_count": 137,
   "metadata": {},
   "outputs": [
    {
     "data": {
      "text/plain": [
       "1974   NaN\n",
       "2420   NaN\n",
       "2503   NaN\n",
       "2573   NaN\n",
       "2599   NaN\n",
       "2710   NaN\n",
       "Name: PoolQC, dtype: float64"
      ]
     },
     "execution_count": 137,
     "metadata": {},
     "output_type": "execute_result"
    }
   ],
   "source": [
    "all_data.loc[all_data['PoolQC'].isnull() & (all_data['PoolArea'] > 0)]['PoolQC'] = dbfilter['SalePrice'].std()"
   ]
  },
  {
   "cell_type": "code",
   "execution_count": 54,
   "metadata": {},
   "outputs": [
    {
     "data": {
      "text/html": [
       "<div>\n",
       "<style scoped>\n",
       "    .dataframe tbody tr th:only-of-type {\n",
       "        vertical-align: middle;\n",
       "    }\n",
       "\n",
       "    .dataframe tbody tr th {\n",
       "        vertical-align: top;\n",
       "    }\n",
       "\n",
       "    .dataframe thead th {\n",
       "        text-align: right;\n",
       "    }\n",
       "</style>\n",
       "<table border=\"1\" class=\"dataframe\">\n",
       "  <thead>\n",
       "    <tr style=\"text-align: right;\">\n",
       "      <th></th>\n",
       "      <th>SalePrice</th>\n",
       "    </tr>\n",
       "  </thead>\n",
       "  <tbody>\n",
       "    <tr>\n",
       "      <th>SalePrice</th>\n",
       "      <td>1.0</td>\n",
       "    </tr>\n",
       "  </tbody>\n",
       "</table>\n",
       "</div>"
      ],
      "text/plain": [
       "           SalePrice\n",
       "SalePrice        1.0"
      ]
     },
     "execution_count": 54,
     "metadata": {},
     "output_type": "execute_result"
    },
    {
     "data": {
      "image/png": "[encoded data removed]",
      "text/plain": [
       "<Figure size 432x288 with 1 Axes>"
      ]
     },
     "metadata": {
      "needs_background": "light"
     },
     "output_type": "display_data"
    }
   ],
   "source": [
    "grafico = dbfilter.groupby('PoolQC')['SalePrice'].mean().to_frame(name = 'SalePrice').reset_index()\n",
    "grafico\n",
    "sns.barplot(data=grafico,x='PoolQC', y='SalePrice')\n",
    "grafico.corr(method='kendall')"
   ]
  },
  {
   "cell_type": "code",
   "execution_count": 58,
   "metadata": {},
   "outputs": [],
   "source": [
    "all_data['PoolQC'] = all_data['PoolQC'].apply(lambda x: \n",
    "                                                       4 if x in ['Ex'] else\n",
    "                                                       3 if x in ['Gd'] else\n",
    "                                                       2 if x in ['TA'] else\n",
    "                                                       1 if x in ['Fa'] \n",
    "                                                       else x)\n",
    "all_data['PoolQC'] = all_data['PoolQC'].fillna(0)"
   ]
  },
  {
   "cell_type": "code",
   "execution_count": 74,
   "metadata": {},
   "outputs": [
    {
     "data": {
      "text/html": [
       "<div>\n",
       "<style scoped>\n",
       "    .dataframe tbody tr th:only-of-type {\n",
       "        vertical-align: middle;\n",
       "    }\n",
       "\n",
       "    .dataframe tbody tr th {\n",
       "        vertical-align: top;\n",
       "    }\n",
       "\n",
       "    .dataframe thead th {\n",
       "        text-align: right;\n",
       "    }\n",
       "</style>\n",
       "<table border=\"1\" class=\"dataframe\">\n",
       "  <thead>\n",
       "    <tr style=\"text-align: right;\">\n",
       "      <th></th>\n",
       "      <th>PoolQC</th>\n",
       "      <th>SalePrice</th>\n",
       "    </tr>\n",
       "  </thead>\n",
       "  <tbody>\n",
       "    <tr>\n",
       "      <th>PoolQC</th>\n",
       "      <td>1.000000</td>\n",
       "      <td>0.447936</td>\n",
       "    </tr>\n",
       "    <tr>\n",
       "      <th>SalePrice</th>\n",
       "      <td>0.447936</td>\n",
       "      <td>1.000000</td>\n",
       "    </tr>\n",
       "  </tbody>\n",
       "</table>\n",
       "</div>"
      ],
      "text/plain": [
       "             PoolQC  SalePrice\n",
       "PoolQC     1.000000   0.447936\n",
       "SalePrice  0.447936   1.000000"
      ]
     },
     "execution_count": 74,
     "metadata": {},
     "output_type": "execute_result"
    }
   ],
   "source": [
    "dbanalise = all_data[(all_data['PoolQC'] >0) & (all_data['SalePrice'] >0)][['PoolQC', 'SalePrice']]\n",
    "all_data[(all_data['PoolQC'] >0) & (all_data['SalePrice'] >0)][['PoolQC', 'SalePrice']].corr()"
   ]
  },
  {
   "cell_type": "code",
   "execution_count": 81,
   "metadata": {},
   "outputs": [],
   "source": [
    "dbanalise = all_data[['PoolQC', 'SalePrice']]"
   ]
  },
  {
   "cell_type": "code",
   "execution_count": 82,
   "metadata": {},
   "outputs": [
    {
     "data": {
      "text/plain": [
       "<seaborn.axisgrid.FacetGrid at 0x1ad4e651be0>"
      ]
     },
     "execution_count": 82,
     "metadata": {},
     "output_type": "execute_result"
    },
    {
     "data": {
      "image/png": "[encoded data removed]",
      "text/plain": [
       "<Figure size 360x360 with 1 Axes>"
      ]
     },
     "metadata": {
      "needs_background": "light"
     },
     "output_type": "display_data"
    }
   ],
   "source": [
    "sns.lmplot(x='PoolQC',y='SalePrice',data=dbanalise)"
   ]
  },
  {
   "cell_type": "code",
   "execution_count": 39,
   "metadata": {},
   "outputs": [
    {
     "data": {
      "text/plain": [
       "<matplotlib.axes._subplots.AxesSubplot at 0x24ae6f07820>"
      ]
     },
     "execution_count": 39,
     "metadata": {},
     "output_type": "execute_result"
    },
    {
     "data": {
      "image/png": "[encoded data removed]",
      "text/plain": [
       "<Figure size 432x288 with 1 Axes>"
      ]
     },
     "metadata": {
      "needs_background": "light"
     },
     "output_type": "display_data"
    }
   ],
   "source": [
    "sns.boxplot(x='PoolQC',y='PoolArea',data=dbfilter)"
   ]
  },
  {
   "cell_type": "code",
   "execution_count": 41,
   "metadata": {},
   "outputs": [
    {
     "data": {
      "text/plain": [
       "array([[<matplotlib.axes._subplots.AxesSubplot object at 0x0000024AE7084C70>,\n",
       "        <matplotlib.axes._subplots.AxesSubplot object at 0x0000024AE7107AF0>]],\n",
       "      dtype=object)"
      ]
     },
     "execution_count": 41,
     "metadata": {},
     "output_type": "execute_result"
    },
    {
     "data": {
      "image/png": "[encoded data removed]",
      "text/plain": [
       "<Figure size 432x288 with 2 Axes>"
      ]
     },
     "metadata": {
      "needs_background": "light"
     },
     "output_type": "display_data"
    }
   ],
   "source": [
    "dbfilter[['PoolArea','PoolQC']].hist()"
   ]
  },
  {
   "cell_type": "code",
   "execution_count": 44,
   "metadata": {},
   "outputs": [
    {
     "data": {
      "image/png": "[encoded data removed]",
      "text/plain": [
       "<Figure size 432x288 with 1 Axes>"
      ]
     },
     "metadata": {
      "needs_background": "light"
     },
     "output_type": "display_data"
    }
   ],
   "source": [
    "sns.distplot(dbfilter['PoolQC'] , fit=norm);"
   ]
  }
 ],
 "metadata": {
  "kernelspec": {
   "display_name": "Python 3.8.0 64-bit",
   "language": "python",
   "name": "python38064bit89dc14be3fab4c2eaace80ffa1d6b33e"
  },
  "language_info": {
   "codemirror_mode": {
    "name": "ipython",
    "version": 3
   },
   "file_extension": ".py",
   "mimetype": "text/x-python",
   "name": "python",
   "nbconvert_exporter": "python",
   "pygments_lexer": "ipython3",
   "version": "3.8.0"
  }
 },
 "nbformat": 4,
 "nbformat_minor": 4
}
