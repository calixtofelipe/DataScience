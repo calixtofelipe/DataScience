{
 "cells": [
  {
   "cell_type": "raw",
   "metadata": {},
   "source": [
    "SOLUÇÃO MISSING\n",
    "\n",
    "total = all_data.isnull().sum().sort_values(ascending=False)\n",
    "percent = (all_data.isnull().sum()/all_data.isnull().count()).sort_values(ascending=False)\n",
    "missing_data = pd.concat([total, percent], axis=1, keys=['Total', 'Percent'])\n",
    "missing_data.head(25)\n",
    "\n",
    "PoolQC\n",
    "1 - PoolQC referesse a qualidade da piscina nitidamente deve ser uma variável ordinal.\n",
    "2 - Existe somente 7 em  1460 (base treinamento) para conseguir prever. Qualidade muito baixa de predição.\n",
    "3 - Ao se tratar como número a correlação é baixa com label. E analise da ANOVA também apresenta um F baixo mas um p value \n",
    "significativo.\n",
    "\n",
    "A primeira tentativa de predição deve excluir essa variável. É valido tentar incluir, mas provavel ocorrer overffiting.\n",
    "\n",
    "SOLUÇÃO MISSING MiscFeature\n",
    "1- Essa variável é categórica.\n",
    "2 - Possui 54 registros preeenchidos a maioria informando shed(galpão)\n",
    "3 - Com a analise da ANOVA encontra-se um p value menor que 5% porém um F baixo. Com a analise grafica percebe-se que\n",
    "casas sem Shed tem um preço médio maior que as com shed. O que não faz sentido a correlação. Essa variável pode atrapalhar\n",
    "mais do que ajudar na predição. Melhor excluir.\n",
    "** MiscVal pode gerar variaveis de boa predição.\n",
    "\n",
    "A primeira tentativa de predição deve excluir essa variável.\n",
    "*** Tem uma variável que acompanha essa MiscVal que representa o valor talvez essa tenha melhor predição e deva gerar outras\n",
    "variáveis.\n",
    "\n",
    "SOLUÇÃO MISSING Alley\n",
    "1 - Representa a qualidade da rua de acesso. Existe uma variação interessante. Se pavimentada o preço medio é significa\n",
    "tivamente maior (ANOVA p-value menor 5%) que a classificação Grvl. O problema é os registros não classificados que são a maior\n",
    "parte tendem a ter um preço maior, porém não é verdade a media é mais alta por causa do volume de dados.\n",
    "Para considerar essa variável teria que de alguma forma tirar a interferência dos não classificados na predição.\n",
    "\n",
    "SOLUÇÃO MISSING Fence\n",
    "1 - representa a qualidade da cerca.\n",
    "2- Pela analise ANOVA nenhuma associação com o preço de venda é expressiva.\n",
    "\n",
    "SOLUÇÃO MISSING FireplaceQu e Fireplaces\n",
    "1 - Qualidade da proteção contra incêndio.\n",
    "2 - Preenchido os nulos com NA porque o Nro.Fireplaces eram 0 também.\n",
    "3 - Apresenta boa correlação com o SalePrice. E uma correlação muito forte com a Fireplaces que é o numero de fireplaces.\n",
    "Adotar a tecnica de criar uma nova variável que represente a relação do SalePrice com as duas variáveis e excluir as duas\n",
    "será a opção adotada.\n",
    "\n",
    "SOLUÇÃO MISSING LotFrontage\n",
    "1 - tamanho da fachada do lote. Tem a variavel tamanho da area que pode ajudar.\n",
    "2 - A correlação entre lotArea e Lotfrontage é 0.4 maior que a correlação com SalePrice.\n",
    "3 - Uma forma de preenchimento dos vazios é encontrar os k vizinhos proximos de acordo com a LotArea e preencher de acordo com\n",
    "a média do LotFrontage dos vizinhos. Caso os vizinhos sejam todos nulos preenche com a média geral.\n",
    "Ou seja, lotes de tamanhos parecidos tenham frentes de tamanho parecidos.\n",
    "* Outra possibilidade é fazer o preenchimento de acordo com a média do bairro. Lotes no mesmo bairro tendem a ter\n",
    "fachadas do mesmo tamanho. Porém primeiro seria necessário fazer o cluster dos bairros.\n",
    "\n",
    "SOLUÇÃO MISSING GarageQual,GarageFinish, GarageQual,GarageYrBlt,GarageCond\n",
    "1 - Representa a qualidade da garagem\n",
    "1 - Se tinha garagem area 0 e Quantidade carros 0 então todos os campos foram transformados para NA.\n",
    "\n",
    "SOLUÇÃO MISSING GarageCars, GarageArea\n",
    "1 Só tinha um registro 2576 com missing e os demais campos referente a garage não informados. \n",
    "Provavelmente não tinha garagem foi informado 0.\n",
    "\n",
    "SOLUÇÃO MISSING Bsmt... \n",
    "1 - todas as variaveis de porão\n",
    "2 - Maior parte  como não tinha as outras informações inferesse que não tinha porão.\n",
    "3 - Demais ajustes conforme média e similaridade dos outros campos.\n",
    "\n",
    "SOLUÇÃO MISSING MasVnrType (folheado alvenaria)\n",
    "1 - (folheado alvenaria)\n",
    "2 - Só um registro dos NaN tem area e não tem informação. Como existem outros registros que tem area e são None esse\n",
    "também entrará na regra. Ou seja, todos serão preenchidos com None.\n",
    "3 - Já os que tem area vazia e estão preenchidos com MasVnrType serão preenchidos com area 0\n",
    "\n",
    "SOLUÇÃO MISSING MSZoning\n",
    "1 - Classificação geral de zoneamento de venda.\n",
    "2 - Os 4 registros nulos serão preenchidos com o valor mais comum de acordo com o mesmo MSSubClass encontrado.\n",
    "dbfilter.groupby([\"MSSubClass\"])['MSZoning'].agg(lambda x:x.value_counts().index[0])\n",
    "\n",
    "SOLUÇÃO MISSING Utilities Functional\n",
    "1 - Os dois registros que não tem preço e estão vazios também tem o campo Functional informando redução.\n",
    "2 - Foi preenchido com somente eletricidade já que não estava preenchido e o item functional aponta redução.\n",
    "3 - O funcional que está vazio irá assumir o valor padrão Typ.\n",
    "\n",
    "Functional informando redução.\n",
    "2 - Foi preenchido com somente eletricidade já que não estava preenchido e o item functional aponta redução. \n",
    "\n",
    "SOLUÇÃO MISSING SaleType\n",
    "1 - O registro que não tinha o tipo de venda recebeu o valor convencional.\n",
    "\n",
    "SOLUÇÃO MISSING KitchenQual\n",
    "1 - O registro que não tinha o tipo de venda recebeu o valor convencional.\n",
    "\n",
    "SOLUÇÃO MISSING Exterior1st Exterior2nd\n",
    "1 - O registro que não tinha o tipo de venda recebeu o valor convencional.\n",
    "\n",
    "SOLUÇÃO MISSING Electrical\n",
    "1 - O registro que não tinha o tipo de venda recebeu o valor convencional."
   ]
  },
  {
   "cell_type": "code",
   "execution_count": 152,
   "metadata": {},
   "outputs": [
    {
     "name": "stdout",
     "output_type": "stream",
     "text": [
      "['.ipynb_checkpoints', 'Analise_Variavel_Alley.ipynb', 'Analise_Variavel_MiscFeature.ipynb', 'Analise_Variavel_Qualidade_Piscina.ipynb', 'Fast_through_variables_categorical.ipynb', 'Fast_through_variables_modelagem.ipynb', 'Fast_through_variables_numerical.ipynb', 'HousePriceV012-20200414.ipynb', 'input2', 'submissionv020-xgbbost.csv']\n"
     ]
    }
   ],
   "source": [
    "import numpy as np # linear algebra\n",
    "import pandas as pd # data processing, CSV file I/O (e.g. pd.read_csv)\n",
    "import matplotlib.pyplot as plt \n",
    "import seaborn as sns \n",
    "import xgboost as xgb\n",
    "from scipy import stats\n",
    "from scipy.stats import norm, skew\n",
    "from sklearn.model_selection import train_test_split\n",
    "from sklearn.metrics import mean_absolute_error, mean_squared_error,accuracy_score\n",
    "from statsmodels.stats.multicomp import pairwise_tukeyhsd\n",
    "from statsmodels.stats.multicomp import MultiComparison\n",
    "from sklearn.preprocessing import StandardScaler\n",
    "from sklearn.cluster import AgglomerativeClustering, DBSCAN\n",
    "\n",
    "from sklearn.decomposition import PCA\n",
    "from sklearn.ensemble import GradientBoostingRegressor, RandomForestClassifier\n",
    "from lightgbm import LGBMRegressor\n",
    "from sklearn.pipeline import make_pipeline\n",
    "from mlxtend.regressor import StackingCVRegressor\n",
    "from sklearn.model_selection import KFold, cross_val_score\n",
    "from sklearn.model_selection import GridSearchCV\n",
    "from pandas.api.types import CategoricalDtype\n",
    "from sklearn.linear_model import ElasticNetCV, LassoCV, RidgeCV, Lasso, Ridge\n",
    "import os\n",
    "print(os.listdir('.'))\n",
    "train = pd.read_csv('input2/train.csv')\n",
    "test = pd.read_csv('input2/test.csv')\n",
    "\n",
    "all_data = pd.concat((train, test), axis=0, sort=False).reset_index(drop=True)"
   ]
  },
  {
   "cell_type": "code",
   "execution_count": 153,
   "metadata": {},
   "outputs": [],
   "source": [
    "# Preencher não informados com vazios.\n",
    "train['FireplaceQu'] = train['FireplaceQu'].fillna('NA')\n",
    "test['FireplaceQu'] = test['FireplaceQu'].fillna('NA')\n",
    "all_data['FireplaceQu'] = all_data['FireplaceQu'].fillna('NA')\n",
    "\n",
    "# Criando novas variaveis\n",
    "all_data['FireplaceQu'] = all_data['FireplaceQu'].fillna('NA')\n",
    "all_data['FireplaceQu'] = all_data['FireplaceQu'].apply(lambda x:\n",
    "                                                        5 if x in ['Ex'] else\n",
    "                                                        4 if x in ['Gd'] else\n",
    "                                                        3 if x in ['TA'] else\n",
    "                                                        2 if x in ['Fa'] else\n",
    "                                                        1 if x in ['Po'] \n",
    "                                                        else 0)\n",
    "all_data['FireplaceQuFireplaces'] = all_data['FireplaceQu'] * all_data['Fireplaces'] \n",
    "\n",
    "\n",
    "\n",
    "# Lotfrontage\n",
    "dbfilter = all_data[['LotArea','LotFrontage']].copy()\n",
    "X = dbfilter.iloc[:, [0,0]].values\n",
    "X = StandardScaler().fit_transform(X)\n",
    "hc = AgglomerativeClustering(n_clusters = 4, affinity = 'euclidean', linkage ='ward')\n",
    "y_hc=hc.fit_predict(X)\n",
    "all_data['ClusterLotArea'] = y_hc\n",
    "all_data[\"LotFrontage\"] = all_data.groupby(\"ClusterLotArea\")[\"LotFrontage\"].transform(\n",
    "    lambda x: x.fillna(x.median()))\n",
    "\n",
    "all_data.loc[all_data.index==2126, \"GarageFinish\"]='Unf'\n",
    "all_data.loc[all_data.index==2126, \"GarageQual\"]='Po'\n",
    "all_data.loc[all_data.index==2126, \"GarageYrBlt\"]=all_data[all_data[\"GarageQual\"]=='Po']['GarageYrBlt'].min()\n",
    "all_data.loc[all_data.index==2126, \"GarageCond\"]='Po'\n",
    "all_data.loc[all_data.index==2576, \"GarageCars\"]=0\n",
    "all_data.loc[all_data.index==2576, \"GarageArea\"]=0\n",
    "all_data['GarageFinish'] = all_data['GarageFinish'].fillna('NA')\n",
    "all_data['GarageQual'] = all_data['GarageQual'].fillna('NA')\n",
    "all_data['GarageCond'] = all_data['GarageCond'].fillna('NA')\n",
    "all_data['GarageType'] = all_data['GarageType'].fillna('NA')\n",
    "all_data['GarageYrBlt'] = all_data['GarageYrBlt'].fillna(0)\n",
    "\n",
    "all_data.loc[all_data.index.isin([2348,1487,948]), \"BsmtExposure\"]='Av'\n",
    "all_data.loc[(all_data['BsmtFinSF1']==0) & (all_data['BsmtCond'].isnull()), \"BsmtCond\"] = 'NA'\n",
    "all_data.loc[(all_data['BsmtFinSF1']==0) & (all_data['BsmtQual'].isnull()), \"BsmtQual\"] = 'NA'\n",
    "all_data.loc[(all_data['BsmtFinSF1']==0) & (all_data['BsmtFinType2'].isnull()), \"BsmtFinType2\"] = 'NA'\n",
    "all_data.loc[(all_data['BsmtFinSF1']==0) & (all_data['BsmtFinType1'].isnull()), \"BsmtFinType1\"] = 'NA'\n",
    "all_data.loc[(all_data['BsmtFinSF1']==0) & (all_data['BsmtExposure'].isnull()), \"BsmtExposure\"] = 'NA'\n",
    "all_data.loc[all_data.index==2120,['BsmtExposure','BsmtCond','BsmtQual','BsmtFinType2','BsmtFinType1','BsmtFullBath', 'BsmtHalfBath','BsmtUnfSF','BsmtFinSF2','BsmtFinSF1']] = all_data[(all_data.index==1856)][['BsmtExposure','BsmtCond','BsmtQual','BsmtFinType2','BsmtFinType1','BsmtFullBath','BsmtHalfBath','BsmtUnfSF','BsmtFinSF2','BsmtFinSF1']].values\n",
    "all_data.loc[(all_data.index==2040), \"BsmtCond\"]='Gd'\n",
    "all_data.loc[(all_data.index==2185), \"BsmtCond\"]='TA'\n",
    "all_data.loc[(all_data.index==2524), \"BsmtCond\"]='TA'\n",
    "all_data['TotalBsmtSF'] = all_data['TotalBsmtSF'].fillna(0)\n",
    "all_data['BsmtFinType2'] = all_data['BsmtFinType2'].fillna('Unf')\n",
    "all_data['BsmtFullBath'] = all_data['BsmtFullBath'].fillna(0)\n",
    "all_data['BsmtHalfBath'] = all_data['BsmtHalfBath'].fillna(0)\n",
    "all_data['MasVnrType'] = all_data['MasVnrType'].fillna('None')\n",
    "all_data['MasVnrArea'] = all_data['MasVnrArea'].fillna(0)\n",
    "all_data.loc[(all_data.index.isin([2216,2904])), \"MSZoning\"]='RL'\n",
    "all_data.loc[(all_data.index.isin([1915,2250])), \"MSZoning\"]='RM'\n",
    "all_data['Utilities'] = all_data['Utilities'].fillna('ELO')\n",
    "all_data['Functional'] = all_data['Functional'].fillna('Typ')\n",
    "all_data['SaleType'] = all_data['SaleType'].fillna('WD')\n",
    "all_data['KitchenQual'] = all_data['KitchenQual'].fillna('TA')\n",
    "all_data['Exterior1st'] = all_data['Exterior1st'].fillna('Other')\n",
    "all_data['Exterior2nd'] = all_data['Exterior2nd'].fillna('Other')\n",
    "all_data['Electrical'] = all_data['Electrical'].fillna('SBrkr')\n",
    "\n",
    "train = train.drop(['PoolQC','MiscFeature','Alley','Fence','FireplaceQu','Fireplaces','Street','Utilities'], 1).copy()\n",
    "test = test.drop(['PoolQC','MiscFeature','Alley','Fence','FireplaceQu','Fireplaces','Street','Utilities'], 1).copy()\n",
    "all_data = all_data.drop(['PoolQC','MiscFeature','Alley','Fence','FireplaceQu','Fireplaces','ClusterLotArea','Street','Utilities'], 1).copy()\n",
    "\n",
    "# deletado por fraco porder de separação \n",
    "all_data = all_data.drop(['LandSlope','Condition1','Condition2','RoofStyle','RoofMatl',\n",
    "                          'RoofMatl','BsmtFinType2','Heating', 'Electrical','Functional', 'GarageCond', \n",
    "                          'SaleType','SaleCondition'], 1).copy()"
   ]
  },
  {
   "cell_type": "code",
   "execution_count": 154,
   "metadata": {},
   "outputs": [],
   "source": [
    "# Ajustes de classificações\n",
    "all_data.loc[(all_data['MSZoning']=='RM'), \"MSZoning\"] = 'RH'\n",
    "\n",
    "all_data.loc[(all_data['LotShape']=='IR3'), \"LotShape\"] = 'IR2'\n",
    "\n",
    "all_data.loc[(all_data['LandContour']=='Low'), \"LandContour\"] = 'HLS'\n",
    "\n",
    "all_data.loc[(all_data['LotConfig']=='FR2'), \"LotConfig\"] = 'Corner'\n",
    "all_data.loc[(all_data['LotConfig']=='FR3'), \"LotConfig\"] = 'CulDSac'\n",
    "\n",
    "# SEPARACAO DOS BAIRROS\n",
    "dbfilter = all_data[(~all_data['Neighborhood'].isnull()) & (all_data['SalePrice'] > 0)][['Neighborhood','SalePrice']].copy()\n",
    "dbfilter['media']=all_data['Neighborhood'].map(dbfilter.groupby([\"Neighborhood\"])[\"SalePrice\"].mean())\n",
    "dbfilter2 = dbfilter.copy()\n",
    "X = dbfilter2.iloc[:, [2,2]].values\n",
    "X = StandardScaler().fit_transform(X)\n",
    "hc = AgglomerativeClustering(n_clusters = 6, affinity = 'euclidean', linkage ='ward')\n",
    "y_hc=hc.fit_predict(X)\n",
    "dbfilter2['Cluster'] = y_hc\n",
    "mean_encode = dbfilter2.groupby('Neighborhood')['Cluster'].max().copy()\n",
    "all_data['Cluster'] = all_data['Neighborhood'].map(mean_encode).copy()\n",
    "mean_encode = dbfilter2.groupby('Cluster')['Neighborhood'].max().copy()\n",
    "all_data['Neighborhood'] = all_data['Cluster'].map(mean_encode).copy()\n",
    "all_data = all_data.drop(['Cluster'], 1).copy()\n",
    "\n",
    "\"\"\"\n",
    "dbfilter2 = train.groupby('Neighborhood')['SalePrice'].median().to_frame(name = 'MediaBairro').reset_index().sort_values('MediaBairro',ascending=True).copy()\n",
    "X = dbfilter2.iloc[:, [1,1]].values\n",
    "X = StandardScaler().fit_transform(X)\n",
    "hc = AgglomerativeClustering(n_clusters = 6, affinity = 'euclidean', linkage ='ward')\n",
    "y_hc=hc.fit_predict(X)\n",
    "dbfilter2['ClusterBairro'] = y_hc\n",
    "#grafico['ClusterBairroGrupo'] = all_data.groupby(\"ClusterBairro\")[\"LotFrontage\"].transform(\n",
    "#    lambda x: x.fillna(x.median()))\n",
    "dbfilter2['ClusterValue'] = dbfilter2['ClusterBairro'].map(dbfilter2.groupby('ClusterBairro')['MediaBairro'].max()).copy()\n",
    "dbfilter3 = dbfilter2[(dbfilter2['MediaBairro']==dbfilter2['ClusterValue'])][['ClusterBairro', 'Neighborhood']]\n",
    "dbfilter3 = dbfilter3.set_index('ClusterBairro').copy()\n",
    "dbfilter4 = dbfilter2.set_index('Neighborhood').copy()\n",
    "mean_encode = dbfilter4['ClusterBairro']\n",
    "all_data['ClusterBairro'] = all_data['Neighborhood'].map(mean_encode)\n",
    "all_data['Neighborhood'] = all_data['ClusterBairro'].map(dbfilter3['Neighborhood'])\n",
    "all_data = all_data.drop(['ClusterBairro'], 1).copy()\n",
    "\"\"\"\n",
    "\n",
    "all_data.loc[(all_data['BldgType']=='2fmCon'), \"BldgType\"] = 'Duplex'\n",
    "all_data.loc[(all_data['BldgType']=='Twnhs'), \"BldgType\"] = 'Duplex'\n",
    "all_data.loc[(all_data['BldgType']=='TwnhsE'), \"BldgType\"] = '1Fam'\n",
    "\n",
    "#SEPARACAO DOS HouseStyle\n",
    "dbfilter = all_data[(~all_data['HouseStyle'].isnull()) & (all_data['SalePrice'] > 0)][['HouseStyle','SalePrice']].copy()\n",
    "dbfilter['media']=all_data['HouseStyle'].map(dbfilter.groupby([\"HouseStyle\"])[\"SalePrice\"].mean())\n",
    "dbfilter2 = dbfilter.copy()\n",
    "X = dbfilter2.iloc[:, [2,2]].values\n",
    "X = StandardScaler().fit_transform(X)\n",
    "hc = AgglomerativeClustering(n_clusters = 3, affinity = 'euclidean', linkage ='ward')\n",
    "y_hc=hc.fit_predict(X)\n",
    "dbfilter2['Cluster'] = y_hc\n",
    "mean_encode = dbfilter2.groupby('HouseStyle')['Cluster'].max().copy()\n",
    "all_data['Cluster'] = all_data['HouseStyle'].map(mean_encode).copy()\n",
    "mean_encode = dbfilter2.groupby('Cluster')['HouseStyle'].max().copy()\n",
    "all_data['HouseStyle'] = all_data['Cluster'].map(mean_encode).copy()\n",
    "all_data = all_data.drop(['Cluster'], 1).copy()\n",
    "\n",
    "# separacao Exterior1st\n",
    "dbfilter = all_data[(~all_data['Exterior1st'].isnull()) & (all_data['SalePrice'] > 0)][['Exterior1st','SalePrice']].copy()\n",
    "dbfilter['media']=all_data['Exterior1st'].map(dbfilter.groupby([\"Exterior1st\"])[\"SalePrice\"].mean())\n",
    "dbfilter2 = dbfilter.copy()\n",
    "X = dbfilter2.iloc[:, [2,2]].values\n",
    "X = StandardScaler().fit_transform(X)\n",
    "hc = AgglomerativeClustering(n_clusters = 3, affinity = 'euclidean', linkage ='ward')\n",
    "y_hc=hc.fit_predict(X)\n",
    "dbfilter2['Cluster'] = y_hc\n",
    "mean_encode = dbfilter2.groupby('Exterior1st')['Cluster'].max().copy()\n",
    "all_data['Cluster'] = all_data['Exterior1st'].map(mean_encode).copy()\n",
    "mean_encode = dbfilter2.groupby('Cluster')['Exterior1st'].max().copy()\n",
    "all_data['Exterior1st'] = all_data['Cluster'].map(mean_encode).copy()\n",
    "all_data = all_data.drop(['Cluster'], 1).copy()\n",
    "\"\"\"\n",
    "dbfilter2 = train.groupby('Exterior1st')['SalePrice'].median().to_frame(name = 'Media').reset_index().sort_values('Media',ascending=True).copy()\n",
    "X = dbfilter2.iloc[:, [1,1]].values\n",
    "X = StandardScaler().fit_transform(X)\n",
    "hc = AgglomerativeClustering(n_clusters = 3, affinity = 'euclidean', linkage ='ward')\n",
    "y_hc=hc.fit_predict(X)\n",
    "dbfilter2['Cluster'] = y_hc\n",
    "dbfilter3 = dbfilter2[['Cluster','Exterior1st']].copy().set_index('Exterior1st')\n",
    "mean_encode = dbfilter3['Cluster']\n",
    "all_data['Cluster'] = all_data['Exterior1st'].map(mean_encode).copy()\n",
    "mean_encode = dbfilter2.groupby('Cluster')['Exterior1st'].max().copy()\n",
    "all_data['Exterior1st'] = all_data['Cluster'].map(mean_encode).copy()\n",
    "all_data = all_data.drop(['Cluster'], 1).copy()\n",
    "\"\"\"\n",
    "# separacao Exterior2nd\n",
    "dbfilter = all_data[(~all_data['Exterior2nd'].isnull()) & (all_data['SalePrice'] > 0)][['Exterior2nd','SalePrice']].copy()\n",
    "dbfilter['media']=all_data['Exterior2nd'].map(dbfilter.groupby([\"Exterior2nd\"])[\"SalePrice\"].mean())\n",
    "dbfilter2 = dbfilter.copy()\n",
    "#dbfilter2 = train.groupby('Exterior2nd')['SalePrice'].median().to_frame(name = 'Media').reset_index().sort_values('Media',ascending=True).copy()\n",
    "#dbfilter2['media'] = np.log1p(dbfilter2['media']).copy()\n",
    "X = dbfilter2.iloc[:, [2,2]].values\n",
    "X = StandardScaler().fit_transform(X)\n",
    "hc = AgglomerativeClustering(n_clusters = 3, affinity = 'euclidean', linkage ='ward')\n",
    "y_hc=hc.fit_predict(X)\n",
    "dbfilter2['Cluster'] = y_hc\n",
    "mean_encode = dbfilter2.groupby('Exterior2nd')['Cluster'].max().copy()\n",
    "all_data['Cluster'] = all_data['Exterior2nd'].map(mean_encode).copy()\n",
    "mean_encode = dbfilter2.groupby('Cluster')['Exterior2nd'].max().copy()\n",
    "all_data['Exterior2nd'] = all_data['Cluster'].map(mean_encode).copy()\n",
    "all_data = all_data.drop(['Cluster'], 1).copy()\n",
    "\n",
    "all_data.loc[(all_data['MasVnrType']=='BrkCmn'), \"MasVnrType\"] = 'None'\n",
    "\n",
    "# separacao Exterior2nd\n",
    "dbfilter = all_data[(~all_data['ExterCond'].isnull()) & (all_data['SalePrice'] > 0)][['ExterCond','SalePrice']].copy()\n",
    "dbfilter['media']=all_data['ExterCond'].map(dbfilter.groupby([\"ExterCond\"])[\"SalePrice\"].mean())\n",
    "dbfilter2 = dbfilter.copy()\n",
    "#dbfilter2 = train.groupby('Exterior2nd')['SalePrice'].median().to_frame(name = 'Media').reset_index().sort_values('Media',ascending=True).copy()\n",
    "#dbfilter2['media'] = np.log1p(dbfilter2['media']).copy()\n",
    "X = dbfilter2.iloc[:, [2,2]].values\n",
    "X = StandardScaler().fit_transform(X)\n",
    "hc = AgglomerativeClustering(n_clusters = 2, affinity = 'euclidean', linkage ='ward')\n",
    "y_hc=hc.fit_predict(X)\n",
    "dbfilter2['Cluster'] = y_hc\n",
    "mean_encode = dbfilter2.groupby('ExterCond')['Cluster'].max().copy()\n",
    "all_data['Cluster'] = all_data['ExterCond'].map(mean_encode).copy()\n",
    "mean_encode = dbfilter2.groupby('Cluster')['ExterCond'].max().copy()\n",
    "all_data['ExterCond'] = all_data['Cluster'].map(mean_encode).copy()\n",
    "all_data = all_data.drop(['Cluster'], 1).copy()\n",
    "\n",
    "# separacao Foundation\n",
    "dbfilter = all_data[(~all_data['Foundation'].isnull()) & (all_data['SalePrice'] > 0)][['Foundation','SalePrice']].copy()\n",
    "dbfilter['media']=all_data['Foundation'].map(dbfilter.groupby([\"Foundation\"])[\"SalePrice\"].mean())\n",
    "dbfilter2 = dbfilter.copy()\n",
    "#dbfilter2 = train.groupby('Exterior2nd')['SalePrice'].median().to_frame(name = 'Media').reset_index().sort_values('Media',ascending=True).copy()\n",
    "#dbfilter2['media'] = np.log1p(dbfilter2['media']).copy()\n",
    "X = dbfilter2.iloc[:, [2,2]].values\n",
    "X = StandardScaler().fit_transform(X)\n",
    "hc = AgglomerativeClustering(n_clusters = 3, affinity = 'euclidean', linkage ='ward')\n",
    "y_hc=hc.fit_predict(X)\n",
    "dbfilter2['Cluster'] = y_hc\n",
    "mean_encode = dbfilter2.groupby('Foundation')['Cluster'].max().copy()\n",
    "all_data['Cluster'] = all_data['Foundation'].map(mean_encode).copy()\n",
    "mean_encode = dbfilter2.groupby('Cluster')['Foundation'].max().copy()\n",
    "all_data['Foundation'] = all_data['Cluster'].map(mean_encode).copy()\n",
    "all_data = all_data.drop(['Cluster'], 1).copy()\n",
    "\n",
    "all_data.loc[(all_data['BsmtQual']=='BrkCmn'), \"BsmtQual\"] = 'None'\n",
    "all_data.loc[(all_data['BsmtExposure']=='Mn'), \"BsmtExposure\"] = 'Av'\n",
    "\n",
    "# separacao BsmtFinType1\n",
    "dbfilter = all_data[(~all_data['BsmtFinType1'].isnull()) & (all_data['SalePrice'] > 0)][['BsmtFinType1','SalePrice']].copy()\n",
    "dbfilter['media']=all_data['BsmtFinType1'].map(dbfilter.groupby([\"BsmtFinType1\"])[\"SalePrice\"].mean())\n",
    "dbfilter2 = dbfilter.copy()\n",
    "#dbfilter2 = train.groupby('Exterior2nd')['SalePrice'].median().to_frame(name = 'Media').reset_index().sort_values('Media',ascending=True).copy()\n",
    "#dbfilter2['media'] = np.log1p(dbfilter2['media']).copy()\n",
    "X = dbfilter2.iloc[:, [2,2]].values\n",
    "X = StandardScaler().fit_transform(X)\n",
    "hc = AgglomerativeClustering(n_clusters = 4, affinity = 'euclidean', linkage ='ward')\n",
    "y_hc=hc.fit_predict(X)\n",
    "dbfilter2['Cluster'] = y_hc\n",
    "mean_encode = dbfilter2.groupby('BsmtFinType1')['Cluster'].max().copy()\n",
    "all_data['Cluster'] = all_data['BsmtFinType1'].map(mean_encode).copy()\n",
    "mean_encode = dbfilter2.groupby('Cluster')['BsmtFinType1'].max().copy()\n",
    "all_data['BsmtFinType1'] = all_data['Cluster'].map(mean_encode).copy()\n",
    "all_data = all_data.drop(['Cluster'], 1).copy()\n",
    "\n",
    "# separacao HeatingQC\n",
    "dbfilter = all_data[(~all_data['HeatingQC'].isnull()) & (all_data['SalePrice'] > 0)][['HeatingQC','SalePrice']].copy()\n",
    "dbfilter['media']=all_data['HeatingQC'].map(dbfilter.groupby([\"HeatingQC\"])[\"SalePrice\"].mean())\n",
    "dbfilter2 = dbfilter.copy()\n",
    "#dbfilter2 = train.groupby('Exterior2nd')['SalePrice'].median().to_frame(name = 'Media').reset_index().sort_values('Media',ascending=True).copy()\n",
    "#dbfilter2['media'] = np.log1p(dbfilter2['media']).copy()\n",
    "X = dbfilter2.iloc[:, [2,2]].values\n",
    "X = StandardScaler().fit_transform(X)\n",
    "hc = AgglomerativeClustering(n_clusters = 4, affinity = 'euclidean', linkage ='ward')\n",
    "y_hc=hc.fit_predict(X)\n",
    "dbfilter2['Cluster'] = y_hc\n",
    "mean_encode = dbfilter2.groupby('HeatingQC')['Cluster'].max().copy()\n",
    "all_data['Cluster'] = all_data['HeatingQC'].map(mean_encode).copy()\n",
    "mean_encode = dbfilter2.groupby('Cluster')['HeatingQC'].max().copy()\n",
    "all_data['HeatingQC'] = all_data['Cluster'].map(mean_encode).copy()\n",
    "all_data = all_data.drop(['Cluster'], 1).copy()\n",
    "\n",
    "# separacao GarageType\n",
    "dbfilter = all_data[(~all_data['GarageType'].isnull()) & (all_data['SalePrice'] > 0)][['GarageType','SalePrice']].copy()\n",
    "dbfilter['media']=all_data['GarageType'].map(dbfilter.groupby([\"GarageType\"])[\"SalePrice\"].mean())\n",
    "dbfilter2 = dbfilter.copy()\n",
    "#dbfilter2 = train.groupby('Exterior2nd')['SalePrice'].median().to_frame(name = 'Media').reset_index().sort_values('Media',ascending=True).copy()\n",
    "#dbfilter2['media'] = np.log1p(dbfilter2['media']).copy()\n",
    "X = dbfilter2.iloc[:, [2,2]].values\n",
    "X = StandardScaler().fit_transform(X)\n",
    "hc = AgglomerativeClustering(n_clusters = 4, affinity = 'euclidean', linkage ='ward')\n",
    "y_hc=hc.fit_predict(X)\n",
    "dbfilter2['Cluster'] = y_hc\n",
    "mean_encode = dbfilter2.groupby('GarageType')['Cluster'].max().copy()\n",
    "all_data['Cluster'] = all_data['GarageType'].map(mean_encode).copy()\n",
    "mean_encode = dbfilter2.groupby('Cluster')['GarageType'].max().copy()\n",
    "all_data['GarageType'] = all_data['Cluster'].map(mean_encode).copy()\n",
    "all_data = all_data.drop(['Cluster'], 1).copy()\n",
    "\n",
    "# separacao GarageQual\n",
    "dbfilter = all_data[(~all_data['GarageQual'].isnull()) & (all_data['SalePrice'] > 0)][['GarageQual','SalePrice']].copy()\n",
    "dbfilter['media']=all_data['GarageQual'].map(dbfilter.groupby([\"GarageQual\"])[\"SalePrice\"].mean())\n",
    "dbfilter2 = dbfilter.copy()\n",
    "#dbfilter2 = train.groupby('Exterior2nd')['SalePrice'].median().to_frame(name = 'Media').reset_index().sort_values('Media',ascending=True).copy()\n",
    "#dbfilter2['media'] = np.log1p(dbfilter2['media']).copy()\n",
    "X = dbfilter2.iloc[:, [2,2]].values\n",
    "X = StandardScaler().fit_transform(X)\n",
    "hc = AgglomerativeClustering(n_clusters = 3, affinity = 'euclidean', linkage ='ward')\n",
    "y_hc=hc.fit_predict(X)\n",
    "dbfilter2['Cluster'] = y_hc\n",
    "mean_encode = dbfilter2.groupby('GarageQual')['Cluster'].max().copy()\n",
    "all_data['Cluster'] = all_data['GarageQual'].map(mean_encode).copy()\n",
    "mean_encode = dbfilter2.groupby('Cluster')['GarageQual'].max().copy()\n",
    "all_data['GarageQual'] = all_data['Cluster'].map(mean_encode).copy()\n",
    "all_data = all_data.drop(['Cluster'], 1).copy()\n",
    "\n",
    "all_data.loc[(all_data['PavedDrive']=='P'), \"PavedDrive\"] = 'N'"
   ]
  },
  {
   "cell_type": "raw",
   "metadata": {},
   "source": [
    "**** TEMA PARA TESE AVALIAÇÕES FEATURE ENGINEERING FAZER A REDUÇÃO DE DIMENSIONALIDADE VIA:\n",
    "1 - CLUSTERING AgglomerativeClustering AUTOMATICO PELA MEDIA\n",
    "2 - CLUSTERING AgglomerativeClustering AUTOMATICO PELA MEDIANA\n",
    "3 - CLUSTERING PELO p-value ANOVA reunindo categorias com medias/medianas mais semelhantes até atingir valores significativos.\n",
    "\n",
    "38 Colunas categóricas \n",
    "numerical_cols = [cname for cname in all_data.columns if \n",
    "                    all_data[cname].dtype in ['int64', 'float64']]\n",
    "categorical_cols = [cname for cname in all_data.columns if \n",
    "                    all_data[cname].dtype == \"object\"]\n",
    "\n",
    "1 - MSZoning - Indentifica zona geral de classificação de venda\n",
    "Tem classificações em 5 tipos diferentes.'RL', 'RM', 'C (all)', 'FV', 'RH'\n",
    "As classificações RM e RH o p-value não é significativo. Para melhorar esse relação irei colocar as classificações\n",
    "RM dentro das classificações RH\n",
    "\n",
    "2 - Street\n",
    "Só tem 6 registros informados como Grvl. Não tem muita diferenciação. \n",
    "Como primeira tentativa irei drop essa caracteristica. Mas vale a pena testar o modelo com ou sem.\n",
    "Quando for incluir melhor transformar em binário já que só tem duas opções.\n",
    "\n",
    "3 - LotShape - Forma da propriedade.\n",
    "São 4 classificações. Existe uma ordem ordinal. Porém quando analisada essa ordem em relação ao SalePrice essa ordem muda.\n",
    "Pela  ordem do IR2 e IR3 serem mais próximos e eles terem menos registros é mais confortável agrega-los do que agregar as\n",
    "outras classificações. Então o IR3 que tem menos registros vou passar para a classificação IR2\n",
    "O resultado mostrou 3 grupos com diferenças significativamente separaveis pela variável alvo.\n",
    "** Testar como ordinal\n",
    "\n",
    "4 - LandContour: planicidade da propriedade\n",
    "São 4 classificações 'Lvl', 'Bnk', 'Low', 'HLS' e a maioria absoluta classificada como nivelada.\n",
    "Existe uma ordem que pode ser tratada as variáveis como ordinal.\n",
    "Foi agregado a caracteristica Low (com menos registros) com HLS. Assim todas as caracteristicas ficaram significamente\n",
    "separaveis. \n",
    "** Testar como ordinal\n",
    "\n",
    "5 - Utilities\n",
    "São 4 classificações, mas todos registros exceto 1 está com a mesma classificação.\n",
    "Dessa foram essa variável vai sofrer drop porque não serve para predição.\n",
    "\n",
    "6 - LotConfig\n",
    "A configuração do lot, se é um lot da esquina, quantas frentes tem o lote. Se está em um beco sem saida.\n",
    "A frente de dois lados e esquina tem basicamente a mesma relação com preço. \n",
    "Apesar de parecer boa a união de inside com corner não parece ser correto fazer essa união.\n",
    "\n",
    "7 - LandSlope: inclinação da propriedade.\n",
    "Ordinal e tem 3 classificações. Fraca separação em relação ao SalePrice.\n",
    "** Testar como ordinal\n",
    "\n",
    "8 - Neighborhood - Bairro da propriedade\n",
    "São 25 bairros, alta dimensionalidade. Foi feita a divisão pela regra p-value\n",
    "e chegou a 6 bairros altamente diferenciáveis. Fazendo a separação visual via media SalePrice.\n",
    "Teve semelhante resultado se fizer a separação via AgglomerativeClustering e utlizando a media SalePrice\n",
    "para a separação.\n",
    "\n",
    "9 - Condition1 - Proximidades relevantes\n",
    "Pouca diferenciação. A maioria está classificado dentro de uma categoria: Norm. \n",
    "E em relação ao SalePrice não tem nenhuma categoria com uma diferenciação p-value considerável\n",
    "em relação a Norm. E até mesmo em relação as outras categorias nada significativo.\n",
    "Primeira analise: drop categoria.\n",
    "\n",
    "10 - Condition2 - Proximidades relevantes 2\n",
    "Mesma questão acima, porém pior porque ainda mais centralizado na categoria Norm.\n",
    "Primeira analise: drop categoria.\n",
    "\n",
    "11 - BldgType - Tipo de habitação\n",
    "São 5 categorias. Juntar Duplex, 2fmCon e Twnhs porque não tem muita diferenção de preço medio.\n",
    "E também TwnhsE e 1Fam unidos. Assim a feature ficou binária e trará alto poder de predição.\n",
    "\n",
    "12 - HouseStyle - Estilo da casa\n",
    "De 8 categorias foram formados clusters para criação de 3 categorias significativas.\n",
    "\n",
    "13 - RoofStyle - Estilo telhado\n",
    "Sem variabilidade drop\n",
    "\n",
    "14 - RoofMatl - Material telhado\n",
    "Sem variabilidade drop\n",
    "\n",
    "15 - Exterior1st cobertura exterior\n",
    "De 16 categorias sem variabilidade foi criado 3 clusters com variabilidade p-value considerável.\n",
    "\n",
    "16 - Exterior2nd cobertura exterior quando tem mais de um material.\n",
    "Reduzido dimensionalidade para 3 categorias de acordo com a AgglomerativeClustering pela media das caracteristicas\n",
    "até atingir p-value ANOVA relevante.\n",
    "\n",
    "17 - MasVnrType - tipo de foleado alvenaria\n",
    "São 4 categorias. Sendo todas com boa significância. Só a união entre None e BrkCmn já deixa a variável com media significativa\n",
    "em relação ao SalePrice. São 15 registros classficados como BrkCmn que não tem significativa separação com None.\n",
    "\n",
    "18 - ExterQual - Qualidade do material externo\n",
    "Todos são significativos.\n",
    "** Testar como ordinal \n",
    "\n",
    "19 - ExterCond - Qualidade do material externo atual\n",
    "Das 5 caracteristicas foram reduzidadas para 2.\n",
    "** Testar como ordinal e binária\n",
    "\n",
    "20 - Foundation - Tipo de fundação\n",
    "Das 6 caracteristicas foram reduzidadas para 3.\n",
    "\n",
    "21 - BsmtQual - altura porão\n",
    "Temos 5 classificações: NA-Sem porão e em ordem crescente de tamanho: FA, TA, GD, EX. Quando tem um porão de qualidade FA\n",
    "o SalePrice é mais proximo de não ter porão do que porão TA. Apesar de melhorar a relação ao preço não parece uma boa\n",
    "alternativa essa união.\n",
    "** Testar como ordinal\n",
    "\n",
    "22 - BsmtCond - Condição porão\n",
    "Temos 5 classificações. Sem porão tem um SalePrice melhor do que ter um porão ruim. Tratar como ordinal ficaria confusa a relação com SalePrice.\n",
    "Unir classificação sem porão com porão ruim não parece adequada, mas pode ser uma tentativa futura.\n",
    "Não mudou nada até novos testes\n",
    "\n",
    "23- BsmtExposure - exposição externa do porão\n",
    "Reduzido 1 classificação Mn para Av. demais satisfatórias.\n",
    "** Testar como ordinal\n",
    "\n",
    "24 - BsmtFinType1 - Classificação da area acabada\n",
    "São 7 classificações, poderiam ser ordenadas mas a ordem não respeita a relação com SalePrice. Foi reduzido para 4 categorias.\n",
    "\n",
    "25 - BsmtFinType2 - Classificação da area acabada quando tem mais de uma area\n",
    "São 7 classificações. Não tem uma correlação com sentido com a variável target.\n",
    "Será drop. Depois pode tentar uma alternativa de clustering para teste de performance.\n",
    "\n",
    "26 - Heating - Tipo de aquecimento\n",
    "A maioria está classificado em 1 categoria e sem muita relação com o SalePrice.\n",
    "Será drop. Depois pode tentar uma alternativa de clustering para teste de performance.\n",
    "\n",
    "27 - HeatingQC - Ordinal que analisa qualidade e condições do tipo de aquecimento\n",
    "clustering para 4 categorias. Apesar de parecer melhor unir em 3 categorias pela relação com saleprice.\n",
    "Não parece aceitavel unir algo que foi categorizado com ruim com algo na média.\n",
    "** Testar como ordinal\n",
    "\n",
    "28 - CentralAir Se possui ar central\n",
    "Variável binária.\n",
    "\n",
    "29 - Electrical - Tipo de sistema eletrico\n",
    "A maioria está classificado em 1 categoria e sem muita relação com o SalePrice.\n",
    "Será drop. Depois pode tentar uma alternativa de clustering para teste de performance.\n",
    "\n",
    "30 - KitchenQual - Qualidade cozinha ordinal\n",
    "Estão em 4 categorias já significativas. sem alteração\n",
    "\n",
    "31 - Functional\n",
    "A maioria está classificado em 1 categoria e sem muita relação com o SalePrice.\n",
    "Será drop. Depois pode tentar uma alternativa de clustering para teste de performance.\n",
    "\n",
    "32 - GarageType Tipo de garagem\n",
    "Clustering de 7 para 4 categorias. Não parece ser ordinal\n",
    "\n",
    "33 - GarageFinish Interior garagem ordinal\n",
    "Sem modificações já padronizada\n",
    "** Testar como ordinal\n",
    "\n",
    "34 - GarageQual qualidade da garagem ordinal\n",
    "Clustering de 6 para 3 categorias.\n",
    "** Testar como ordinal\n",
    "\n",
    "35 - GarageCond condição da garagem\n",
    "A maioria está classificado em 1 categoria e sem muita relação com o SalePrice.\n",
    "Será drop. Depois pode tentar uma alternativa de clustering para teste de performance.\n",
    "\n",
    "36 - PavedDrive Calçada pavimentada\n",
    "3 classificações. O parcial e o não pavimentada não tem grandes diferenças será unido e a variável fica binária.\n",
    "\n",
    "37 - SaleType tipo de venda\n",
    "Sem muita variação e relação com SalePrice\n",
    "Será drop. Depois pode tentar uma alternativa de clustering para teste de performance.\n",
    "\n",
    "38 - SaleCondition\n",
    "Feature de dificil categorização. Caracteristicas diferentes uma das outra que não tem muita correlação com SalePrice\n",
    "Será drop. Depois pode tentar uma alternativa de clustering para teste de performance."
   ]
  },
  {
   "cell_type": "code",
   "execution_count": 162,
   "metadata": {},
   "outputs": [
    {
     "data": {
      "text/html": [
       "<div>\n",
       "<style scoped>\n",
       "    .dataframe tbody tr th:only-of-type {\n",
       "        vertical-align: middle;\n",
       "    }\n",
       "\n",
       "    .dataframe tbody tr th {\n",
       "        vertical-align: top;\n",
       "    }\n",
       "\n",
       "    .dataframe thead th {\n",
       "        text-align: right;\n",
       "    }\n",
       "</style>\n",
       "<table border=\"1\" class=\"dataframe\">\n",
       "  <thead>\n",
       "    <tr style=\"text-align: right;\">\n",
       "      <th></th>\n",
       "      <th>GarageType</th>\n",
       "      <th>SalePrice</th>\n",
       "    </tr>\n",
       "  </thead>\n",
       "  <tbody>\n",
       "    <tr>\n",
       "      <th>0</th>\n",
       "      <td>Attchd</td>\n",
       "      <td>208500.0</td>\n",
       "    </tr>\n",
       "    <tr>\n",
       "      <th>1</th>\n",
       "      <td>Attchd</td>\n",
       "      <td>181500.0</td>\n",
       "    </tr>\n",
       "    <tr>\n",
       "      <th>2</th>\n",
       "      <td>Attchd</td>\n",
       "      <td>223500.0</td>\n",
       "    </tr>\n",
       "    <tr>\n",
       "      <th>3</th>\n",
       "      <td>Detchd</td>\n",
       "      <td>140000.0</td>\n",
       "    </tr>\n",
       "    <tr>\n",
       "      <th>4</th>\n",
       "      <td>Attchd</td>\n",
       "      <td>250000.0</td>\n",
       "    </tr>\n",
       "    <tr>\n",
       "      <th>...</th>\n",
       "      <td>...</td>\n",
       "      <td>...</td>\n",
       "    </tr>\n",
       "    <tr>\n",
       "      <th>1455</th>\n",
       "      <td>Attchd</td>\n",
       "      <td>175000.0</td>\n",
       "    </tr>\n",
       "    <tr>\n",
       "      <th>1456</th>\n",
       "      <td>Attchd</td>\n",
       "      <td>210000.0</td>\n",
       "    </tr>\n",
       "    <tr>\n",
       "      <th>1457</th>\n",
       "      <td>Attchd</td>\n",
       "      <td>266500.0</td>\n",
       "    </tr>\n",
       "    <tr>\n",
       "      <th>1458</th>\n",
       "      <td>Attchd</td>\n",
       "      <td>142125.0</td>\n",
       "    </tr>\n",
       "    <tr>\n",
       "      <th>1459</th>\n",
       "      <td>Attchd</td>\n",
       "      <td>147500.0</td>\n",
       "    </tr>\n",
       "  </tbody>\n",
       "</table>\n",
       "<p>1460 rows × 2 columns</p>\n",
       "</div>"
      ],
      "text/plain": [
       "     GarageType  SalePrice\n",
       "0        Attchd   208500.0\n",
       "1        Attchd   181500.0\n",
       "2        Attchd   223500.0\n",
       "3        Detchd   140000.0\n",
       "4        Attchd   250000.0\n",
       "...         ...        ...\n",
       "1455     Attchd   175000.0\n",
       "1456     Attchd   210000.0\n",
       "1457     Attchd   266500.0\n",
       "1458     Attchd   142125.0\n",
       "1459     Attchd   147500.0\n",
       "\n",
       "[1460 rows x 2 columns]"
      ]
     },
     "execution_count": 162,
     "metadata": {},
     "output_type": "execute_result"
    }
   ],
   "source": [
    "dbfilter = all_data[(~all_data['GarageType'].isnull()) & (all_data['SalePrice'] > 0)][['GarageType','SalePrice']] \n",
    "dbfilter"
   ]
  },
  {
   "cell_type": "code",
   "execution_count": 163,
   "metadata": {},
   "outputs": [
    {
     "data": {
      "text/plain": [
       "GarageType\n",
       "Attchd     870\n",
       "BuiltIn     88\n",
       "Detchd     412\n",
       "NA          90\n",
       "Name: SalePrice, dtype: int64"
      ]
     },
     "execution_count": 163,
     "metadata": {},
     "output_type": "execute_result"
    }
   ],
   "source": [
    "dbfilter['GarageType'].unique()\n",
    "\n",
    "dbfilter.groupby([\"GarageType\"])[\"SalePrice\"].count()"
   ]
  },
  {
   "cell_type": "code",
   "execution_count": 135,
   "metadata": {},
   "outputs": [
    {
     "ename": "KeyError",
     "evalue": "'Ex'",
     "output_type": "error",
     "traceback": [
      "\u001b[1;31m---------------------------------------------------------------------------\u001b[0m",
      "\u001b[1;31mKeyError\u001b[0m                                  Traceback (most recent call last)",
      "\u001b[1;32m<ipython-input-135-53662a3a7810>\u001b[0m in \u001b[0;36m<module>\u001b[1;34m\u001b[0m\n\u001b[0;32m      1\u001b[0m \u001b[0mgrouped_anova\u001b[0m \u001b[1;33m=\u001b[0m \u001b[0mdbfilter\u001b[0m\u001b[1;33m.\u001b[0m\u001b[0mgroupby\u001b[0m\u001b[1;33m(\u001b[0m\u001b[1;33m[\u001b[0m\u001b[1;34m\"PavedDrive\"\u001b[0m\u001b[1;33m]\u001b[0m\u001b[1;33m)\u001b[0m\u001b[1;33m\u001b[0m\u001b[1;33m\u001b[0m\u001b[0m\n\u001b[1;32m----> 2\u001b[1;33m \u001b[0manova_results\u001b[0m \u001b[1;33m=\u001b[0m \u001b[0mstats\u001b[0m\u001b[1;33m.\u001b[0m\u001b[0mf_oneway\u001b[0m\u001b[1;33m(\u001b[0m\u001b[0mgrouped_anova\u001b[0m\u001b[1;33m.\u001b[0m\u001b[0mget_group\u001b[0m\u001b[1;33m(\u001b[0m\u001b[1;34m\"Ex\"\u001b[0m\u001b[1;33m)\u001b[0m\u001b[1;33m[\u001b[0m\u001b[1;34m'SalePrice'\u001b[0m\u001b[1;33m]\u001b[0m\u001b[1;33m,\u001b[0m\u001b[0mgrouped_anova\u001b[0m\u001b[1;33m.\u001b[0m\u001b[0mget_group\u001b[0m\u001b[1;33m(\u001b[0m\u001b[1;34m\"Gd\"\u001b[0m\u001b[1;33m)\u001b[0m\u001b[1;33m[\u001b[0m\u001b[1;34m'SalePrice'\u001b[0m\u001b[1;33m]\u001b[0m\u001b[1;33m)\u001b[0m\u001b[1;33m\u001b[0m\u001b[1;33m\u001b[0m\u001b[0m\n\u001b[0m\u001b[0;32m      3\u001b[0m \u001b[0manova_results\u001b[0m\u001b[1;33m\u001b[0m\u001b[1;33m\u001b[0m\u001b[0m\n",
      "\u001b[1;32m~\\AppData\\Local\\Programs\\Python\\Python38\\lib\\site-packages\\pandas\\core\\groupby\\groupby.py\u001b[0m in \u001b[0;36mget_group\u001b[1;34m(self, name, obj)\u001b[0m\n\u001b[0;32m    678\u001b[0m         \u001b[0minds\u001b[0m \u001b[1;33m=\u001b[0m \u001b[0mself\u001b[0m\u001b[1;33m.\u001b[0m\u001b[0m_get_index\u001b[0m\u001b[1;33m(\u001b[0m\u001b[0mname\u001b[0m\u001b[1;33m)\u001b[0m\u001b[1;33m\u001b[0m\u001b[1;33m\u001b[0m\u001b[0m\n\u001b[0;32m    679\u001b[0m         \u001b[1;32mif\u001b[0m \u001b[1;32mnot\u001b[0m \u001b[0mlen\u001b[0m\u001b[1;33m(\u001b[0m\u001b[0minds\u001b[0m\u001b[1;33m)\u001b[0m\u001b[1;33m:\u001b[0m\u001b[1;33m\u001b[0m\u001b[1;33m\u001b[0m\u001b[0m\n\u001b[1;32m--> 680\u001b[1;33m             \u001b[1;32mraise\u001b[0m \u001b[0mKeyError\u001b[0m\u001b[1;33m(\u001b[0m\u001b[0mname\u001b[0m\u001b[1;33m)\u001b[0m\u001b[1;33m\u001b[0m\u001b[1;33m\u001b[0m\u001b[0m\n\u001b[0m\u001b[0;32m    681\u001b[0m \u001b[1;33m\u001b[0m\u001b[0m\n\u001b[0;32m    682\u001b[0m         \u001b[1;32mreturn\u001b[0m \u001b[0mobj\u001b[0m\u001b[1;33m.\u001b[0m\u001b[0mtake\u001b[0m\u001b[1;33m(\u001b[0m\u001b[0minds\u001b[0m\u001b[1;33m,\u001b[0m \u001b[0maxis\u001b[0m\u001b[1;33m=\u001b[0m\u001b[0mself\u001b[0m\u001b[1;33m.\u001b[0m\u001b[0maxis\u001b[0m\u001b[1;33m)\u001b[0m\u001b[1;33m\u001b[0m\u001b[1;33m\u001b[0m\u001b[0m\n",
      "\u001b[1;31mKeyError\u001b[0m: 'Ex'"
     ]
    }
   ],
   "source": [
    "grouped_anova = dbfilter.groupby([\"PavedDrive\"])\n",
    "anova_results = stats.f_oneway(grouped_anova.get_group(\"Ex\")['SalePrice'],grouped_anova.get_group(\"Gd\")['SalePrice'])\n",
    "anova_results"
   ]
  },
  {
   "cell_type": "code",
   "execution_count": 157,
   "metadata": {},
   "outputs": [
    {
     "name": "stdout",
     "output_type": "stream",
     "text": [
      "      Multiple Comparison of Means - Tukey HSD, FWER=0.05       \n",
      "================================================================\n",
      " group1 group2   meandiff  p-adj     lower       upper    reject\n",
      "----------------------------------------------------------------\n",
      "C (all)     FV 139486.0615  0.001  73849.2883 205122.8348   True\n",
      "C (all)     RH  52147.2265  0.138  -10249.277   114543.73  False\n",
      "C (all)     RL 116476.9948  0.001  55107.6174 177846.3722   True\n",
      "     FV     RH  -87338.835  0.001 -114431.034 -60246.6361   True\n",
      "     FV     RL -23009.0668 0.0772 -47643.6782   1625.5447  False\n",
      "     RH     RL  64329.7683  0.001  50473.2996   78186.237   True\n",
      "----------------------------------------------------------------\n",
      "['C (all)' 'FV' 'RH' 'RL']\n"
     ]
    }
   ],
   "source": [
    "mc = MultiComparison(dbfilter['SalePrice'], dbfilter['MSZoning'])\n",
    "result = mc.tukeyhsd()\n",
    " \n",
    "print(result.summary())\n",
    "print(mc.groupsunique)"
   ]
  },
  {
   "cell_type": "code",
   "execution_count": 159,
   "metadata": {},
   "outputs": [
    {
     "data": {
      "text/plain": [
       "<matplotlib.axes._subplots.AxesSubplot at 0x1f551e8b9a0>"
      ]
     },
     "execution_count": 159,
     "metadata": {},
     "output_type": "execute_result"
    },
    {
     "data": {
      "image/png": "[encoded data removed]",
      "text/plain": [
       "<Figure size 842.4x595.44 with 1 Axes>"
      ]
     },
     "metadata": {
      "needs_background": "light"
     },
     "output_type": "display_data"
    }
   ],
   "source": [
    "a4_dims = (11.7, 8.27)\n",
    "fig, ax = plt.subplots(figsize=a4_dims)\n",
    "grafico = dbfilter.groupby('MSZoning')['SalePrice'].mean().to_frame(name = 'Media').reset_index().sort_values('Media',ascending=True) \n",
    "grafico\n",
    "sns.barplot(ax=ax,data=grafico,x='MSZoning', y='Media')"
   ]
  },
  {
   "cell_type": "code",
   "execution_count": 588,
   "metadata": {},
   "outputs": [
    {
     "data": {
      "text/html": [
       "<div>\n",
       "<style scoped>\n",
       "    .dataframe tbody tr th:only-of-type {\n",
       "        vertical-align: middle;\n",
       "    }\n",
       "\n",
       "    .dataframe tbody tr th {\n",
       "        vertical-align: top;\n",
       "    }\n",
       "\n",
       "    .dataframe thead th {\n",
       "        text-align: right;\n",
       "    }\n",
       "</style>\n",
       "<table border=\"1\" class=\"dataframe\">\n",
       "  <thead>\n",
       "    <tr style=\"text-align: right;\">\n",
       "      <th></th>\n",
       "      <th>Exterior2nd</th>\n",
       "      <th>SalePrice</th>\n",
       "      <th>media</th>\n",
       "    </tr>\n",
       "  </thead>\n",
       "  <tbody>\n",
       "    <tr>\n",
       "      <th>0</th>\n",
       "      <td>VinylSd</td>\n",
       "      <td>208500.0</td>\n",
       "      <td>216024.566667</td>\n",
       "    </tr>\n",
       "    <tr>\n",
       "      <th>1</th>\n",
       "      <td>Wd Shng</td>\n",
       "      <td>181500.0</td>\n",
       "      <td>156430.472093</td>\n",
       "    </tr>\n",
       "    <tr>\n",
       "      <th>2</th>\n",
       "      <td>VinylSd</td>\n",
       "      <td>223500.0</td>\n",
       "      <td>216024.566667</td>\n",
       "    </tr>\n",
       "    <tr>\n",
       "      <th>3</th>\n",
       "      <td>Wd Shng</td>\n",
       "      <td>140000.0</td>\n",
       "      <td>156430.472093</td>\n",
       "    </tr>\n",
       "    <tr>\n",
       "      <th>4</th>\n",
       "      <td>VinylSd</td>\n",
       "      <td>250000.0</td>\n",
       "      <td>216024.566667</td>\n",
       "    </tr>\n",
       "    <tr>\n",
       "      <th>...</th>\n",
       "      <td>...</td>\n",
       "      <td>...</td>\n",
       "      <td>...</td>\n",
       "    </tr>\n",
       "    <tr>\n",
       "      <th>1455</th>\n",
       "      <td>VinylSd</td>\n",
       "      <td>175000.0</td>\n",
       "      <td>216024.566667</td>\n",
       "    </tr>\n",
       "    <tr>\n",
       "      <th>1456</th>\n",
       "      <td>Wd Shng</td>\n",
       "      <td>210000.0</td>\n",
       "      <td>156430.472093</td>\n",
       "    </tr>\n",
       "    <tr>\n",
       "      <th>1457</th>\n",
       "      <td>VinylSd</td>\n",
       "      <td>266500.0</td>\n",
       "      <td>216024.566667</td>\n",
       "    </tr>\n",
       "    <tr>\n",
       "      <th>1458</th>\n",
       "      <td>Wd Shng</td>\n",
       "      <td>142125.0</td>\n",
       "      <td>156430.472093</td>\n",
       "    </tr>\n",
       "    <tr>\n",
       "      <th>1459</th>\n",
       "      <td>Wd Shng</td>\n",
       "      <td>147500.0</td>\n",
       "      <td>156430.472093</td>\n",
       "    </tr>\n",
       "  </tbody>\n",
       "</table>\n",
       "<p>1460 rows × 3 columns</p>\n",
       "</div>"
      ],
      "text/plain": [
       "     Exterior2nd  SalePrice          media\n",
       "0        VinylSd   208500.0  216024.566667\n",
       "1        Wd Shng   181500.0  156430.472093\n",
       "2        VinylSd   223500.0  216024.566667\n",
       "3        Wd Shng   140000.0  156430.472093\n",
       "4        VinylSd   250000.0  216024.566667\n",
       "...          ...        ...            ...\n",
       "1455     VinylSd   175000.0  216024.566667\n",
       "1456     Wd Shng   210000.0  156430.472093\n",
       "1457     VinylSd   266500.0  216024.566667\n",
       "1458     Wd Shng   142125.0  156430.472093\n",
       "1459     Wd Shng   147500.0  156430.472093\n",
       "\n",
       "[1460 rows x 3 columns]"
      ]
     },
     "execution_count": 588,
     "metadata": {},
     "output_type": "execute_result"
    }
   ],
   "source": [
    "dbfilter"
   ]
  },
  {
   "cell_type": "code",
   "execution_count": 87,
   "metadata": {},
   "outputs": [
    {
     "data": {
      "text/html": [
       "<div>\n",
       "<style scoped>\n",
       "    .dataframe tbody tr th:only-of-type {\n",
       "        vertical-align: middle;\n",
       "    }\n",
       "\n",
       "    .dataframe tbody tr th {\n",
       "        vertical-align: top;\n",
       "    }\n",
       "\n",
       "    .dataframe thead th {\n",
       "        text-align: right;\n",
       "    }\n",
       "</style>\n",
       "<table border=\"1\" class=\"dataframe\">\n",
       "  <thead>\n",
       "    <tr style=\"text-align: right;\">\n",
       "      <th></th>\n",
       "      <th>PoolQC</th>\n",
       "      <th>SalePrice</th>\n",
       "    </tr>\n",
       "  </thead>\n",
       "  <tbody>\n",
       "    <tr>\n",
       "      <th>197</th>\n",
       "      <td>Ex</td>\n",
       "      <td>235000.0</td>\n",
       "    </tr>\n",
       "    <tr>\n",
       "      <th>1182</th>\n",
       "      <td>Ex</td>\n",
       "      <td>745000.0</td>\n",
       "    </tr>\n",
       "    <tr>\n",
       "      <th>1974</th>\n",
       "      <td>Ex</td>\n",
       "      <td>NaN</td>\n",
       "    </tr>\n",
       "    <tr>\n",
       "      <th>2573</th>\n",
       "      <td>Ex</td>\n",
       "      <td>NaN</td>\n",
       "    </tr>\n",
       "  </tbody>\n",
       "</table>\n",
       "</div>"
      ],
      "text/plain": [
       "     PoolQC  SalePrice\n",
       "197      Ex   235000.0\n",
       "1182     Ex   745000.0\n",
       "1974     Ex        NaN\n",
       "2573     Ex        NaN"
      ]
     },
     "execution_count": 87,
     "metadata": {},
     "output_type": "execute_result"
    }
   ],
   "source": [
    "all_data[(all_data['PoolQC'] == 'Ex')][['PoolQC', 'SalePrice']]"
   ]
  },
  {
   "cell_type": "code",
   "execution_count": 170,
   "metadata": {},
   "outputs": [
    {
     "data": {
      "text/html": [
       "<div>\n",
       "<style scoped>\n",
       "    .dataframe tbody tr th:only-of-type {\n",
       "        vertical-align: middle;\n",
       "    }\n",
       "\n",
       "    .dataframe tbody tr th {\n",
       "        vertical-align: top;\n",
       "    }\n",
       "\n",
       "    .dataframe thead th {\n",
       "        text-align: right;\n",
       "    }\n",
       "</style>\n",
       "<table border=\"1\" class=\"dataframe\">\n",
       "  <thead>\n",
       "    <tr style=\"text-align: right;\">\n",
       "      <th></th>\n",
       "      <th>FireplaceQu</th>\n",
       "      <th>SalePrice</th>\n",
       "      <th>Fireplaces</th>\n",
       "      <th>FireplaceQuFireplaces</th>\n",
       "    </tr>\n",
       "  </thead>\n",
       "  <tbody>\n",
       "    <tr>\n",
       "      <th>FireplaceQu</th>\n",
       "      <td>1.000000</td>\n",
       "      <td>0.520438</td>\n",
       "      <td>0.863241</td>\n",
       "      <td>0.903035</td>\n",
       "    </tr>\n",
       "    <tr>\n",
       "      <th>SalePrice</th>\n",
       "      <td>0.520438</td>\n",
       "      <td>1.000000</td>\n",
       "      <td>0.466929</td>\n",
       "      <td>0.510043</td>\n",
       "    </tr>\n",
       "    <tr>\n",
       "      <th>Fireplaces</th>\n",
       "      <td>0.863241</td>\n",
       "      <td>0.466929</td>\n",
       "      <td>1.000000</td>\n",
       "      <td>0.961538</td>\n",
       "    </tr>\n",
       "    <tr>\n",
       "      <th>FireplaceQuFireplaces</th>\n",
       "      <td>0.903035</td>\n",
       "      <td>0.510043</td>\n",
       "      <td>0.961538</td>\n",
       "      <td>1.000000</td>\n",
       "    </tr>\n",
       "  </tbody>\n",
       "</table>\n",
       "</div>"
      ],
      "text/plain": [
       "                       FireplaceQu  SalePrice  Fireplaces  \\\n",
       "FireplaceQu               1.000000   0.520438    0.863241   \n",
       "SalePrice                 0.520438   1.000000    0.466929   \n",
       "Fireplaces                0.863241   0.466929    1.000000   \n",
       "FireplaceQuFireplaces     0.903035   0.510043    0.961538   \n",
       "\n",
       "                       FireplaceQuFireplaces  \n",
       "FireplaceQu                         0.903035  \n",
       "SalePrice                           0.510043  \n",
       "Fireplaces                          0.961538  \n",
       "FireplaceQuFireplaces               1.000000  "
      ]
     },
     "execution_count": 170,
     "metadata": {},
     "output_type": "execute_result"
    }
   ],
   "source": [
    "dbfilter[(dbfilter['SalePrice']>0)].corr()"
   ]
  },
  {
   "cell_type": "code",
   "execution_count": 46,
   "metadata": {},
   "outputs": [
    {
     "data": {
      "text/plain": [
       "array([[   65.,  8450.],\n",
       "       [   80.,  9600.],\n",
       "       [   68., 11250.],\n",
       "       ...,\n",
       "       [   66.,  9042.],\n",
       "       [   68.,  9717.],\n",
       "       [   75.,  9937.]])"
      ]
     },
     "execution_count": 46,
     "metadata": {},
     "output_type": "execute_result"
    },
    {
     "data": {
      "image/png": "[encoded data removed]",
      "text/plain": [
       "<Figure size 360x360 with 1 Axes>"
      ]
     },
     "metadata": {
      "needs_background": "light"
     },
     "output_type": "display_data"
    }
   ],
   "source": [
    "sns.lmplot(x='LotArea',y='SalePrice',data=dbfilter)\n",
    "#sns.lmplot(x='LotFrontage',y='SalePrice',data=dbfilter)\n",
    "dbfilter\n",
    "dbfilter.iloc[:, [0,2]].values"
   ]
  },
  {
   "cell_type": "code",
   "execution_count": 631,
   "metadata": {},
   "outputs": [
    {
     "data": {
      "text/plain": [
       "0       VinylSd\n",
       "1       Wd Sdng\n",
       "2       VinylSd\n",
       "3       Wd Shng\n",
       "4       VinylSd\n",
       "         ...   \n",
       "2914      Other\n",
       "2915      Other\n",
       "2916    VinylSd\n",
       "2917    Wd Shng\n",
       "2918    Wd Shng\n",
       "Name: Cluster, Length: 2919, dtype: object"
      ]
     },
     "execution_count": 631,
     "metadata": {},
     "output_type": "execute_result"
    }
   ],
   "source": [
    "\"\"\"\n",
    "import scipy.cluster.hierarchy as sch\n",
    "dendrogram = sch.dendrogram(sch.linkage(grafico['MediaBairro'], method  = \"ward\"))\n",
    "plt.title('Dendrogram')\n",
    "plt.xlabel('Customers')\n",
    "plt.ylabel('Euclidean distances')\n",
    "plt.show()\n",
    "\"\"\"\n",
    "all_data['Cluster'].map(mean_encode).copy()"
   ]
  },
  {
   "cell_type": "code",
   "execution_count": 629,
   "metadata": {},
   "outputs": [
    {
     "data": {
      "text/plain": [
       "Cluster\n",
       "0    Wd Sdng\n",
       "1    VinylSd\n",
       "2    Wd Shng\n",
       "3      Other\n",
       "Name: Exterior2nd, dtype: object"
      ]
     },
     "execution_count": 629,
     "metadata": {},
     "output_type": "execute_result"
    }
   ],
   "source": [
    "dbfilter = all_data[(~all_data['Exterior2nd'].isnull()) & (all_data['SalePrice'] > 0)][['Exterior2nd','SalePrice']].copy()\n",
    "dbfilter['media']=all_data['Exterior2nd'].map(dbfilter.groupby([\"Exterior2nd\"])[\"SalePrice\"].mean())\n",
    "dbfilter2 = dbfilter.copy()\n",
    "#dbfilter2 = train.groupby('Exterior2nd')['SalePrice'].median().to_frame(name = 'Media').reset_index().sort_values('Media',ascending=True).copy()\n",
    "#dbfilter2['media'] = np.log1p(dbfilter2['media']).copy()\n",
    "X = dbfilter2.iloc[:, [2,2]].values\n",
    "X = StandardScaler().fit_transform(X)\n",
    "hc = AgglomerativeClustering(n_clusters = 3, affinity = 'euclidean', linkage ='ward')\n",
    "y_hc=hc.fit_predict(X)\n",
    "dbfilter2['Cluster'] = y_hc\n",
    "mean_encode = dbfilter2.groupby('Exterior2nd')['Cluster'].max().copy()\n",
    "all_data['Cluster'] = all_data['Exterior2nd'].map(mean_encode).copy()\n",
    "mean_encode = dbfilter2.groupby('Cluster')['Exterior2nd'].max().copy()\n",
    "all_data['Exterior2nd'] = all_data['Cluster'].map(mean_encode).copy()\n",
    "mean_encode"
   ]
  },
  {
   "cell_type": "code",
   "execution_count": 536,
   "metadata": {
    "scrolled": true
   },
   "outputs": [
    {
     "data": {
      "text/plain": [
       "<matplotlib.axes._subplots.AxesSubplot at 0x2dd0dde5a60>"
      ]
     },
     "execution_count": 536,
     "metadata": {},
     "output_type": "execute_result"
    },
    {
     "data": {
      "image/png": "[encoded data removed]",
      "text/plain": [
       "<Figure size 432x288 with 1 Axes>"
      ]
     },
     "metadata": {
      "needs_background": "light"
     },
     "output_type": "display_data"
    }
   ],
   "source": [
    "sns.boxplot(x='Exterior2nd',y='SalePrice',data=dbfilter)\n"
   ]
  },
  {
   "cell_type": "code",
   "execution_count": 636,
   "metadata": {},
   "outputs": [
    {
     "data": {
      "image/png": "[encoded data removed]",
      "text/plain": [
       "<Figure size 432x288 with 1 Axes>"
      ]
     },
     "metadata": {
      "needs_background": "light"
     },
     "output_type": "display_data"
    }
   ],
   "source": [
    "clusters = np.unique(y_hc)\n",
    "# create scatter plot for samples from each cluster\n",
    "for cluster in clusters:\n",
    "    \n",
    "    # get row indexes for samples with this cluster\n",
    "    row_ix = np.where(y_hc == cluster)\n",
    "    # create scatter of these samples\n",
    "    plt.scatter(X[row_ix, 1], X[row_ix, 1])\n",
    "# show the plot\n",
    "plt.show()"
   ]
  },
  {
   "cell_type": "code",
   "execution_count": 494,
   "metadata": {},
   "outputs": [
    {
     "data": {
      "image/png": "[encoded data removed]",
      "text/plain": [
       "<Figure size 432x288 with 1 Axes>"
      ]
     },
     "metadata": {
      "needs_background": "light"
     },
     "output_type": "display_data"
    }
   ],
   "source": [
    "hc = DBSCAN(eps=0.9, min_samples=10)\n",
    "y_hc=hc.fit_predict(X)\n",
    "clusters = np.unique(y_hc)\n",
    "# create scatter plot for samples from each cluster\n",
    "for cluster in clusters:\n",
    "    \n",
    "    # get row indexes for samples with this cluster\n",
    "    row_ix = np.where(y_hc == cluster)\n",
    "    # create scatter of these samples\n",
    "    plt.scatter(X[row_ix, 1], X[row_ix, 1])\n",
    "# show the plot\n",
    "plt.show()"
   ]
  },
  {
   "cell_type": "code",
   "execution_count": 741,
   "metadata": {},
   "outputs": [
    {
     "name": "stdout",
     "output_type": "stream",
     "text": [
      "(0, 'Ex')\n",
      "(0, 'Gd')\n",
      "(0, 'TA')\n",
      "(1, 'Fa')\n",
      "(1, 'Po')\n"
     ]
    }
   ],
   "source": [
    "for x,y in dbfilter2.groupby(['Cluster','ExterCond']):\n",
    "    print(x)"
   ]
  },
  {
   "cell_type": "code",
   "execution_count": 186,
   "metadata": {},
   "outputs": [],
   "source": [
    "\n",
    "all_data[\"LotFrontage\"] = all_data.groupby(\"ClusterLotArea\")[\"LotFrontage\"].transform(\n",
    "    lambda x: x.fillna(x.median()))"
   ]
  },
  {
   "cell_type": "code",
   "execution_count": 58,
   "metadata": {},
   "outputs": [
    {
     "data": {
      "text/plain": [
       "array([2, 2, 2, 5, 5, 5, 3, 3, 3, 3, 3, 3, 1, 1, 1, 1, 1, 1, 1, 4, 4, 4,\n",
       "       0, 0, 0], dtype=int64)"
      ]
     },
     "execution_count": 58,
     "metadata": {},
     "output_type": "execute_result"
    }
   ],
   "source": [
    "y_hc"
   ]
  },
  {
   "cell_type": "code",
   "execution_count": 78,
   "metadata": {},
   "outputs": [
    {
     "data": {
      "text/html": [
       "<div>\n",
       "<style scoped>\n",
       "    .dataframe tbody tr th:only-of-type {\n",
       "        vertical-align: middle;\n",
       "    }\n",
       "\n",
       "    .dataframe tbody tr th {\n",
       "        vertical-align: top;\n",
       "    }\n",
       "\n",
       "    .dataframe thead th {\n",
       "        text-align: right;\n",
       "    }\n",
       "</style>\n",
       "<table border=\"1\" class=\"dataframe\">\n",
       "  <thead>\n",
       "    <tr style=\"text-align: right;\">\n",
       "      <th></th>\n",
       "      <th></th>\n",
       "      <th>Short name</th>\n",
       "    </tr>\n",
       "    <tr>\n",
       "      <th>Country</th>\n",
       "      <th>City</th>\n",
       "      <th></th>\n",
       "    </tr>\n",
       "  </thead>\n",
       "  <tbody>\n",
       "    <tr>\n",
       "      <th>Russia</th>\n",
       "      <th>Sankt-Petersburg</th>\n",
       "      <td>Spb</td>\n",
       "    </tr>\n",
       "    <tr>\n",
       "      <th>USA</th>\n",
       "      <th>New-York</th>\n",
       "      <td>NY</td>\n",
       "    </tr>\n",
       "  </tbody>\n",
       "</table>\n",
       "</div>"
      ],
      "text/plain": [
       "                         Short name\n",
       "Country City                       \n",
       "Russia  Sankt-Petersburg        Spb\n",
       "USA     New-York                 NY"
      ]
     },
     "execution_count": 78,
     "metadata": {},
     "output_type": "execute_result"
    }
   ],
   "source": [
    "\n",
    "source = pd.DataFrame({'Country' : ['USA', 'USA', 'Russia','USA'], \n",
    "                  'City' : ['New-York', 'New-York', 'Sankt-Petersburg', 'New-York'],\n",
    "                  'Short name' : ['NY','New','Spb','NY']})\n",
    "\n",
    "source.groupby(['Country','City']).agg(lambda x:x.value_counts().index[0])"
   ]
  },
  {
   "cell_type": "code",
   "execution_count": 406,
   "metadata": {},
   "outputs": [
    {
     "data": {
      "image/png": "[encoded data removed]",
      "text/plain": [
       "<Figure size 432x288 with 1 Axes>"
      ]
     },
     "metadata": {
      "needs_background": "light"
     },
     "output_type": "display_data"
    }
   ],
   "source": [
    "\n",
    "dbfilter2['Media'] = np.log1p(dbfilter2['Media']).copy()\n",
    "sns.distplot(dbfilter2['Media'] , fit=norm);"
   ]
  },
  {
   "cell_type": "code",
   "execution_count": 450,
   "metadata": {},
   "outputs": [
    {
     "data": {
      "text/plain": [
       "array(['Wd Shng', 'Other', 'CBlock'], dtype=object)"
      ]
     },
     "execution_count": 450,
     "metadata": {},
     "output_type": "execute_result"
    }
   ],
   "source": [
    "all_data['Exterior2nd'].unique()"
   ]
  },
  {
   "cell_type": "code",
   "execution_count": 410,
   "metadata": {},
   "outputs": [
    {
     "data": {
      "text/plain": [
       "<matplotlib.axes._subplots.AxesSubplot at 0x2dd0ba6fd30>"
      ]
     },
     "execution_count": 410,
     "metadata": {},
     "output_type": "execute_result"
    },
    {
     "data": {
      "image/png": "[encoded data removed]",
      "text/plain": [
       "<Figure size 842.4x595.44 with 1 Axes>"
      ]
     },
     "metadata": {
      "needs_background": "light"
     },
     "output_type": "display_data"
    }
   ],
   "source": [
    "a4_dims = (11.7, 8.27)\n",
    "fig, ax = plt.subplots(figsize=a4_dims)\n",
    "sns.barplot(ax=ax,data=dbfilter2,x='Exterior1st', y='Media')"
   ]
  }
 ],
 "metadata": {
  "kernelspec": {
   "display_name": "Python 3.8.0 64-bit",
   "language": "python",
   "name": "python38064bit89dc14be3fab4c2eaace80ffa1d6b33e"
  },
  "language_info": {
   "codemirror_mode": {
    "name": "ipython",
    "version": 3
   },
   "file_extension": ".py",
   "mimetype": "text/x-python",
   "name": "python",
   "nbconvert_exporter": "python",
   "pygments_lexer": "ipython3",
   "version": "3.8.0"
  }
 },
 "nbformat": 4,
 "nbformat_minor": 4
}
